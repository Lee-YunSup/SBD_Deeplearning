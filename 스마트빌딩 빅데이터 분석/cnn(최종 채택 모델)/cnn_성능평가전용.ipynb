{
 "cells": [
  {
   "attachments": {},
   "cell_type": "markdown",
   "metadata": {
    "id": "Hxyyamc-D4Wx"
   },
   "source": [
    "---\n",
    "# 본 ipynb파일은 CNN 예측모델 성능평가 전용 파일입니다.  \n",
    "\n",
    "###  * train_data.csv와 test_data.csv의 전처리 과정과 모델 평가 함수를 담고 있습니다.\n",
    "\n",
    "###  * train_data.csv, test_data.csv, 0.7947479486465454_cnn.h5 파일을 요구합니다.\n",
    "\n",
    "###  * CNN 모델 구축 과정은 'cnn_model.ipynb'에 담겨있습니다.\n",
    "---"
   ]
  },
  {
   "cell_type": "code",
   "execution_count": 1,
   "metadata": {},
   "outputs": [],
   "source": [
    "import pandas as pd\n",
    "from tensorflow import keras\n",
    "import tensorflow as tf\n",
    "import numpy as np\n",
    "import os\n",
    "import random\n",
    "from sklearn.preprocessing import MinMaxScaler\n",
    "from sklearn.model_selection import train_test_split\n",
    "from datetime import datetime, timedelta"
   ]
  },
  {
   "cell_type": "code",
   "execution_count": 2,
   "metadata": {
    "id": "A-FOt9pnD4Ys"
   },
   "outputs": [],
   "source": [
    "train=pd.read_csv(\"./train_data.csv\", encoding='cp949')\n",
    "test=pd.read_csv(\"./test_data.csv\", encoding='cp949')"
   ]
  },
  {
   "cell_type": "code",
   "execution_count": 3,
   "metadata": {
    "id": "UhW3mrPCzeji"
   },
   "outputs": [],
   "source": [
    "train['regdate'] = pd.to_datetime(train['regdate'])\n",
    "start_date = train['regdate'].min()  \n",
    "end_date = train['regdate'].max() \n",
    "current_date = start_date \n",
    "for i in range(len(train)):\n",
    "    if pd.isnull(train.loc[i, 'regdate']):\n",
    "        train.loc[i, 'regdate'] = current_date\n",
    "    current_date += timedelta(minutes=1)\n",
    "    if current_date > end_date:\n",
    "        current_date = start_date"
   ]
  },
  {
   "cell_type": "code",
   "execution_count": 4,
   "metadata": {
    "id": "DUDX5cjizejj"
   },
   "outputs": [],
   "source": [
    "test['regdate'] = pd.to_datetime(test['regdate'])\n",
    "start_date = test['regdate'].min()  \n",
    "end_date = test['regdate'].max() \n",
    "current_date = start_date  \n",
    "for i in range(len(test)):\n",
    "    if pd.isnull(test.loc[i, 'regdate']):\n",
    "        test.loc[i, 'regdate'] = current_date\n",
    "    current_date += timedelta(minutes=1)\n",
    "    if current_date > end_date:\n",
    "        current_date = start_date"
   ]
  },
  {
   "cell_type": "code",
   "execution_count": 5,
   "metadata": {
    "id": "7mNBIEnazejk"
   },
   "outputs": [],
   "source": [
    "daysofweek = []\n",
    "for i in range(len(train)) :\n",
    "    dayweek = train.loc[i, 'regdate'].dayofweek\n",
    "    daysofweek.append(dayweek)\n",
    "\n",
    "train['dayofweek'] = daysofweek"
   ]
  },
  {
   "cell_type": "code",
   "execution_count": 6,
   "metadata": {
    "id": "pofjX7Uizejk"
   },
   "outputs": [],
   "source": [
    "daysofweek = []\n",
    "for i in range(len(test)) :\n",
    "    dayweek = test.loc[i, 'regdate'].dayofweek\n",
    "    daysofweek.append(dayweek)\n",
    "\n",
    "test['dayofweek'] = daysofweek"
   ]
  },
  {
   "cell_type": "code",
   "execution_count": 7,
   "metadata": {
    "id": "eMN2nghYzejl"
   },
   "outputs": [],
   "source": [
    "train['time'] = train['regdate'].dt.strftime('%H:%M').str.split().str[0]\n",
    "train['time'] = train['time'].str.split(':').apply(lambda x: int(x[0]) * 60 + int(x[1]))\n",
    "test['time'] = test['regdate'].dt.strftime('%H:%M').str.split().str[0]\n",
    "test['time'] = test['time'].str.split(':').apply(lambda x: int(x[0]) * 60 + int(x[1]))"
   ]
  },
  {
   "cell_type": "code",
   "execution_count": 8,
   "metadata": {
    "id": "FWIHoWADzejn"
   },
   "outputs": [],
   "source": [
    "def make_area(df) :\n",
    "    date_range = df['regdate'].max() - df['regdate'].min()\n",
    "    lowsbydate = ((date_range.days + 1) * 1440)\n",
    "    group_num = len(train) / lowsbydate\n",
    "    for i in range(int(group_num)):\n",
    "        start_index = i * lowsbydate\n",
    "        end_index = (i + 1) * lowsbydate\n",
    "        df.loc[start_index : end_index, 'area'] = i + 1"
   ]
  },
  {
   "cell_type": "code",
   "execution_count": 9,
   "metadata": {
    "id": "DXnVM3sszejo"
   },
   "outputs": [],
   "source": [
    "train_nona = train.copy()\n",
    "make_area(train_nona)\n",
    "\n",
    "test_nona = test.copy()\n",
    "make_area(test_nona)"
   ]
  },
  {
   "cell_type": "code",
   "execution_count": 10,
   "metadata": {},
   "outputs": [],
   "source": [
    "def replace_missing_with_mean(dataframe, dependent_col, independent_cols):\n",
    "    for col in independent_cols:\n",
    "        mean = dataframe.groupby(dependent_col)[col].transform('mean')\n",
    "        dataframe[col].fillna(mean, inplace=True)"
   ]
  },
  {
   "cell_type": "code",
   "execution_count": 11,
   "metadata": {},
   "outputs": [],
   "source": [
    "f_list=['temp','humi','co2','dust_pm1','dust_pm_25','dust_pm_10','illuminance','voc','eco2','PIR']\n",
    "replace_missing_with_mean(train_nona, 'area', f_list )\n",
    "replace_missing_with_mean(test_nona, 'area', f_list )"
   ]
  },
  {
   "cell_type": "code",
   "execution_count": 12,
   "metadata": {
    "id": "LI5Aji24zeju"
   },
   "outputs": [],
   "source": [
    "X_train = train_nona.drop('재실인원', axis=1)\n",
    "y_train = train_nona['재실인원']\n",
    "X_test = test_nona.drop('재실인원', axis=1)\n",
    "y_test = test_nona['재실인원']"
   ]
  },
  {
   "cell_type": "code",
   "execution_count": 13,
   "metadata": {
    "id": "71oTUBaqWivu"
   },
   "outputs": [],
   "source": [
    "X_train, X_valid, y_train, y_valid = train_test_split(X_train, y_train, test_size=0.25, random_state=42)"
   ]
  },
  {
   "cell_type": "code",
   "execution_count": 14,
   "metadata": {
    "id": "SpvyNfYZzeju"
   },
   "outputs": [],
   "source": [
    "X_train = X_train.drop(['regdate','area','dayofweek'], axis=1)\n",
    "X_valid = X_valid.drop(['regdate','area','dayofweek'], axis=1)\n",
    "X_test = X_test.drop(['regdate','area','dayofweek'], axis=1)"
   ]
  },
  {
   "cell_type": "code",
   "execution_count": 15,
   "metadata": {
    "id": "5LzqU8lQzeju"
   },
   "outputs": [],
   "source": [
    "scaler = MinMaxScaler()\n",
    "X_train = scaler.fit_transform(X_train)\n",
    "X_valid = scaler.transform(X_valid)\n",
    "X_test = scaler.transform(X_test)"
   ]
  },
  {
   "cell_type": "code",
   "execution_count": 16,
   "metadata": {
    "id": "rTMvD-M3zejv"
   },
   "outputs": [],
   "source": [
    "y_train = np.array(y_train)\n",
    "y_valid = np.array(y_valid)\n",
    "y_test = np.array(y_test)"
   ]
  },
  {
   "cell_type": "code",
   "execution_count": 17,
   "metadata": {
    "id": "V0nmtMEkD40m"
   },
   "outputs": [],
   "source": [
    "X_train = np.reshape(X_train, (len(X_train),11,1)).astype(float)\n",
    "X_valid = np.reshape(X_valid, (len(X_valid),11,1)).astype(float)\n",
    "X_test = np.reshape(X_test, (len(X_test),11,1)).astype(float)"
   ]
  },
  {
   "cell_type": "code",
   "execution_count": 18,
   "metadata": {
    "id": "IG8k3T6uzejy"
   },
   "outputs": [],
   "source": [
    "reconstructed_model = keras.models.load_model(\"./model/0.7947479486465454_cnn.h5\")"
   ]
  },
  {
   "attachments": {},
   "cell_type": "markdown",
   "metadata": {
    "id": "DKzhOmP1aBJe"
   },
   "source": [
    "## MSE 값"
   ]
  },
  {
   "cell_type": "code",
   "execution_count": 19,
   "metadata": {
    "id": "2YMJOdRTaBJe"
   },
   "outputs": [
    {
     "name": "stdout",
     "output_type": "stream",
     "text": [
      "2657/2657 [==============================] - 11s 3ms/step - loss: 0.7947 - mean_squared_error: 0.7947\n"
     ]
    },
    {
     "data": {
      "text/plain": [
       "[0.7947479486465454, 0.7947479486465454]"
      ]
     },
     "execution_count": 19,
     "metadata": {},
     "output_type": "execute_result"
    }
   ],
   "source": [
    "reconstructed_model.evaluate(X_test, y_test)"
   ]
  },
  {
   "attachments": {},
   "cell_type": "markdown",
   "metadata": {
    "id": "o-LBSiHdaBJe"
   },
   "source": [
    "## RMSE 값"
   ]
  },
  {
   "cell_type": "code",
   "execution_count": 20,
   "metadata": {
    "id": "6FUVM8Xlzejy"
   },
   "outputs": [
    {
     "name": "stdout",
     "output_type": "stream",
     "text": [
      "2657/2657 [==============================] - 9s 3ms/step - loss: 0.7947 - mean_squared_error: 0.7947\n"
     ]
    },
    {
     "data": {
      "text/plain": [
       "array([0.89148637, 0.89148637])"
      ]
     },
     "execution_count": 20,
     "metadata": {},
     "output_type": "execute_result"
    }
   ],
   "source": [
    "np.sqrt(reconstructed_model.evaluate(X_test, y_test))"
   ]
  }
 ],
 "metadata": {
  "accelerator": "GPU",
  "colab": {
   "gpuType": "T4",
   "provenance": []
  },
  "kernelspec": {
   "display_name": "Python 3 (ipykernel)",
   "language": "python",
   "name": "python3"
  },
  "language_info": {
   "codemirror_mode": {
    "name": "ipython",
    "version": 3
   },
   "file_extension": ".py",
   "mimetype": "text/x-python",
   "name": "python",
   "nbconvert_exporter": "python",
   "pygments_lexer": "ipython3",
   "version": "3.7.16"
  }
 },
 "nbformat": 4,
 "nbformat_minor": 1
}
