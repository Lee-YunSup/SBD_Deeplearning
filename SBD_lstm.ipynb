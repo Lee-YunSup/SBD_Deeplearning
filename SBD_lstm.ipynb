{
 "cells": [
  {
   "cell_type": "code",
   "execution_count": null,
   "metadata": {
    "id": "0GrA5AOFzejZ"
   },
   "outputs": [],
   "source": [
    "import warnings\n",
    "warnings.filterwarnings(action='ignore')"
   ]
  },
  {
   "cell_type": "code",
   "execution_count": null,
   "metadata": {
    "colab": {
     "base_uri": "https://localhost:8080/"
    },
    "id": "V_YvLp6OtGiN",
    "outputId": "e47c0036-da42-4726-d622-2f6e661eb382"
   },
   "outputs": [
    {
     "name": "stdout",
     "output_type": "stream",
     "text": [
      "Looking in indexes: https://pypi.org/simple, https://us-python.pkg.dev/colab-wheels/public/simple/\n",
      "Collecting bayesian-optimization\n",
      "  Downloading bayesian_optimization-1.4.3-py3-none-any.whl (18 kB)\n",
      "Requirement already satisfied: numpy>=1.9.0 in /usr/local/lib/python3.10/dist-packages (from bayesian-optimization) (1.22.4)\n",
      "Requirement already satisfied: scipy>=1.0.0 in /usr/local/lib/python3.10/dist-packages (from bayesian-optimization) (1.10.1)\n",
      "Requirement already satisfied: scikit-learn>=0.18.0 in /usr/local/lib/python3.10/dist-packages (from bayesian-optimization) (1.2.2)\n",
      "Collecting colorama>=0.4.6 (from bayesian-optimization)\n",
      "  Downloading colorama-0.4.6-py2.py3-none-any.whl (25 kB)\n",
      "Requirement already satisfied: joblib>=1.1.1 in /usr/local/lib/python3.10/dist-packages (from scikit-learn>=0.18.0->bayesian-optimization) (1.2.0)\n",
      "Requirement already satisfied: threadpoolctl>=2.0.0 in /usr/local/lib/python3.10/dist-packages (from scikit-learn>=0.18.0->bayesian-optimization) (3.1.0)\n",
      "Installing collected packages: colorama, bayesian-optimization\n",
      "Successfully installed bayesian-optimization-1.4.3 colorama-0.4.6\n"
     ]
    }
   ],
   "source": [
    "!pip install bayesian-optimization"
   ]
  },
  {
   "cell_type": "code",
   "execution_count": null,
   "metadata": {
    "id": "Hxyyamc-D4Wx"
   },
   "outputs": [],
   "source": [
    "import pandas as pd\n",
    "from tensorflow import keras\n",
    "from tensorflow.keras.layers import Dense, Conv1D, Flatten\n",
    "import tensorflow as tf\n",
    "import numpy as np\n",
    "import os\n",
    "import random\n",
    "\n",
    "from sklearn.preprocessing import MinMaxScaler\n",
    "from sklearn.model_selection import train_test_split\n",
    "from datetime import datetime, timedelta\n",
    "from sklearn.preprocessing import OneHotEncoder\n",
    "\n",
    "from bayes_opt import BayesianOptimization"
   ]
  },
  {
   "cell_type": "code",
   "execution_count": null,
   "metadata": {
    "colab": {
     "base_uri": "https://localhost:8080/"
    },
    "id": "A-FOt9pnD4Ys",
    "outputId": "54f0755a-9368-4904-89cb-79696ea9038d"
   },
   "outputs": [
    {
     "name": "stdout",
     "output_type": "stream",
     "text": [
      "/content/drive/MyDrive/Colab Notebooks/스마트빌딩\n"
     ]
    }
   ],
   "source": [
    "train = pd.read_csv('./train_data.csv', encoding='cp949')\n",
    "test = pd.read_csv('./test_data.csv', encoding='cp949')"
   ]
  },
  {
   "cell_type": "markdown",
   "metadata": {
    "id": "_cTvNtPZzejc"
   },
   "source": [
    "## 전처리"
   ]
  },
  {
   "cell_type": "code",
   "execution_count": null,
   "metadata": {
    "id": "7AWbcm93zeje"
   },
   "outputs": [],
   "source": [
    "#결측치 확인\n",
    "def shownull(df):\n",
    "    global missval_name\n",
    "    print(f\"데이터셋 차원 확인 \\n {df.shape}\")\n",
    "    missval = df.isnull().sum()[df.isnull().sum()!=0]\n",
    "    print(f\"결측값 있는 변수 확인 \\n {missval}\")\n",
    "    missval_name = missval.index # 결측치가 존재하는 열이 저장된 변수\n",
    "\n",
    "#이상치 확인\n",
    "def zscore_out(df, threshold = 3):\n",
    "    mean = np.mean(df)\n",
    "    std = np.std(df)\n",
    "    z_score = np.abs((df - df.mean()) / df.std())\n",
    "    outliers = np.where(z_score > threshold)\n",
    "    # outlier_idx = outliers.nonzero()[0]\n",
    "    print(outliers[0])\n",
    "\n",
    "#시드고정\n",
    "def seed_everything(seed):\n",
    "    random.seed(seed)\n",
    "    os.environ['PYTHONHASHSEED'] = str(seed)\n",
    "    np.random.seed(seed)\n",
    "seed_everything(84)"
   ]
  },
  {
   "cell_type": "markdown",
   "metadata": {
    "id": "A9tX7lJnzejg"
   },
   "source": [
    "### 결측치 대체"
   ]
  },
  {
   "cell_type": "code",
   "execution_count": null,
   "metadata": {
    "id": "UhW3mrPCzeji"
   },
   "outputs": [],
   "source": [
    "# Train set에 대해서 시간 변수 결측치 대체\n",
    "\n",
    "train['regdate'] = pd.to_datetime(train['regdate'])\n",
    "\n",
    "# 시작일과 종료일 설정\n",
    "start_date = train['regdate'].min()  # 시작일: 2023-01-01 00:00\n",
    "end_date = train['regdate'].max()  # 종료일: 2023-01-27 23:59    -------> min, max를 이용해서 data leakage 문제를 해결\n",
    "\n",
    "# 결측치를 수정하고 이전 시간으로부터 순서대로 채워넣음\n",
    "current_date = start_date  # 현재 날짜 초기화\n",
    "\n",
    "for i in range(len(train)):\n",
    "    # 결측치인 경우 이전 시간으로 대체\n",
    "    if pd.isnull(train.loc[i, 'regdate']):\n",
    "        train.loc[i, 'regdate'] = current_date\n",
    "    \n",
    "    # 다음 시간으로 이동\n",
    "    current_date += timedelta(minutes=1)\n",
    "    \n",
    "    # 종료일인 경우 시작일로 되돌아감\n",
    "    if current_date > end_date:\n",
    "        current_date = start_date\n",
    "\n",
    "#제대로 작동됨"
   ]
  },
  {
   "cell_type": "code",
   "execution_count": null,
   "metadata": {
    "id": "DUDX5cjizejj"
   },
   "outputs": [],
   "source": [
    "# Test set에 대해서 시간 변수 결측치 대체\n",
    "\n",
    "test['regdate'] = pd.to_datetime(test['regdate'])\n",
    "\n",
    "# 시작일과 종료일 설정\n",
    "start_date = test['regdate'].min()  # 시작일: 2023-01-01 00:00\n",
    "end_date = test['regdate'].max()  # 종료일: 2023-01-27 23:59    -------> min, max를 이용해서 data leakage 문제를 해결\n",
    "\n",
    "# 결측치를 수정하고 이전 시간으로부터 순서대로 채워넣음\n",
    "current_date = start_date  # 현재 날짜 초기화\n",
    "\n",
    "for i in range(len(test)):\n",
    "    # 결측치인 경우 이전 시간으로 대체\n",
    "    if pd.isnull(test.loc[i, 'regdate']):\n",
    "        test.loc[i, 'regdate'] = current_date\n",
    "    \n",
    "    # 다음 시간으로 이동\n",
    "    current_date += timedelta(minutes=1)\n",
    "    \n",
    "    # 종료일인 경우 시작일로 되돌아감\n",
    "    if current_date > end_date:\n",
    "        current_date = start_date"
   ]
  },
  {
   "cell_type": "markdown",
   "metadata": {
    "id": "44P3NVoyzejj"
   },
   "source": [
    "### 독립변수 추가"
   ]
  },
  {
   "cell_type": "code",
   "execution_count": null,
   "metadata": {
    "id": "7mNBIEnazejk"
   },
   "outputs": [],
   "source": [
    "# TRAIN 요일 변수 추가\n",
    "daysofweek = []\n",
    "for i in range(len(train)) :\n",
    "    dayweek = train.loc[i, 'regdate'].dayofweek\n",
    "    daysofweek.append(dayweek)\n",
    "\n",
    "train['dayofweek'] = daysofweek\n",
    "\n",
    "\n",
    "\n",
    "#월요일 0 ~ 일요일6"
   ]
  },
  {
   "cell_type": "markdown",
   "metadata": {
    "id": "gGT-XM4_znOu"
   },
   "source": [
    "<!--  -->"
   ]
  },
  {
   "cell_type": "code",
   "execution_count": null,
   "metadata": {
    "id": "pofjX7Uizejk"
   },
   "outputs": [],
   "source": [
    "# TEST 요일 변수 추가\n",
    "\n",
    "daysofweek = []\n",
    "for i in range(len(test)) :\n",
    "    dayweek = test.loc[i, 'regdate'].dayofweek\n",
    "    daysofweek.append(dayweek)\n",
    "\n",
    "test['dayofweek'] = daysofweek"
   ]
  },
  {
   "cell_type": "code",
   "execution_count": null,
   "metadata": {
    "id": "eMN2nghYzejl"
   },
   "outputs": [],
   "source": [
    "# TRAIN 시간 -> 10진법 변환\n",
    "train['time'] = train['regdate'].dt.strftime('%H:%M').str.split().str[0]\n",
    "train['time'] = train['time'].str.split(':').apply(lambda x: int(x[0]) * 60 + int(x[1]))"
   ]
  },
  {
   "cell_type": "code",
   "execution_count": null,
   "metadata": {
    "id": "Ceym-5pAzejl"
   },
   "outputs": [],
   "source": [
    "# TEST 시간 -> 10진법 변환\n",
    "test['time'] = test['regdate'].dt.strftime('%H:%M').str.split().str[0]\n",
    "test['time'] = test['time'].str.split(':').apply(lambda x: int(x[0]) * 60 + int(x[1]))"
   ]
  },
  {
   "cell_type": "code",
   "execution_count": null,
   "metadata": {
    "id": "sWb2-SKDzejm"
   },
   "outputs": [],
   "source": [
    "it_is_not_na = np.where(~train[['PIR']].isnull())[0]\n",
    "\n",
    "train.loc[it_is_not_na,['PIR']] = train.loc[it_is_not_na,['PIR']].astype(np.int64)"
   ]
  },
  {
   "cell_type": "markdown",
   "metadata": {
    "id": "J7MCPThrzejn"
   },
   "source": [
    "### 결측치 대체"
   ]
  },
  {
   "cell_type": "code",
   "execution_count": null,
   "metadata": {
    "id": "RFZgi1fhzejn"
   },
   "outputs": [],
   "source": [
    "# def cat_num_na(df) :\n",
    "\n",
    "#     #변수 타입별로 분리\n",
    "#     cat_na = df.select_dtypes(include=['object', 'int64'])\n",
    "#     num_na = df.select_dtypes(include=['float64'])\n",
    "\n",
    "#     #범주형 변수 최빈값으로 변환\n",
    "#     for col in cat_na:\n",
    "#         df[col].fillna(df[col].mode()[0], inplace=True)\n",
    "\n",
    "#     #수치형 변수 중위값 대체\n",
    "#     for col2 in num_na:\n",
    "#         df[col2].fillna(df[col2].median(), inplace=True)"
   ]
  },
  {
   "cell_type": "code",
   "execution_count": null,
   "metadata": {
    "id": "FWIHoWADzejn"
   },
   "outputs": [],
   "source": [
    "def make_area(df) :\n",
    "    # 입력된 날짜 변수의 차이 계산\n",
    "    date_range = df['regdate'].max() - df['regdate'].min()\n",
    "\n",
    "    # 간격당 행의 개수 계산\n",
    "    lowsbydate = ((date_range.days + 1) * 1440) #하루 1440분\n",
    "    group_num = len(train) / lowsbydate\n",
    "\n",
    "    for i in range(int(group_num)):\n",
    "        start_index = i * lowsbydate\n",
    "        end_index = (i + 1) * lowsbydate\n",
    "        df.loc[start_index : end_index, 'area'] = i + 1\n",
    "\n",
    "def inter_by_area(df):\n",
    "    df.update(df.groupby('area').transform(lambda x: x.interpolate(method = 'pad')))\n",
    "    return df"
   ]
  },
  {
   "cell_type": "code",
   "execution_count": null,
   "metadata": {
    "colab": {
     "base_uri": "https://localhost:8080/"
    },
    "id": "rB0MjS3ezejp",
    "outputId": "45096dd0-2bed-4a56-f7f9-fa9e883a0838"
   },
   "outputs": [
    {
     "name": "stdout",
     "output_type": "stream",
     "text": [
      "데이터셋 차원 확인 \n",
      " (388800, 15)\n",
      "결측값 있는 변수 확인 \n",
      " Series([], dtype: int64)\n"
     ]
    }
   ],
   "source": [
    "shownull(train_nona)"
   ]
  },
  {
   "cell_type": "markdown",
   "metadata": {
    "id": "ymFKJ8C9zejt"
   },
   "source": [
    "### 파일 분할 및 스케일링"
   ]
  },
  {
   "cell_type": "code",
   "execution_count": null,
   "metadata": {
    "id": "gRLBlFCIzejt"
   },
   "outputs": [],
   "source": [
    "# #One-Hot Encoding\n",
    "# ohe = OneHotEncoder(sparse=False)\n",
    "# onehot_train = ohe.fit_transform(train_nona[['dayofweek']])\n",
    "# onehot_test = ohe.transform(test_nona[['dayofweek']])\n",
    "\n",
    "# onehot_train2 = pd.DataFrame(onehot_train, columns=['Monday', 'Tuesday', 'Wednesday', 'Thursday', 'Friday', 'Saturday', 'Sunday'])\n",
    "# onehot_test2 = pd.DataFrame(onehot_test, columns=['Monday', 'Tuesday', 'Wednesday', 'Thursday', 'Friday', 'Saturday', 'Sunday'])\n",
    "\n",
    "# onehot_train3 = pd.concat([train_nona.drop('dayofweek', axis=1), onehot_train2], axis=1)\n",
    "# onehot_test3 = pd.concat([test_nona.drop('dayofweek', axis=1), onehot_test2], axis=1)"
   ]
  },
  {
   "cell_type": "code",
   "execution_count": null,
   "metadata": {
    "id": "LI5Aji24zeju"
   },
   "outputs": [],
   "source": [
    "X_train = train.drop('재실인원', axis=1)\n",
    "y_train = train['재실인원']\n",
    "\n",
    "X_test = test.drop('재실인원', axis=1)\n",
    "y_test = test['재실인원']"
   ]
  },
  {
   "cell_type": "code",
   "execution_count": null,
   "metadata": {
    "id": "71oTUBaqWivu"
   },
   "outputs": [],
   "source": [
    "X_train, X_valid, y_train, y_valid = train_test_split(X_train, y_train, test_size=0.3)"
   ]
  },
  {
   "cell_type": "code",
   "execution_count": null,
   "metadata": {
    "id": "SpvyNfYZzeju"
   },
   "outputs": [],
   "source": [
    "#regdate 제거한 뒤 확인\n",
    "\n",
    "X_train = X_train.drop(['regdate','area','dayofweek'], axis=1)\n",
    "X_valid = X_valid.drop(['regdate','area','dayofweek'], axis=1)\n",
    "X_test = X_test.drop(['regdate','area','dayofweek'], axis=1)"
   ]
  },
  {
   "cell_type": "code",
   "execution_count": null,
   "metadata": {
    "id": "5LzqU8lQzeju"
   },
   "outputs": [],
   "source": [
    "scaler = MinMaxScaler()\n",
    "X_train = scaler.fit_transform(X_train)\n",
    "X_valid = scaler.transform(X_valid)\n",
    "X_test = scaler.transform(X_test)"
   ]
  },
  {
   "cell_type": "code",
   "execution_count": null,
   "metadata": {
    "id": "rTMvD-M3zejv"
   },
   "outputs": [],
   "source": [
    "y_train = np.array(y_train)\n",
    "y_valid = np.array(y_valid)\n",
    "y_test = np.array(y_test)"
   ]
  },
  {
   "cell_type": "code",
   "execution_count": null,
   "metadata": {
    "colab": {
     "base_uri": "https://localhost:8080/",
     "height": 424
    },
    "id": "PKqnbet3zejv",
    "outputId": "3d98e3aa-9803-491b-8908-43cbdac618e4"
   },
   "outputs": [
    {
     "data": {
      "text/html": [
       "\n",
       "  <div id=\"df-c3affba4-29c6-49ec-91e1-cc029177d95d\">\n",
       "    <div class=\"colab-df-container\">\n",
       "      <div>\n",
       "<style scoped>\n",
       "    .dataframe tbody tr th:only-of-type {\n",
       "        vertical-align: middle;\n",
       "    }\n",
       "\n",
       "    .dataframe tbody tr th {\n",
       "        vertical-align: top;\n",
       "    }\n",
       "\n",
       "    .dataframe thead th {\n",
       "        text-align: right;\n",
       "    }\n",
       "</style>\n",
       "<table border=\"1\" class=\"dataframe\">\n",
       "  <thead>\n",
       "    <tr style=\"text-align: right;\">\n",
       "      <th></th>\n",
       "      <th>0</th>\n",
       "      <th>1</th>\n",
       "      <th>2</th>\n",
       "      <th>3</th>\n",
       "      <th>4</th>\n",
       "      <th>5</th>\n",
       "      <th>6</th>\n",
       "      <th>7</th>\n",
       "      <th>8</th>\n",
       "      <th>9</th>\n",
       "      <th>10</th>\n",
       "    </tr>\n",
       "  </thead>\n",
       "  <tbody>\n",
       "    <tr>\n",
       "      <th>0</th>\n",
       "      <td>0.519084</td>\n",
       "      <td>0.223684</td>\n",
       "      <td>0.165307</td>\n",
       "      <td>0.040580</td>\n",
       "      <td>0.027451</td>\n",
       "      <td>0.014120</td>\n",
       "      <td>0.057554</td>\n",
       "      <td>0.001038</td>\n",
       "      <td>0.013934</td>\n",
       "      <td>0.0</td>\n",
       "      <td>0.748436</td>\n",
       "    </tr>\n",
       "    <tr>\n",
       "      <th>1</th>\n",
       "      <td>0.381679</td>\n",
       "      <td>0.223684</td>\n",
       "      <td>0.153285</td>\n",
       "      <td>0.056522</td>\n",
       "      <td>0.038235</td>\n",
       "      <td>0.019667</td>\n",
       "      <td>0.007194</td>\n",
       "      <td>0.000961</td>\n",
       "      <td>0.012883</td>\n",
       "      <td>0.0</td>\n",
       "      <td>0.232801</td>\n",
       "    </tr>\n",
       "    <tr>\n",
       "      <th>2</th>\n",
       "      <td>0.381679</td>\n",
       "      <td>0.157895</td>\n",
       "      <td>0.153714</td>\n",
       "      <td>0.011594</td>\n",
       "      <td>0.007843</td>\n",
       "      <td>0.004034</td>\n",
       "      <td>0.007194</td>\n",
       "      <td>0.000275</td>\n",
       "      <td>0.003831</td>\n",
       "      <td>0.0</td>\n",
       "      <td>0.045865</td>\n",
       "    </tr>\n",
       "    <tr>\n",
       "      <th>3</th>\n",
       "      <td>0.221374</td>\n",
       "      <td>0.171053</td>\n",
       "      <td>0.156290</td>\n",
       "      <td>0.004348</td>\n",
       "      <td>0.002941</td>\n",
       "      <td>0.001513</td>\n",
       "      <td>0.028777</td>\n",
       "      <td>0.000046</td>\n",
       "      <td>0.000618</td>\n",
       "      <td>0.0</td>\n",
       "      <td>0.670605</td>\n",
       "    </tr>\n",
       "    <tr>\n",
       "      <th>4</th>\n",
       "      <td>0.442748</td>\n",
       "      <td>0.276316</td>\n",
       "      <td>0.313010</td>\n",
       "      <td>0.050725</td>\n",
       "      <td>0.034314</td>\n",
       "      <td>0.018154</td>\n",
       "      <td>0.007194</td>\n",
       "      <td>0.001663</td>\n",
       "      <td>0.022306</td>\n",
       "      <td>0.0</td>\n",
       "      <td>0.685198</td>\n",
       "    </tr>\n",
       "    <tr>\n",
       "      <th>...</th>\n",
       "      <td>...</td>\n",
       "      <td>...</td>\n",
       "      <td>...</td>\n",
       "      <td>...</td>\n",
       "      <td>...</td>\n",
       "      <td>...</td>\n",
       "      <td>...</td>\n",
       "      <td>...</td>\n",
       "      <td>...</td>\n",
       "      <td>...</td>\n",
       "      <td>...</td>\n",
       "    </tr>\n",
       "    <tr>\n",
       "      <th>272155</th>\n",
       "      <td>0.519084</td>\n",
       "      <td>0.236842</td>\n",
       "      <td>0.320739</td>\n",
       "      <td>0.002899</td>\n",
       "      <td>0.001961</td>\n",
       "      <td>0.001009</td>\n",
       "      <td>0.064748</td>\n",
       "      <td>0.000931</td>\n",
       "      <td>0.012543</td>\n",
       "      <td>0.0</td>\n",
       "      <td>0.760250</td>\n",
       "    </tr>\n",
       "    <tr>\n",
       "      <th>272156</th>\n",
       "      <td>0.725191</td>\n",
       "      <td>0.342105</td>\n",
       "      <td>0.297982</td>\n",
       "      <td>0.013043</td>\n",
       "      <td>0.008824</td>\n",
       "      <td>0.004539</td>\n",
       "      <td>0.043165</td>\n",
       "      <td>0.000839</td>\n",
       "      <td>0.011277</td>\n",
       "      <td>0.0</td>\n",
       "      <td>0.759555</td>\n",
       "    </tr>\n",
       "    <tr>\n",
       "      <th>272157</th>\n",
       "      <td>0.541985</td>\n",
       "      <td>0.223684</td>\n",
       "      <td>0.122370</td>\n",
       "      <td>0.004348</td>\n",
       "      <td>0.002941</td>\n",
       "      <td>0.001513</td>\n",
       "      <td>0.007194</td>\n",
       "      <td>0.000061</td>\n",
       "      <td>0.000989</td>\n",
       "      <td>0.0</td>\n",
       "      <td>0.243224</td>\n",
       "    </tr>\n",
       "    <tr>\n",
       "      <th>272158</th>\n",
       "      <td>0.732824</td>\n",
       "      <td>0.407895</td>\n",
       "      <td>0.468871</td>\n",
       "      <td>0.042029</td>\n",
       "      <td>0.028431</td>\n",
       "      <td>0.014624</td>\n",
       "      <td>0.007194</td>\n",
       "      <td>0.001953</td>\n",
       "      <td>0.026013</td>\n",
       "      <td>0.0</td>\n",
       "      <td>0.904795</td>\n",
       "    </tr>\n",
       "    <tr>\n",
       "      <th>272159</th>\n",
       "      <td>0.687023</td>\n",
       "      <td>0.210526</td>\n",
       "      <td>0.273508</td>\n",
       "      <td>0.002899</td>\n",
       "      <td>0.001961</td>\n",
       "      <td>0.001009</td>\n",
       "      <td>0.064748</td>\n",
       "      <td>0.000687</td>\n",
       "      <td>0.009268</td>\n",
       "      <td>0.0</td>\n",
       "      <td>0.843641</td>\n",
       "    </tr>\n",
       "  </tbody>\n",
       "</table>\n",
       "<p>272160 rows × 11 columns</p>\n",
       "</div>\n",
       "      <button class=\"colab-df-convert\" onclick=\"convertToInteractive('df-c3affba4-29c6-49ec-91e1-cc029177d95d')\"\n",
       "              title=\"Convert this dataframe to an interactive table.\"\n",
       "              style=\"display:none;\">\n",
       "        \n",
       "  <svg xmlns=\"http://www.w3.org/2000/svg\" height=\"24px\"viewBox=\"0 0 24 24\"\n",
       "       width=\"24px\">\n",
       "    <path d=\"M0 0h24v24H0V0z\" fill=\"none\"/>\n",
       "    <path d=\"M18.56 5.44l.94 2.06.94-2.06 2.06-.94-2.06-.94-.94-2.06-.94 2.06-2.06.94zm-11 1L8.5 8.5l.94-2.06 2.06-.94-2.06-.94L8.5 2.5l-.94 2.06-2.06.94zm10 10l.94 2.06.94-2.06 2.06-.94-2.06-.94-.94-2.06-.94 2.06-2.06.94z\"/><path d=\"M17.41 7.96l-1.37-1.37c-.4-.4-.92-.59-1.43-.59-.52 0-1.04.2-1.43.59L10.3 9.45l-7.72 7.72c-.78.78-.78 2.05 0 2.83L4 21.41c.39.39.9.59 1.41.59.51 0 1.02-.2 1.41-.59l7.78-7.78 2.81-2.81c.8-.78.8-2.07 0-2.86zM5.41 20L4 18.59l7.72-7.72 1.47 1.35L5.41 20z\"/>\n",
       "  </svg>\n",
       "      </button>\n",
       "      \n",
       "  <style>\n",
       "    .colab-df-container {\n",
       "      display:flex;\n",
       "      flex-wrap:wrap;\n",
       "      gap: 12px;\n",
       "    }\n",
       "\n",
       "    .colab-df-convert {\n",
       "      background-color: #E8F0FE;\n",
       "      border: none;\n",
       "      border-radius: 50%;\n",
       "      cursor: pointer;\n",
       "      display: none;\n",
       "      fill: #1967D2;\n",
       "      height: 32px;\n",
       "      padding: 0 0 0 0;\n",
       "      width: 32px;\n",
       "    }\n",
       "\n",
       "    .colab-df-convert:hover {\n",
       "      background-color: #E2EBFA;\n",
       "      box-shadow: 0px 1px 2px rgba(60, 64, 67, 0.3), 0px 1px 3px 1px rgba(60, 64, 67, 0.15);\n",
       "      fill: #174EA6;\n",
       "    }\n",
       "\n",
       "    [theme=dark] .colab-df-convert {\n",
       "      background-color: #3B4455;\n",
       "      fill: #D2E3FC;\n",
       "    }\n",
       "\n",
       "    [theme=dark] .colab-df-convert:hover {\n",
       "      background-color: #434B5C;\n",
       "      box-shadow: 0px 1px 3px 1px rgba(0, 0, 0, 0.15);\n",
       "      filter: drop-shadow(0px 1px 2px rgba(0, 0, 0, 0.3));\n",
       "      fill: #FFFFFF;\n",
       "    }\n",
       "  </style>\n",
       "\n",
       "      <script>\n",
       "        const buttonEl =\n",
       "          document.querySelector('#df-c3affba4-29c6-49ec-91e1-cc029177d95d button.colab-df-convert');\n",
       "        buttonEl.style.display =\n",
       "          google.colab.kernel.accessAllowed ? 'block' : 'none';\n",
       "\n",
       "        async function convertToInteractive(key) {\n",
       "          const element = document.querySelector('#df-c3affba4-29c6-49ec-91e1-cc029177d95d');\n",
       "          const dataTable =\n",
       "            await google.colab.kernel.invokeFunction('convertToInteractive',\n",
       "                                                     [key], {});\n",
       "          if (!dataTable) return;\n",
       "\n",
       "          const docLinkHtml = 'Like what you see? Visit the ' +\n",
       "            '<a target=\"_blank\" href=https://colab.research.google.com/notebooks/data_table.ipynb>data table notebook</a>'\n",
       "            + ' to learn more about interactive tables.';\n",
       "          element.innerHTML = '';\n",
       "          dataTable['output_type'] = 'display_data';\n",
       "          await google.colab.output.renderOutput(dataTable, element);\n",
       "          const docLink = document.createElement('div');\n",
       "          docLink.innerHTML = docLinkHtml;\n",
       "          element.appendChild(docLink);\n",
       "        }\n",
       "      </script>\n",
       "    </div>\n",
       "  </div>\n",
       "  "
      ],
      "text/plain": [
       "              0         1         2         3         4         5         6   \\\n",
       "0       0.519084  0.223684  0.165307  0.040580  0.027451  0.014120  0.057554   \n",
       "1       0.381679  0.223684  0.153285  0.056522  0.038235  0.019667  0.007194   \n",
       "2       0.381679  0.157895  0.153714  0.011594  0.007843  0.004034  0.007194   \n",
       "3       0.221374  0.171053  0.156290  0.004348  0.002941  0.001513  0.028777   \n",
       "4       0.442748  0.276316  0.313010  0.050725  0.034314  0.018154  0.007194   \n",
       "...          ...       ...       ...       ...       ...       ...       ...   \n",
       "272155  0.519084  0.236842  0.320739  0.002899  0.001961  0.001009  0.064748   \n",
       "272156  0.725191  0.342105  0.297982  0.013043  0.008824  0.004539  0.043165   \n",
       "272157  0.541985  0.223684  0.122370  0.004348  0.002941  0.001513  0.007194   \n",
       "272158  0.732824  0.407895  0.468871  0.042029  0.028431  0.014624  0.007194   \n",
       "272159  0.687023  0.210526  0.273508  0.002899  0.001961  0.001009  0.064748   \n",
       "\n",
       "              7         8    9         10  \n",
       "0       0.001038  0.013934  0.0  0.748436  \n",
       "1       0.000961  0.012883  0.0  0.232801  \n",
       "2       0.000275  0.003831  0.0  0.045865  \n",
       "3       0.000046  0.000618  0.0  0.670605  \n",
       "4       0.001663  0.022306  0.0  0.685198  \n",
       "...          ...       ...  ...       ...  \n",
       "272155  0.000931  0.012543  0.0  0.760250  \n",
       "272156  0.000839  0.011277  0.0  0.759555  \n",
       "272157  0.000061  0.000989  0.0  0.243224  \n",
       "272158  0.001953  0.026013  0.0  0.904795  \n",
       "272159  0.000687  0.009268  0.0  0.843641  \n",
       "\n",
       "[272160 rows x 11 columns]"
      ]
     },
     "execution_count": 44,
     "metadata": {},
     "output_type": "execute_result"
    }
   ],
   "source": [
    "pd.DataFrame(X_train)"
   ]
  },
  {
   "cell_type": "code",
   "execution_count": null,
   "metadata": {
    "colab": {
     "base_uri": "https://localhost:8080/"
    },
    "id": "u_l2njvZNbK8",
    "outputId": "cb71d047-779f-4ce0-c839-9ff274dbf1c6"
   },
   "outputs": [
    {
     "data": {
      "text/plain": [
       "(388800, 15)"
      ]
     },
     "execution_count": 45,
     "metadata": {},
     "output_type": "execute_result"
    }
   ],
   "source": [
    "train_nona.shape"
   ]
  },
  {
   "cell_type": "code",
   "execution_count": null,
   "metadata": {
    "id": "STq6_xK55ibs"
   },
   "outputs": [],
   "source": [
    "X_train = np.reshape(X_train, (len(X_train),1,11)).astype(float)\n",
    "X_valid = np.reshape(X_valid, (len(X_valid),1,11)).astype(float)\n",
    "X_test = np.reshape(X_test, (len(X_test),1,11)).astype(float)"
   ]
  },
  {
   "cell_type": "code",
   "execution_count": null,
   "metadata": {
    "colab": {
     "base_uri": "https://localhost:8080/"
    },
    "id": "_YrASvYb5ibs",
    "outputId": "b15ab41a-ac7f-4909-ea40-3acdc669262e"
   },
   "outputs": [
    {
     "data": {
      "text/plain": [
       "(272160, 1, 11)"
      ]
     },
     "execution_count": 54,
     "metadata": {},
     "output_type": "execute_result"
    }
   ],
   "source": [
    "X_train.shape"
   ]
  },
  {
   "cell_type": "code",
   "execution_count": null,
   "metadata": {
    "id": "lxYuf-F75ibs"
   },
   "outputs": [],
   "source": [
    "from tensorflow.keras.models import Sequential\n",
    "from tensorflow.keras.layers import Dense,GRU,LSTM\n",
    "from keras.layers import Input, Dense, Activation, Flatten, Dropout\n",
    "# # GRU 모형 적용\n",
    "# model4 = Sequential()\n",
    "# model4.add(GRU(32, input_shape=(1,12)))\n",
    "# model4.add(Dense(1))\n",
    "# model4.compile(optimizer='rmsprop', loss='mse', metrics=['mse'])\n",
    "# model4.fit(X_train, y_train, epochs=3, batch_size=500)"
   ]
  },
  {
   "cell_type": "code",
   "execution_count": null,
   "metadata": {
    "id": "r6FVQKMS5ibt"
   },
   "outputs": [],
   "source": [
    "mse =[]\n",
    "def buildModel(neurons,drop,nb_batch,hidden_layers):  \n",
    "    nb_epoch=5\n",
    "    neurons=int(neurons)\n",
    "    hidden_layers=int(hidden_layers)\n",
    "\n",
    "    # input layer\n",
    "    inputs = tf.keras.Input(shape=(1,11))\n",
    "\n",
    "    x = tf.keras.layers.LSTM(neurons*(2**(hidden_layers+1)), return_sequences=True, recurrent_dropout=0.2, activation='relu')(inputs)  \n",
    "    # x = tf.keras.layers.Dense(neurons*(2**(hidden_layers+1)), activation='relu')(inputs)\n",
    "\n",
    "    if hidden_layers !=0:\n",
    "        for i in range(1,hidden_layers+1):\n",
    "            x = tf.keras.layers.LSTM(neurons * (2 ** (hidden_layers + 1)), return_sequences=True)(x)\n",
    "    x = tf.keras.layers.LSTM(neurons * (2 ** (hidden_layers + 1)))(x)\n",
    "    x = tf.keras.layers.Dropout(drop)(x)\n",
    "\n",
    "    # output\n",
    "    predictions = Dense(1)(x)\n",
    "\n",
    "\n",
    "    # modeling\n",
    "    model = tf.keras.Model(inputs=inputs, outputs=predictions)\n",
    "    model.compile(optimizer='adam', loss='mean_squared_error', metrics=['mean_squared_error'])\n",
    "    early_stopping = tf.keras.callbacks.EarlyStopping(monitor='val_loss',mode=\"min\",patience=3,restore_best_weights=True, verbose=1)\n",
    "\n",
    "\n",
    "\n",
    "    # learning\n",
    "    model.fit(X_train, y_train, epochs=int(nb_epoch), batch_size=int(nb_batch),callbacks=[early_stopping], validation_data=(X_valid, y_valid))\n",
    "\n",
    "\n",
    "    # evaluate the model with test data\n",
    "    loss, mse =model.evaluate(X_test, y_test)\n",
    "    \n",
    "    if mse < 0.85: \n",
    "        model.save(f\"./model/rmse/{mse}_lstm.h5\")\n",
    "        print(\"모델이 저장 되었습니다.\")\n",
    "        print(\"mse : \",mse)\n",
    "    \n",
    "    return mse"
   ]
  },
  {
   "cell_type": "code",
   "execution_count": null,
   "metadata": {
    "id": "vWEasrkX5ibt"
   },
   "outputs": [],
   "source": [
    "pbounds = {\n",
    "        # define the range of each parameter\n",
    "        'drop' : (0.5,0.9),\n",
    "        \"neurons\" : (12,24),\n",
    "        'nb_batch' : (512,1024),\n",
    "        'hidden_layers' : (0,3)}"
   ]
  },
  {
   "cell_type": "code",
   "execution_count": null,
   "metadata": {
    "id": "iQDdtDvq5ibu"
   },
   "outputs": [],
   "source": [
    "bo=BayesianOptimization(f=buildModel, pbounds=pbounds, verbose=2, random_state=42 )"
   ]
  },
  {
   "cell_type": "code",
   "execution_count": null,
   "metadata": {
    "colab": {
     "base_uri": "https://localhost:8080/"
    },
    "id": "46GwzW0t5ibu",
    "outputId": "b9a792f2-cbb5-47bc-fa8e-a3ae13ada10c"
   },
   "outputs": [
    {
     "name": "stderr",
     "output_type": "stream",
     "text": [
      "WARNING:tensorflow:Layer lstm_4 will not use cuDNN kernels since it doesn't meet the criteria. It will use a generic GPU kernel as fallback when running on GPU.\n"
     ]
    },
    {
     "name": "stdout",
     "output_type": "stream",
     "text": [
      "|   iter    |  target   |   drop    | hidden... | nb_batch  |  neurons  |\n",
      "-------------------------------------------------------------------------\n",
      "Epoch 1/5\n",
      "308/308 [==============================] - 19s 23ms/step - loss: 1.3862 - mean_squared_error: 1.3862 - val_loss: 0.8404 - val_mean_squared_error: 0.8404\n",
      "Epoch 2/5\n",
      "308/308 [==============================] - 5s 17ms/step - loss: 0.8320 - mean_squared_error: 0.8320 - val_loss: 0.7589 - val_mean_squared_error: 0.7589\n",
      "Epoch 3/5\n",
      "308/308 [==============================] - 5s 15ms/step - loss: 0.7729 - mean_squared_error: 0.7729 - val_loss: 0.7146 - val_mean_squared_error: 0.7146\n",
      "Epoch 4/5\n",
      "308/308 [==============================] - 6s 20ms/step - loss: 0.7306 - mean_squared_error: 0.7306 - val_loss: 0.7340 - val_mean_squared_error: 0.7340\n",
      "Epoch 5/5\n",
      "308/308 [==============================] - 5s 15ms/step - loss: 0.6920 - mean_squared_error: 0.6920 - val_loss: 0.6582 - val_mean_squared_error: 0.6582\n",
      "2657/2657 [==============================] - 12s 5ms/step - loss: 1.4341 - mean_squared_error: 1.4341\n"
     ]
    },
    {
     "name": "stderr",
     "output_type": "stream",
     "text": [
      "WARNING:tensorflow:Layer lstm_8 will not use cuDNN kernels since it doesn't meet the criteria. It will use a generic GPU kernel as fallback when running on GPU.\n"
     ]
    },
    {
     "name": "stdout",
     "output_type": "stream",
     "text": [
      "| \u001b[0m1        \u001b[0m | \u001b[0m1.434    \u001b[0m | \u001b[0m0.6498   \u001b[0m | \u001b[0m2.852    \u001b[0m | \u001b[0m886.8    \u001b[0m | \u001b[0m19.18    \u001b[0m |\n",
      "Epoch 1/5\n",
      "504/504 [==============================] - 13s 16ms/step - loss: 1.6458 - mean_squared_error: 1.6458 - val_loss: 1.0935 - val_mean_squared_error: 1.0935\n",
      "Epoch 2/5\n",
      "504/504 [==============================] - 6s 12ms/step - loss: 1.0282 - mean_squared_error: 1.0282 - val_loss: 0.8665 - val_mean_squared_error: 0.8665\n",
      "Epoch 3/5\n",
      "504/504 [==============================] - 7s 15ms/step - loss: 0.9231 - mean_squared_error: 0.9231 - val_loss: 0.8290 - val_mean_squared_error: 0.8290\n",
      "Epoch 4/5\n",
      "504/504 [==============================] - 6s 11ms/step - loss: 0.8926 - mean_squared_error: 0.8926 - val_loss: 0.8098 - val_mean_squared_error: 0.8098\n",
      "Epoch 5/5\n",
      "504/504 [==============================] - 7s 15ms/step - loss: 0.8729 - mean_squared_error: 0.8729 - val_loss: 0.8008 - val_mean_squared_error: 0.8008\n",
      "2657/2657 [==============================] - 9s 3ms/step - loss: 1.3856 - mean_squared_error: 1.3856\n"
     ]
    },
    {
     "name": "stderr",
     "output_type": "stream",
     "text": [
      "WARNING:tensorflow:Layer lstm_10 will not use cuDNN kernels since it doesn't meet the criteria. It will use a generic GPU kernel as fallback when running on GPU.\n"
     ]
    },
    {
     "name": "stdout",
     "output_type": "stream",
     "text": [
      "| \u001b[0m2        \u001b[0m | \u001b[0m1.386    \u001b[0m | \u001b[0m0.5624   \u001b[0m | \u001b[0m0.468    \u001b[0m | \u001b[0m541.7    \u001b[0m | \u001b[0m22.39    \u001b[0m |\n",
      "Epoch 1/5\n",
      "307/307 [==============================] - 13s 22ms/step - loss: 1.6427 - mean_squared_error: 1.6427 - val_loss: 0.9891 - val_mean_squared_error: 0.9891\n",
      "Epoch 2/5\n",
      "307/307 [==============================] - 4s 12ms/step - loss: 0.9419 - mean_squared_error: 0.9419 - val_loss: 0.8376 - val_mean_squared_error: 0.8376\n",
      "Epoch 3/5\n",
      "307/307 [==============================] - 5s 16ms/step - loss: 0.8614 - mean_squared_error: 0.8614 - val_loss: 0.7793 - val_mean_squared_error: 0.7793\n",
      "Epoch 4/5\n",
      "307/307 [==============================] - 5s 15ms/step - loss: 0.8164 - mean_squared_error: 0.8164 - val_loss: 0.7499 - val_mean_squared_error: 0.7499\n",
      "Epoch 5/5\n",
      "307/307 [==============================] - 4s 14ms/step - loss: 0.7896 - mean_squared_error: 0.7896 - val_loss: 0.7256 - val_mean_squared_error: 0.7256\n",
      "2657/2657 [==============================] - 10s 4ms/step - loss: 0.9690 - mean_squared_error: 0.9690\n",
      "| \u001b[0m3        \u001b[0m | \u001b[0m0.969    \u001b[0m | \u001b[0m0.5816   \u001b[0m | \u001b[0m1.665    \u001b[0m | \u001b[0m887.3    \u001b[0m | \u001b[0m19.39    \u001b[0m |\n"
     ]
    },
    {
     "name": "stderr",
     "output_type": "stream",
     "text": [
      "WARNING:tensorflow:Layer lstm_13 will not use cuDNN kernels since it doesn't meet the criteria. It will use a generic GPU kernel as fallback when running on GPU.\n"
     ]
    },
    {
     "name": "stdout",
     "output_type": "stream",
     "text": [
      "Epoch 1/5\n",
      "333/333 [==============================] - 10s 14ms/step - loss: 1.8382 - mean_squared_error: 1.8382 - val_loss: 1.1723 - val_mean_squared_error: 1.1723\n",
      "Epoch 2/5\n",
      "333/333 [==============================] - 4s 12ms/step - loss: 1.1093 - mean_squared_error: 1.1093 - val_loss: 0.9157 - val_mean_squared_error: 0.9157\n",
      "Epoch 3/5\n",
      "333/333 [==============================] - 5s 15ms/step - loss: 0.9518 - mean_squared_error: 0.9518 - val_loss: 0.8544 - val_mean_squared_error: 0.8544\n",
      "Epoch 4/5\n",
      "333/333 [==============================] - 4s 12ms/step - loss: 0.9184 - mean_squared_error: 0.9184 - val_loss: 0.8356 - val_mean_squared_error: 0.8356\n",
      "Epoch 5/5\n",
      "333/333 [==============================] - 4s 12ms/step - loss: 0.8985 - mean_squared_error: 0.8985 - val_loss: 0.8282 - val_mean_squared_error: 0.8282\n",
      "2657/2657 [==============================] - 8s 3ms/step - loss: 23.9494 - mean_squared_error: 23.9494\n",
      "| \u001b[95m4        \u001b[0m | \u001b[95m23.95    \u001b[0m | \u001b[95m0.5197   \u001b[0m | \u001b[95m0.05545  \u001b[0m | \u001b[95m819.5    \u001b[0m | \u001b[95m20.69    \u001b[0m |\n"
     ]
    },
    {
     "name": "stderr",
     "output_type": "stream",
     "text": [
      "WARNING:tensorflow:Layer lstm_15 will not use cuDNN kernels since it doesn't meet the criteria. It will use a generic GPU kernel as fallback when running on GPU.\n"
     ]
    },
    {
     "name": "stdout",
     "output_type": "stream",
     "text": [
      "Epoch 1/5\n",
      "345/345 [==============================] - 19s 28ms/step - loss: 1.2839 - mean_squared_error: 1.2839 - val_loss: 0.8116 - val_mean_squared_error: 0.8116\n",
      "Epoch 2/5\n",
      "345/345 [==============================] - 6s 17ms/step - loss: 0.8585 - mean_squared_error: 0.8585 - val_loss: 0.7156 - val_mean_squared_error: 0.7156\n",
      "Epoch 3/5\n",
      "345/345 [==============================] - 7s 21ms/step - loss: 0.7832 - mean_squared_error: 0.7832 - val_loss: 0.6495 - val_mean_squared_error: 0.6495\n",
      "Epoch 4/5\n",
      "345/345 [==============================] - 6s 16ms/step - loss: 0.7236 - mean_squared_error: 0.7236 - val_loss: 0.6133 - val_mean_squared_error: 0.6133\n",
      "Epoch 5/5\n",
      "345/345 [==============================] - 7s 21ms/step - loss: 0.6888 - mean_squared_error: 0.6888 - val_loss: 0.5871 - val_mean_squared_error: 0.5871\n",
      "2657/2657 [==============================] - 13s 5ms/step - loss: 2.6771 - mean_squared_error: 2.6771\n",
      "| \u001b[0m5        \u001b[0m | \u001b[0m2.677    \u001b[0m | \u001b[0m0.9      \u001b[0m | \u001b[0m3.0      \u001b[0m | \u001b[0m789.6    \u001b[0m | \u001b[0m15.17    \u001b[0m |\n"
     ]
    },
    {
     "name": "stderr",
     "output_type": "stream",
     "text": [
      "WARNING:tensorflow:Layer lstm_20 will not use cuDNN kernels since it doesn't meet the criteria. It will use a generic GPU kernel as fallback when running on GPU.\n"
     ]
    },
    {
     "name": "stdout",
     "output_type": "stream",
     "text": [
      "Epoch 1/5\n",
      "327/327 [==============================] - 9s 14ms/step - loss: 1.8293 - mean_squared_error: 1.8293 - val_loss: 1.1821 - val_mean_squared_error: 1.1821\n",
      "Epoch 2/5\n",
      "327/327 [==============================] - 5s 16ms/step - loss: 1.1296 - mean_squared_error: 1.1296 - val_loss: 0.9539 - val_mean_squared_error: 0.9539\n",
      "Epoch 3/5\n",
      "327/327 [==============================] - 4s 12ms/step - loss: 0.9560 - mean_squared_error: 0.9560 - val_loss: 0.8593 - val_mean_squared_error: 0.8593\n",
      "Epoch 4/5\n",
      "327/327 [==============================] - 4s 12ms/step - loss: 0.8992 - mean_squared_error: 0.8992 - val_loss: 0.8281 - val_mean_squared_error: 0.8281\n",
      "Epoch 5/5\n",
      "327/327 [==============================] - 5s 16ms/step - loss: 0.8723 - mean_squared_error: 0.8723 - val_loss: 0.8054 - val_mean_squared_error: 0.8054\n",
      "2657/2657 [==============================] - 9s 3ms/step - loss: 1.1100 - mean_squared_error: 1.1100\n",
      "| \u001b[0m6        \u001b[0m | \u001b[0m1.11     \u001b[0m | \u001b[0m0.5      \u001b[0m | \u001b[0m0.06939  \u001b[0m | \u001b[0m833.2    \u001b[0m | \u001b[0m24.0     \u001b[0m |\n"
     ]
    },
    {
     "name": "stderr",
     "output_type": "stream",
     "text": [
      "WARNING:tensorflow:Layer lstm_22 will not use cuDNN kernels since it doesn't meet the criteria. It will use a generic GPU kernel as fallback when running on GPU.\n"
     ]
    },
    {
     "name": "stdout",
     "output_type": "stream",
     "text": [
      "Epoch 1/5\n",
      "335/335 [==============================] - 10s 17ms/step - loss: 1.8987 - mean_squared_error: 1.8987 - val_loss: 1.2114 - val_mean_squared_error: 1.2114\n",
      "Epoch 2/5\n",
      "335/335 [==============================] - 5s 14ms/step - loss: 1.1906 - mean_squared_error: 1.1906 - val_loss: 0.9832 - val_mean_squared_error: 0.9832\n",
      "Epoch 3/5\n",
      "335/335 [==============================] - 4s 12ms/step - loss: 0.9925 - mean_squared_error: 0.9925 - val_loss: 0.8566 - val_mean_squared_error: 0.8566\n",
      "Epoch 4/5\n",
      "335/335 [==============================] - 5s 14ms/step - loss: 0.9179 - mean_squared_error: 0.9179 - val_loss: 0.8222 - val_mean_squared_error: 0.8222\n",
      "Epoch 5/5\n",
      "335/335 [==============================] - 5s 14ms/step - loss: 0.8928 - mean_squared_error: 0.8928 - val_loss: 0.8072 - val_mean_squared_error: 0.8072\n",
      "2657/2657 [==============================] - 9s 3ms/step - loss: 2.3336 - mean_squared_error: 2.3336\n"
     ]
    },
    {
     "name": "stderr",
     "output_type": "stream",
     "text": [
      "WARNING:tensorflow:Layer lstm_24 will not use cuDNN kernels since it doesn't meet the criteria. It will use a generic GPU kernel as fallback when running on GPU.\n"
     ]
    },
    {
     "name": "stdout",
     "output_type": "stream",
     "text": [
      "| \u001b[0m7        \u001b[0m | \u001b[0m2.334    \u001b[0m | \u001b[0m0.531    \u001b[0m | \u001b[0m0.3543   \u001b[0m | \u001b[0m814.2    \u001b[0m | \u001b[0m18.66    \u001b[0m |\n",
      "Epoch 1/5\n",
      "332/332 [==============================] - 9s 14ms/step - loss: 1.8893 - mean_squared_error: 1.8893 - val_loss: 1.1734 - val_mean_squared_error: 1.1734\n",
      "Epoch 2/5\n",
      "332/332 [==============================] - 6s 18ms/step - loss: 1.1286 - mean_squared_error: 1.1286 - val_loss: 0.9254 - val_mean_squared_error: 0.9254\n",
      "Epoch 3/5\n",
      "332/332 [==============================] - 4s 11ms/step - loss: 0.9754 - mean_squared_error: 0.9754 - val_loss: 0.8614 - val_mean_squared_error: 0.8614\n",
      "Epoch 4/5\n",
      "332/332 [==============================] - 4s 11ms/step - loss: 0.9272 - mean_squared_error: 0.9272 - val_loss: 0.8319 - val_mean_squared_error: 0.8319\n",
      "Epoch 5/5\n",
      "332/332 [==============================] - 6s 17ms/step - loss: 0.8981 - mean_squared_error: 0.8981 - val_loss: 0.8103 - val_mean_squared_error: 0.8103\n",
      "2657/2657 [==============================] - 8s 3ms/step - loss: 15.6861 - mean_squared_error: 15.6861\n",
      "| \u001b[0m8        \u001b[0m | \u001b[0m15.69    \u001b[0m | \u001b[0m0.5911   \u001b[0m | \u001b[0m0.2569   \u001b[0m | \u001b[0m821.3    \u001b[0m | \u001b[0m21.81    \u001b[0m |\n"
     ]
    },
    {
     "name": "stderr",
     "output_type": "stream",
     "text": [
      "WARNING:tensorflow:Layer lstm_26 will not use cuDNN kernels since it doesn't meet the criteria. It will use a generic GPU kernel as fallback when running on GPU.\n"
     ]
    },
    {
     "name": "stdout",
     "output_type": "stream",
     "text": [
      "Epoch 1/5\n",
      "332/332 [==============================] - 10s 14ms/step - loss: 1.9625 - mean_squared_error: 1.9625 - val_loss: 1.2477 - val_mean_squared_error: 1.2477\n",
      "Epoch 2/5\n",
      "332/332 [==============================] - 4s 13ms/step - loss: 1.2866 - mean_squared_error: 1.2866 - val_loss: 1.0503 - val_mean_squared_error: 1.0503\n",
      "Epoch 3/5\n",
      "332/332 [==============================] - 6s 18ms/step - loss: 1.0823 - mean_squared_error: 1.0823 - val_loss: 0.8763 - val_mean_squared_error: 0.8763\n",
      "Epoch 4/5\n",
      "332/332 [==============================] - 4s 12ms/step - loss: 0.9818 - mean_squared_error: 0.9818 - val_loss: 0.8369 - val_mean_squared_error: 0.8369\n",
      "Epoch 5/5\n",
      "332/332 [==============================] - 5s 15ms/step - loss: 0.9463 - mean_squared_error: 0.9463 - val_loss: 0.8142 - val_mean_squared_error: 0.8142\n",
      "2657/2657 [==============================] - 9s 3ms/step - loss: 2.5374 - mean_squared_error: 2.5374\n",
      "| \u001b[0m9        \u001b[0m | \u001b[0m2.537    \u001b[0m | \u001b[0m0.6843   \u001b[0m | \u001b[0m0.06064  \u001b[0m | \u001b[0m820.2    \u001b[0m | \u001b[0m19.15    \u001b[0m |\n"
     ]
    },
    {
     "name": "stderr",
     "output_type": "stream",
     "text": [
      "WARNING:tensorflow:Layer lstm_28 will not use cuDNN kernels since it doesn't meet the criteria. It will use a generic GPU kernel as fallback when running on GPU.\n"
     ]
    },
    {
     "name": "stdout",
     "output_type": "stream",
     "text": [
      "Epoch 1/5\n",
      "333/333 [==============================] - 10s 14ms/step - loss: 1.8908 - mean_squared_error: 1.8908 - val_loss: 1.1830 - val_mean_squared_error: 1.1830\n",
      "Epoch 2/5\n",
      "333/333 [==============================] - 6s 17ms/step - loss: 1.1383 - mean_squared_error: 1.1383 - val_loss: 0.9641 - val_mean_squared_error: 0.9641\n",
      "Epoch 3/5\n",
      "333/333 [==============================] - 4s 12ms/step - loss: 0.9789 - mean_squared_error: 0.9789 - val_loss: 0.8690 - val_mean_squared_error: 0.8690\n",
      "Epoch 4/5\n",
      "333/333 [==============================] - 4s 12ms/step - loss: 0.9231 - mean_squared_error: 0.9231 - val_loss: 0.8438 - val_mean_squared_error: 0.8438\n",
      "Epoch 5/5\n",
      "333/333 [==============================] - 6s 17ms/step - loss: 0.9006 - mean_squared_error: 0.9006 - val_loss: 0.8260 - val_mean_squared_error: 0.8260\n",
      "2657/2657 [==============================] - 9s 3ms/step - loss: 11.5046 - mean_squared_error: 11.5046\n",
      "| \u001b[0m10       \u001b[0m | \u001b[0m11.5     \u001b[0m | \u001b[0m0.5147   \u001b[0m | \u001b[0m0.02136  \u001b[0m | \u001b[0m818.5    \u001b[0m | \u001b[0m20.22    \u001b[0m |\n"
     ]
    },
    {
     "name": "stderr",
     "output_type": "stream",
     "text": [
      "WARNING:tensorflow:Layer lstm_30 will not use cuDNN kernels since it doesn't meet the criteria. It will use a generic GPU kernel as fallback when running on GPU.\n"
     ]
    },
    {
     "name": "stdout",
     "output_type": "stream",
     "text": [
      "Epoch 1/5\n",
      "333/333 [==============================] - 8s 14ms/step - loss: 1.8876 - mean_squared_error: 1.8876 - val_loss: 1.2119 - val_mean_squared_error: 1.2119\n",
      "Epoch 2/5\n",
      "333/333 [==============================] - 6s 19ms/step - loss: 1.2494 - mean_squared_error: 1.2494 - val_loss: 0.9881 - val_mean_squared_error: 0.9881\n",
      "Epoch 3/5\n",
      "333/333 [==============================] - 4s 12ms/step - loss: 1.0674 - mean_squared_error: 1.0674 - val_loss: 0.8746 - val_mean_squared_error: 0.8746\n",
      "Epoch 4/5\n",
      "333/333 [==============================] - 4s 12ms/step - loss: 0.9916 - mean_squared_error: 0.9916 - val_loss: 0.8361 - val_mean_squared_error: 0.8361\n",
      "Epoch 5/5\n",
      "333/333 [==============================] - 6s 18ms/step - loss: 0.9538 - mean_squared_error: 0.9538 - val_loss: 0.8147 - val_mean_squared_error: 0.8147\n",
      "2657/2657 [==============================] - 8s 3ms/step - loss: 1.1447 - mean_squared_error: 1.1447\n"
     ]
    },
    {
     "name": "stderr",
     "output_type": "stream",
     "text": [
      "WARNING:tensorflow:Layer lstm_32 will not use cuDNN kernels since it doesn't meet the criteria. It will use a generic GPU kernel as fallback when running on GPU.\n"
     ]
    },
    {
     "name": "stdout",
     "output_type": "stream",
     "text": [
      "| \u001b[0m11       \u001b[0m | \u001b[0m1.145    \u001b[0m | \u001b[0m0.7329   \u001b[0m | \u001b[0m0.5493   \u001b[0m | \u001b[0m819.6    \u001b[0m | \u001b[0m21.04    \u001b[0m |\n",
      "Epoch 1/5\n",
      "410/410 [==============================] - 12s 16ms/step - loss: 1.7660 - mean_squared_error: 1.7660 - val_loss: 1.0515 - val_mean_squared_error: 1.0515\n",
      "Epoch 2/5\n",
      "410/410 [==============================] - 6s 15ms/step - loss: 1.0893 - mean_squared_error: 1.0893 - val_loss: 0.8268 - val_mean_squared_error: 0.8268\n",
      "Epoch 3/5\n",
      "410/410 [==============================] - 6s 14ms/step - loss: 0.9731 - mean_squared_error: 0.9731 - val_loss: 0.7866 - val_mean_squared_error: 0.7866\n",
      "Epoch 4/5\n",
      "410/410 [==============================] - 7s 18ms/step - loss: 0.9227 - mean_squared_error: 0.9227 - val_loss: 0.7616 - val_mean_squared_error: 0.7616\n",
      "Epoch 5/5\n",
      "410/410 [==============================] - 5s 13ms/step - loss: 0.8859 - mean_squared_error: 0.8859 - val_loss: 0.7435 - val_mean_squared_error: 0.7435\n",
      "2657/2657 [==============================] - 11s 4ms/step - loss: 1.4766 - mean_squared_error: 1.4766\n",
      "| \u001b[0m12       \u001b[0m | \u001b[0m1.477    \u001b[0m | \u001b[0m0.797    \u001b[0m | \u001b[0m1.575    \u001b[0m | \u001b[0m665.8    \u001b[0m | \u001b[0m12.24    \u001b[0m |\n"
     ]
    },
    {
     "name": "stderr",
     "output_type": "stream",
     "text": [
      "WARNING:tensorflow:Layer lstm_35 will not use cuDNN kernels since it doesn't meet the criteria. It will use a generic GPU kernel as fallback when running on GPU.\n"
     ]
    },
    {
     "name": "stdout",
     "output_type": "stream",
     "text": [
      "Epoch 1/5\n",
      "424/424 [==============================] - 14s 15ms/step - loss: 1.6019 - mean_squared_error: 1.6019 - val_loss: 0.9284 - val_mean_squared_error: 0.9284\n",
      "Epoch 2/5\n",
      "424/424 [==============================] - 7s 17ms/step - loss: 1.0490 - mean_squared_error: 1.0490 - val_loss: 0.8416 - val_mean_squared_error: 0.8416\n",
      "Epoch 3/5\n",
      "424/424 [==============================] - 6s 13ms/step - loss: 0.9836 - mean_squared_error: 0.9836 - val_loss: 0.8156 - val_mean_squared_error: 0.8156\n",
      "Epoch 4/5\n",
      "424/424 [==============================] - 7s 18ms/step - loss: 0.9312 - mean_squared_error: 0.9312 - val_loss: 0.7746 - val_mean_squared_error: 0.7746\n",
      "Epoch 5/5\n",
      "424/424 [==============================] - 6s 13ms/step - loss: 0.8900 - mean_squared_error: 0.8900 - val_loss: 0.7446 - val_mean_squared_error: 0.7446\n",
      "2657/2657 [==============================] - 11s 4ms/step - loss: 1.4175 - mean_squared_error: 1.4175\n",
      "| \u001b[0m13       \u001b[0m | \u001b[0m1.418    \u001b[0m | \u001b[0m0.8548   \u001b[0m | \u001b[0m1.593    \u001b[0m | \u001b[0m643.5    \u001b[0m | \u001b[0m18.37    \u001b[0m |\n"
     ]
    },
    {
     "name": "stderr",
     "output_type": "stream",
     "text": [
      "WARNING:tensorflow:Layer lstm_38 will not use cuDNN kernels since it doesn't meet the criteria. It will use a generic GPU kernel as fallback when running on GPU.\n"
     ]
    },
    {
     "name": "stdout",
     "output_type": "stream",
     "text": [
      "Epoch 1/5\n",
      "525/525 [==============================] - 19s 19ms/step - loss: 1.2641 - mean_squared_error: 1.2641 - val_loss: 0.8115 - val_mean_squared_error: 0.8115\n",
      "Epoch 2/5\n",
      "525/525 [==============================] - 10s 19ms/step - loss: 0.8065 - mean_squared_error: 0.8065 - val_loss: 0.7231 - val_mean_squared_error: 0.7231\n",
      "Epoch 3/5\n",
      "525/525 [==============================] - 10s 20ms/step - loss: 0.7415 - mean_squared_error: 0.7415 - val_loss: 0.6776 - val_mean_squared_error: 0.6776\n",
      "Epoch 4/5\n",
      "525/525 [==============================] - 8s 15ms/step - loss: 0.6998 - mean_squared_error: 0.6998 - val_loss: 0.6385 - val_mean_squared_error: 0.6385\n",
      "Epoch 5/5\n",
      "525/525 [==============================] - 10s 19ms/step - loss: 0.6677 - mean_squared_error: 0.6677 - val_loss: 0.6157 - val_mean_squared_error: 0.6157\n",
      "2657/2657 [==============================] - 11s 4ms/step - loss: 2.9623 - mean_squared_error: 2.9623\n",
      "| \u001b[0m14       \u001b[0m | \u001b[0m2.962    \u001b[0m | \u001b[0m0.5825   \u001b[0m | \u001b[0m2.91     \u001b[0m | \u001b[0m519.3    \u001b[0m | \u001b[0m12.83    \u001b[0m |\n"
     ]
    },
    {
     "name": "stderr",
     "output_type": "stream",
     "text": [
      "WARNING:tensorflow:Layer lstm_42 will not use cuDNN kernels since it doesn't meet the criteria. It will use a generic GPU kernel as fallback when running on GPU.\n"
     ]
    },
    {
     "name": "stdout",
     "output_type": "stream",
     "text": [
      "Epoch 1/5\n",
      "506/506 [==============================] - 11s 12ms/step - loss: 1.6958 - mean_squared_error: 1.6958 - val_loss: 1.0256 - val_mean_squared_error: 1.0256\n",
      "Epoch 2/5\n",
      "506/506 [==============================] - 8s 15ms/step - loss: 1.0204 - mean_squared_error: 1.0204 - val_loss: 0.8488 - val_mean_squared_error: 0.8488\n",
      "Epoch 3/5\n",
      "506/506 [==============================] - 6s 12ms/step - loss: 0.9430 - mean_squared_error: 0.9430 - val_loss: 0.8261 - val_mean_squared_error: 0.8261\n",
      "Epoch 4/5\n",
      "506/506 [==============================] - 8s 15ms/step - loss: 0.9072 - mean_squared_error: 0.9072 - val_loss: 0.7967 - val_mean_squared_error: 0.7967\n",
      "Epoch 5/5\n",
      "506/506 [==============================] - 6s 12ms/step - loss: 0.8748 - mean_squared_error: 0.8748 - val_loss: 0.7746 - val_mean_squared_error: 0.7746\n",
      "2657/2657 [==============================] - 9s 3ms/step - loss: 19.4645 - mean_squared_error: 19.4645\n",
      "| \u001b[0m15       \u001b[0m | \u001b[0m19.46    \u001b[0m | \u001b[0m0.6794   \u001b[0m | \u001b[0m0.2637   \u001b[0m | \u001b[0m538.5    \u001b[0m | \u001b[0m22.04    \u001b[0m |\n"
     ]
    },
    {
     "name": "stderr",
     "output_type": "stream",
     "text": [
      "WARNING:tensorflow:Layer lstm_44 will not use cuDNN kernels since it doesn't meet the criteria. It will use a generic GPU kernel as fallback when running on GPU.\n"
     ]
    },
    {
     "name": "stdout",
     "output_type": "stream",
     "text": [
      "Epoch 1/5\n",
      "277/277 [==============================] - 15s 26ms/step - loss: 1.3832 - mean_squared_error: 1.3832 - val_loss: 0.8554 - val_mean_squared_error: 0.8554\n",
      "Epoch 2/5\n",
      "277/277 [==============================] - 5s 17ms/step - loss: 0.8259 - mean_squared_error: 0.8259 - val_loss: 0.7806 - val_mean_squared_error: 0.7806\n",
      "Epoch 3/5\n",
      "277/277 [==============================] - 5s 17ms/step - loss: 0.7624 - mean_squared_error: 0.7624 - val_loss: 0.7300 - val_mean_squared_error: 0.7300\n",
      "Epoch 4/5\n",
      "277/277 [==============================] - 6s 22ms/step - loss: 0.7266 - mean_squared_error: 0.7266 - val_loss: 0.7061 - val_mean_squared_error: 0.7061\n",
      "Epoch 5/5\n",
      "277/277 [==============================] - 5s 17ms/step - loss: 0.6887 - mean_squared_error: 0.6887 - val_loss: 0.6874 - val_mean_squared_error: 0.6874\n",
      "2657/2657 [==============================] - 12s 5ms/step - loss: 2.2538 - mean_squared_error: 2.2538\n"
     ]
    },
    {
     "name": "stderr",
     "output_type": "stream",
     "text": [
      "WARNING:tensorflow:Layer lstm_48 will not use cuDNN kernels since it doesn't meet the criteria. It will use a generic GPU kernel as fallback when running on GPU.\n"
     ]
    },
    {
     "name": "stdout",
     "output_type": "stream",
     "text": [
      "| \u001b[0m16       \u001b[0m | \u001b[0m2.254    \u001b[0m | \u001b[0m0.5332   \u001b[0m | \u001b[0m2.395    \u001b[0m | \u001b[0m984.1    \u001b[0m | \u001b[0m23.66    \u001b[0m |\n",
      "Epoch 1/5\n",
      "315/315 [==============================] - 8s 15ms/step - loss: 1.9074 - mean_squared_error: 1.9074 - val_loss: 1.2013 - val_mean_squared_error: 1.2013\n",
      "Epoch 2/5\n",
      "315/315 [==============================] - 5s 16ms/step - loss: 1.2348 - mean_squared_error: 1.2348 - val_loss: 1.0332 - val_mean_squared_error: 1.0332\n",
      "Epoch 3/5\n",
      "315/315 [==============================] - 4s 11ms/step - loss: 1.0692 - mean_squared_error: 1.0692 - val_loss: 0.8944 - val_mean_squared_error: 0.8944\n",
      "Epoch 4/5\n",
      "315/315 [==============================] - 4s 12ms/step - loss: 0.9841 - mean_squared_error: 0.9841 - val_loss: 0.8565 - val_mean_squared_error: 0.8565\n",
      "Epoch 5/5\n",
      "315/315 [==============================] - 6s 18ms/step - loss: 0.9499 - mean_squared_error: 0.9499 - val_loss: 0.8413 - val_mean_squared_error: 0.8413\n",
      "2657/2657 [==============================] - 8s 3ms/step - loss: 6.7129 - mean_squared_error: 6.7129\n"
     ]
    },
    {
     "name": "stderr",
     "output_type": "stream",
     "text": [
      "WARNING:tensorflow:Layer lstm_50 will not use cuDNN kernels since it doesn't meet the criteria. It will use a generic GPU kernel as fallback when running on GPU.\n"
     ]
    },
    {
     "name": "stdout",
     "output_type": "stream",
     "text": [
      "| \u001b[0m17       \u001b[0m | \u001b[0m6.713    \u001b[0m | \u001b[0m0.6458   \u001b[0m | \u001b[0m0.8602   \u001b[0m | \u001b[0m866.4    \u001b[0m | \u001b[0m20.01    \u001b[0m |\n",
      "Epoch 1/5\n",
      "280/280 [==============================] - 12s 19ms/step - loss: 1.8350 - mean_squared_error: 1.8350 - val_loss: 1.0819 - val_mean_squared_error: 1.0819\n",
      "Epoch 2/5\n",
      "280/280 [==============================] - 5s 17ms/step - loss: 1.1666 - mean_squared_error: 1.1666 - val_loss: 0.8812 - val_mean_squared_error: 0.8812\n",
      "Epoch 3/5\n",
      "280/280 [==============================] - 4s 14ms/step - loss: 1.0585 - mean_squared_error: 1.0585 - val_loss: 0.8162 - val_mean_squared_error: 0.8162\n",
      "Epoch 4/5\n",
      "280/280 [==============================] - 4s 15ms/step - loss: 0.9908 - mean_squared_error: 0.9908 - val_loss: 0.7818 - val_mean_squared_error: 0.7818\n",
      "Epoch 5/5\n",
      "280/280 [==============================] - 5s 19ms/step - loss: 0.9417 - mean_squared_error: 0.9417 - val_loss: 0.7598 - val_mean_squared_error: 0.7598\n",
      "2657/2657 [==============================] - 11s 4ms/step - loss: 0.9103 - mean_squared_error: 0.9103\n",
      "| \u001b[0m18       \u001b[0m | \u001b[0m0.9103   \u001b[0m | \u001b[0m0.8947   \u001b[0m | \u001b[0m1.815    \u001b[0m | \u001b[0m973.1    \u001b[0m | \u001b[0m21.08    \u001b[0m |\n"
     ]
    },
    {
     "name": "stderr",
     "output_type": "stream",
     "text": [
      "WARNING:tensorflow:Layer lstm_53 will not use cuDNN kernels since it doesn't meet the criteria. It will use a generic GPU kernel as fallback when running on GPU.\n"
     ]
    },
    {
     "name": "stdout",
     "output_type": "stream",
     "text": [
      "Epoch 1/5\n",
      "510/510 [==============================] - 18s 22ms/step - loss: 1.2495 - mean_squared_error: 1.2495 - val_loss: 0.8277 - val_mean_squared_error: 0.8277\n",
      "Epoch 2/5\n",
      "510/510 [==============================] - 10s 19ms/step - loss: 0.8582 - mean_squared_error: 0.8582 - val_loss: 0.7325 - val_mean_squared_error: 0.7325\n",
      "Epoch 3/5\n",
      "510/510 [==============================] - 8s 17ms/step - loss: 0.7828 - mean_squared_error: 0.7828 - val_loss: 0.6905 - val_mean_squared_error: 0.6905\n",
      "Epoch 4/5\n",
      "510/510 [==============================] - 10s 19ms/step - loss: 0.7373 - mean_squared_error: 0.7373 - val_loss: 0.6790 - val_mean_squared_error: 0.6790\n",
      "Epoch 5/5\n",
      "510/510 [==============================] - 10s 20ms/step - loss: 0.7015 - mean_squared_error: 0.7015 - val_loss: 0.6250 - val_mean_squared_error: 0.6250\n",
      "2657/2657 [==============================] - 12s 5ms/step - loss: 1.2415 - mean_squared_error: 1.2415\n"
     ]
    },
    {
     "name": "stderr",
     "output_type": "stream",
     "text": [
      "WARNING:tensorflow:Layer lstm_57 will not use cuDNN kernels since it doesn't meet the criteria. It will use a generic GPU kernel as fallback when running on GPU.\n"
     ]
    },
    {
     "name": "stdout",
     "output_type": "stream",
     "text": [
      "| \u001b[0m19       \u001b[0m | \u001b[0m1.241    \u001b[0m | \u001b[0m0.7856   \u001b[0m | \u001b[0m2.243    \u001b[0m | \u001b[0m534.2    \u001b[0m | \u001b[0m16.83    \u001b[0m |\n",
      "Epoch 1/5\n",
      "411/411 [==============================] - 16s 20ms/step - loss: 1.3228 - mean_squared_error: 1.3228 - val_loss: 0.8158 - val_mean_squared_error: 0.8158\n",
      "Epoch 2/5\n",
      "411/411 [==============================] - 7s 17ms/step - loss: 0.8696 - mean_squared_error: 0.8696 - val_loss: 0.7371 - val_mean_squared_error: 0.7371\n",
      "Epoch 3/5\n",
      "411/411 [==============================] - 8s 19ms/step - loss: 0.8142 - mean_squared_error: 0.8142 - val_loss: 0.7142 - val_mean_squared_error: 0.7142\n",
      "Epoch 4/5\n",
      "411/411 [==============================] - 7s 16ms/step - loss: 0.7645 - mean_squared_error: 0.7645 - val_loss: 0.6521 - val_mean_squared_error: 0.6521\n",
      "Epoch 5/5\n",
      "411/411 [==============================] - 8s 19ms/step - loss: 0.7074 - mean_squared_error: 0.7074 - val_loss: 0.5950 - val_mean_squared_error: 0.5950\n",
      "2657/2657 [==============================] - 12s 4ms/step - loss: 2.0546 - mean_squared_error: 2.0546\n"
     ]
    },
    {
     "name": "stderr",
     "output_type": "stream",
     "text": [
      "WARNING:tensorflow:Layer lstm_61 will not use cuDNN kernels since it doesn't meet the criteria. It will use a generic GPU kernel as fallback when running on GPU.\n"
     ]
    },
    {
     "name": "stdout",
     "output_type": "stream",
     "text": [
      "| \u001b[0m20       \u001b[0m | \u001b[0m2.055    \u001b[0m | \u001b[0m0.8382   \u001b[0m | \u001b[0m2.154    \u001b[0m | \u001b[0m663.2    \u001b[0m | \u001b[0m18.49    \u001b[0m |\n",
      "Epoch 1/5\n",
      "315/315 [==============================] - 15s 19ms/step - loss: 1.3709 - mean_squared_error: 1.3709 - val_loss: 0.8479 - val_mean_squared_error: 0.8479\n",
      "Epoch 2/5\n",
      "315/315 [==============================] - 7s 21ms/step - loss: 0.8335 - mean_squared_error: 0.8335 - val_loss: 0.7729 - val_mean_squared_error: 0.7729\n",
      "Epoch 3/5\n",
      "315/315 [==============================] - 5s 15ms/step - loss: 0.7641 - mean_squared_error: 0.7641 - val_loss: 0.7122 - val_mean_squared_error: 0.7122\n",
      "Epoch 4/5\n",
      "315/315 [==============================] - 7s 21ms/step - loss: 0.7223 - mean_squared_error: 0.7223 - val_loss: 0.6787 - val_mean_squared_error: 0.6787\n",
      "Epoch 5/5\n",
      "315/315 [==============================] - 5s 16ms/step - loss: 0.6957 - mean_squared_error: 0.6957 - val_loss: 0.6583 - val_mean_squared_error: 0.6583\n",
      "2657/2657 [==============================] - 12s 5ms/step - loss: 2.3976 - mean_squared_error: 2.3976\n"
     ]
    },
    {
     "name": "stderr",
     "output_type": "stream",
     "text": [
      "WARNING:tensorflow:Layer lstm_65 will not use cuDNN kernels since it doesn't meet the criteria. It will use a generic GPU kernel as fallback when running on GPU.\n"
     ]
    },
    {
     "name": "stdout",
     "output_type": "stream",
     "text": [
      "| \u001b[0m21       \u001b[0m | \u001b[0m2.398    \u001b[0m | \u001b[0m0.5338   \u001b[0m | \u001b[0m2.429    \u001b[0m | \u001b[0m866.0    \u001b[0m | \u001b[0m19.26    \u001b[0m |\n",
      "Epoch 1/5\n",
      "308/308 [==============================] - 16s 25ms/step - loss: 1.6019 - mean_squared_error: 1.6019 - val_loss: 0.8854 - val_mean_squared_error: 0.8854\n",
      "Epoch 2/5\n",
      "308/308 [==============================] - 5s 16ms/step - loss: 0.9746 - mean_squared_error: 0.9746 - val_loss: 0.8234 - val_mean_squared_error: 0.8234\n",
      "Epoch 3/5\n",
      "308/308 [==============================] - 6s 21ms/step - loss: 0.9068 - mean_squared_error: 0.9068 - val_loss: 0.7687 - val_mean_squared_error: 0.7687\n",
      "Epoch 4/5\n",
      "308/308 [==============================] - 5s 16ms/step - loss: 0.8523 - mean_squared_error: 0.8523 - val_loss: 0.7198 - val_mean_squared_error: 0.7198\n",
      "Epoch 5/5\n",
      "308/308 [==============================] - 5s 16ms/step - loss: 0.8066 - mean_squared_error: 0.8066 - val_loss: 0.6833 - val_mean_squared_error: 0.6833\n",
      "2657/2657 [==============================] - 12s 5ms/step - loss: 2.6451 - mean_squared_error: 2.6451\n",
      "| \u001b[0m22       \u001b[0m | \u001b[0m2.645    \u001b[0m | \u001b[0m0.817    \u001b[0m | \u001b[0m2.922    \u001b[0m | \u001b[0m885.0    \u001b[0m | \u001b[0m12.46    \u001b[0m |\n"
     ]
    },
    {
     "name": "stderr",
     "output_type": "stream",
     "text": [
      "WARNING:tensorflow:Layer lstm_69 will not use cuDNN kernels since it doesn't meet the criteria. It will use a generic GPU kernel as fallback when running on GPU.\n"
     ]
    },
    {
     "name": "stdout",
     "output_type": "stream",
     "text": [
      "Epoch 1/5\n",
      "274/274 [==============================] - 11s 16ms/step - loss: 1.6592 - mean_squared_error: 1.6592 - val_loss: 1.0591 - val_mean_squared_error: 1.0591\n",
      "Epoch 2/5\n",
      "274/274 [==============================] - 4s 13ms/step - loss: 0.9390 - mean_squared_error: 0.9390 - val_loss: 0.8257 - val_mean_squared_error: 0.8257\n",
      "Epoch 3/5\n",
      "274/274 [==============================] - 5s 20ms/step - loss: 0.8448 - mean_squared_error: 0.8448 - val_loss: 0.7652 - val_mean_squared_error: 0.7652\n",
      "Epoch 4/5\n",
      "274/274 [==============================] - 4s 14ms/step - loss: 0.7918 - mean_squared_error: 0.7918 - val_loss: 0.7204 - val_mean_squared_error: 0.7204\n",
      "Epoch 5/5\n",
      "274/274 [==============================] - 4s 14ms/step - loss: 0.7522 - mean_squared_error: 0.7522 - val_loss: 0.6902 - val_mean_squared_error: 0.6902\n",
      "2657/2657 [==============================] - 11s 4ms/step - loss: 2.2554 - mean_squared_error: 2.2554\n",
      "| \u001b[0m23       \u001b[0m | \u001b[0m2.255    \u001b[0m | \u001b[0m0.5923   \u001b[0m | \u001b[0m1.214    \u001b[0m | \u001b[0m996.1    \u001b[0m | \u001b[0m22.34    \u001b[0m |\n"
     ]
    },
    {
     "name": "stderr",
     "output_type": "stream",
     "text": [
      "WARNING:tensorflow:Layer lstm_72 will not use cuDNN kernels since it doesn't meet the criteria. It will use a generic GPU kernel as fallback when running on GPU.\n"
     ]
    },
    {
     "name": "stdout",
     "output_type": "stream",
     "text": [
      "Epoch 1/5\n",
      "344/344 [==============================] - 11s 20ms/step - loss: 1.8074 - mean_squared_error: 1.8074 - val_loss: 1.1713 - val_mean_squared_error: 1.1713\n",
      "Epoch 2/5\n",
      "344/344 [==============================] - 4s 11ms/step - loss: 1.1206 - mean_squared_error: 1.1206 - val_loss: 0.9532 - val_mean_squared_error: 0.9532\n",
      "Epoch 3/5\n",
      "344/344 [==============================] - 4s 13ms/step - loss: 0.9685 - mean_squared_error: 0.9685 - val_loss: 0.8671 - val_mean_squared_error: 0.8671\n",
      "Epoch 4/5\n",
      "344/344 [==============================] - 5s 14ms/step - loss: 0.9154 - mean_squared_error: 0.9154 - val_loss: 0.8312 - val_mean_squared_error: 0.8312\n",
      "Epoch 5/5\n",
      "344/344 [==============================] - 4s 11ms/step - loss: 0.8846 - mean_squared_error: 0.8846 - val_loss: 0.8127 - val_mean_squared_error: 0.8127\n",
      "2657/2657 [==============================] - 9s 4ms/step - loss: 0.9870 - mean_squared_error: 0.9870\n"
     ]
    },
    {
     "name": "stderr",
     "output_type": "stream",
     "text": [
      "WARNING:tensorflow:Layer lstm_74 will not use cuDNN kernels since it doesn't meet the criteria. It will use a generic GPU kernel as fallback when running on GPU.\n"
     ]
    },
    {
     "name": "stdout",
     "output_type": "stream",
     "text": [
      "| \u001b[0m24       \u001b[0m | \u001b[0m0.987    \u001b[0m | \u001b[0m0.5234   \u001b[0m | \u001b[0m0.3865   \u001b[0m | \u001b[0m793.8    \u001b[0m | \u001b[0m22.44    \u001b[0m |\n",
      "Epoch 1/5\n",
      "456/456 [==============================] - 14s 18ms/step - loss: 1.6360 - mean_squared_error: 1.6360 - val_loss: 0.9396 - val_mean_squared_error: 0.9396\n",
      "Epoch 2/5\n",
      "456/456 [==============================] - 7s 15ms/step - loss: 1.0978 - mean_squared_error: 1.0978 - val_loss: 0.8706 - val_mean_squared_error: 0.8706\n",
      "Epoch 3/5\n",
      "456/456 [==============================] - 7s 15ms/step - loss: 1.0003 - mean_squared_error: 1.0003 - val_loss: 0.7801 - val_mean_squared_error: 0.7801\n",
      "Epoch 4/5\n",
      "456/456 [==============================] - 7s 14ms/step - loss: 0.9290 - mean_squared_error: 0.9290 - val_loss: 0.7525 - val_mean_squared_error: 0.7525\n",
      "Epoch 5/5\n",
      "456/456 [==============================] - 7s 15ms/step - loss: 0.8770 - mean_squared_error: 0.8770 - val_loss: 0.7140 - val_mean_squared_error: 0.7140\n",
      "2657/2657 [==============================] - 10s 4ms/step - loss: 1.5962 - mean_squared_error: 1.5962\n"
     ]
    },
    {
     "name": "stderr",
     "output_type": "stream",
     "text": [
      "WARNING:tensorflow:Layer lstm_77 will not use cuDNN kernels since it doesn't meet the criteria. It will use a generic GPU kernel as fallback when running on GPU.\n"
     ]
    },
    {
     "name": "stdout",
     "output_type": "stream",
     "text": [
      "| \u001b[0m25       \u001b[0m | \u001b[0m1.596    \u001b[0m | \u001b[0m0.879    \u001b[0m | \u001b[0m1.811    \u001b[0m | \u001b[0m598.4    \u001b[0m | \u001b[0m17.28    \u001b[0m |\n",
      "Epoch 1/5\n",
      "347/347 [==============================] - 16s 23ms/step - loss: 1.3152 - mean_squared_error: 1.3152 - val_loss: 0.8488 - val_mean_squared_error: 0.8488\n",
      "Epoch 2/5\n",
      "347/347 [==============================] - 5s 16ms/step - loss: 0.8120 - mean_squared_error: 0.8120 - val_loss: 0.7586 - val_mean_squared_error: 0.7586\n",
      "Epoch 3/5\n",
      "347/347 [==============================] - 7s 19ms/step - loss: 0.7564 - mean_squared_error: 0.7564 - val_loss: 0.7062 - val_mean_squared_error: 0.7062\n",
      "Epoch 4/5\n",
      "347/347 [==============================] - 6s 16ms/step - loss: 0.7191 - mean_squared_error: 0.7191 - val_loss: 0.6755 - val_mean_squared_error: 0.6755\n",
      "Epoch 5/5\n",
      "347/347 [==============================] - 6s 18ms/step - loss: 0.6936 - mean_squared_error: 0.6936 - val_loss: 0.6447 - val_mean_squared_error: 0.6447\n",
      "2657/2657 [==============================] - 12s 4ms/step - loss: 1.9664 - mean_squared_error: 1.9664\n",
      "| \u001b[0m26       \u001b[0m | \u001b[0m1.966    \u001b[0m | \u001b[0m0.5595   \u001b[0m | \u001b[0m2.826    \u001b[0m | \u001b[0m785.9    \u001b[0m | \u001b[0m19.41    \u001b[0m |\n"
     ]
    },
    {
     "name": "stderr",
     "output_type": "stream",
     "text": [
      "WARNING:tensorflow:Layer lstm_81 will not use cuDNN kernels since it doesn't meet the criteria. It will use a generic GPU kernel as fallback when running on GPU.\n"
     ]
    },
    {
     "name": "stdout",
     "output_type": "stream",
     "text": [
      "Epoch 1/5\n",
      "373/373 [==============================] - 13s 17ms/step - loss: 1.4584 - mean_squared_error: 1.4584 - val_loss: 0.8765 - val_mean_squared_error: 0.8765\n",
      "Epoch 2/5\n",
      "373/373 [==============================] - 5s 13ms/step - loss: 0.8679 - mean_squared_error: 0.8679 - val_loss: 0.7839 - val_mean_squared_error: 0.7839\n",
      "Epoch 3/5\n",
      "373/373 [==============================] - 6s 17ms/step - loss: 0.7980 - mean_squared_error: 0.7980 - val_loss: 0.7396 - val_mean_squared_error: 0.7396\n",
      "Epoch 4/5\n",
      "373/373 [==============================] - 5s 13ms/step - loss: 0.7569 - mean_squared_error: 0.7569 - val_loss: 0.7147 - val_mean_squared_error: 0.7147\n",
      "Epoch 5/5\n",
      "373/373 [==============================] - 6s 17ms/step - loss: 0.7223 - mean_squared_error: 0.7223 - val_loss: 0.6856 - val_mean_squared_error: 0.6856\n",
      "2657/2657 [==============================] - 10s 4ms/step - loss: 2.8674 - mean_squared_error: 2.8674\n"
     ]
    },
    {
     "name": "stderr",
     "output_type": "stream",
     "text": [
      "WARNING:tensorflow:Layer lstm_84 will not use cuDNN kernels since it doesn't meet the criteria. It will use a generic GPU kernel as fallback when running on GPU.\n"
     ]
    },
    {
     "name": "stdout",
     "output_type": "stream",
     "text": [
      "| \u001b[0m27       \u001b[0m | \u001b[0m2.867    \u001b[0m | \u001b[0m0.5246   \u001b[0m | \u001b[0m1.548    \u001b[0m | \u001b[0m730.7    \u001b[0m | \u001b[0m23.44    \u001b[0m |\n",
      "Epoch 1/5\n",
      "320/320 [==============================] - 11s 17ms/step - loss: 2.0772 - mean_squared_error: 2.0772 - val_loss: 1.2163 - val_mean_squared_error: 1.2163\n",
      "Epoch 2/5\n",
      "320/320 [==============================] - 4s 12ms/step - loss: 1.2708 - mean_squared_error: 1.2708 - val_loss: 1.0345 - val_mean_squared_error: 1.0345\n",
      "Epoch 3/5\n",
      "320/320 [==============================] - 4s 12ms/step - loss: 1.1304 - mean_squared_error: 1.1304 - val_loss: 0.9367 - val_mean_squared_error: 0.9367\n",
      "Epoch 4/5\n",
      "320/320 [==============================] - 5s 17ms/step - loss: 1.0591 - mean_squared_error: 1.0591 - val_loss: 0.8957 - val_mean_squared_error: 0.8957\n",
      "Epoch 5/5\n",
      "320/320 [==============================] - 4s 12ms/step - loss: 1.0174 - mean_squared_error: 1.0174 - val_loss: 0.8710 - val_mean_squared_error: 0.8710\n",
      "2657/2657 [==============================] - 9s 3ms/step - loss: 3.9875 - mean_squared_error: 3.9875\n"
     ]
    },
    {
     "name": "stderr",
     "output_type": "stream",
     "text": [
      "WARNING:tensorflow:Layer lstm_86 will not use cuDNN kernels since it doesn't meet the criteria. It will use a generic GPU kernel as fallback when running on GPU.\n"
     ]
    },
    {
     "name": "stdout",
     "output_type": "stream",
     "text": [
      "| \u001b[0m28       \u001b[0m | \u001b[0m3.988    \u001b[0m | \u001b[0m0.6389   \u001b[0m | \u001b[0m0.6522   \u001b[0m | \u001b[0m853.4    \u001b[0m | \u001b[0m13.92    \u001b[0m |\n",
      "Epoch 1/5\n",
      "405/405 [==============================] - 12s 15ms/step - loss: 1.5056 - mean_squared_error: 1.5056 - val_loss: 0.8911 - val_mean_squared_error: 0.8911\n",
      "Epoch 2/5\n",
      "405/405 [==============================] - 7s 17ms/step - loss: 0.9026 - mean_squared_error: 0.9026 - val_loss: 0.8218 - val_mean_squared_error: 0.8218\n",
      "Epoch 3/5\n",
      "405/405 [==============================] - 5s 13ms/step - loss: 0.8534 - mean_squared_error: 0.8534 - val_loss: 0.7867 - val_mean_squared_error: 0.7867\n",
      "Epoch 4/5\n",
      "405/405 [==============================] - 6s 16ms/step - loss: 0.8178 - mean_squared_error: 0.8178 - val_loss: 0.7539 - val_mean_squared_error: 0.7539\n",
      "Epoch 5/5\n",
      "405/405 [==============================] - 6s 14ms/step - loss: 0.7831 - mean_squared_error: 0.7831 - val_loss: 0.7204 - val_mean_squared_error: 0.7204\n",
      "2657/2657 [==============================] - 10s 4ms/step - loss: 1.9572 - mean_squared_error: 1.9572\n",
      "| \u001b[0m29       \u001b[0m | \u001b[0m1.957    \u001b[0m | \u001b[0m0.5636   \u001b[0m | \u001b[0m1.621    \u001b[0m | \u001b[0m673.4    \u001b[0m | \u001b[0m19.33    \u001b[0m |\n"
     ]
    },
    {
     "name": "stderr",
     "output_type": "stream",
     "text": [
      "WARNING:tensorflow:Layer lstm_89 will not use cuDNN kernels since it doesn't meet the criteria. It will use a generic GPU kernel as fallback when running on GPU.\n"
     ]
    },
    {
     "name": "stdout",
     "output_type": "stream",
     "text": [
      "Epoch 1/5\n",
      "322/322 [==============================] - 15s 22ms/step - loss: 1.3173 - mean_squared_error: 1.3173 - val_loss: 0.8361 - val_mean_squared_error: 0.8361\n",
      "Epoch 2/5\n",
      "322/322 [==============================] - 5s 15ms/step - loss: 0.8196 - mean_squared_error: 0.8196 - val_loss: 0.7585 - val_mean_squared_error: 0.7585\n",
      "Epoch 3/5\n",
      "322/322 [==============================] - 6s 20ms/step - loss: 0.7547 - mean_squared_error: 0.7547 - val_loss: 0.7054 - val_mean_squared_error: 0.7054\n",
      "Epoch 4/5\n",
      "322/322 [==============================] - 5s 15ms/step - loss: 0.7132 - mean_squared_error: 0.7132 - val_loss: 0.6914 - val_mean_squared_error: 0.6914\n",
      "Epoch 5/5\n",
      "322/322 [==============================] - 6s 17ms/step - loss: 0.6808 - mean_squared_error: 0.6808 - val_loss: 0.6472 - val_mean_squared_error: 0.6472\n",
      "2657/2657 [==============================] - 12s 4ms/step - loss: 1.7126 - mean_squared_error: 1.7126\n"
     ]
    },
    {
     "name": "stderr",
     "output_type": "stream",
     "text": [
      "WARNING:tensorflow:Layer lstm_93 will not use cuDNN kernels since it doesn't meet the criteria. It will use a generic GPU kernel as fallback when running on GPU.\n"
     ]
    },
    {
     "name": "stdout",
     "output_type": "stream",
     "text": [
      "| \u001b[0m30       \u001b[0m | \u001b[0m1.713    \u001b[0m | \u001b[0m0.5372   \u001b[0m | \u001b[0m2.254    \u001b[0m | \u001b[0m848.0    \u001b[0m | \u001b[0m22.13    \u001b[0m |\n",
      "Epoch 1/5\n",
      "361/361 [==============================] - 10s 18ms/step - loss: 2.0871 - mean_squared_error: 2.0871 - val_loss: 1.2225 - val_mean_squared_error: 1.2225\n",
      "Epoch 2/5\n",
      "361/361 [==============================] - 4s 12ms/step - loss: 1.3750 - mean_squared_error: 1.3750 - val_loss: 1.0268 - val_mean_squared_error: 1.0268\n",
      "Epoch 3/5\n",
      "361/361 [==============================] - 4s 11ms/step - loss: 1.1921 - mean_squared_error: 1.1921 - val_loss: 0.9262 - val_mean_squared_error: 0.9262\n",
      "Epoch 4/5\n",
      "361/361 [==============================] - 6s 16ms/step - loss: 1.0928 - mean_squared_error: 1.0928 - val_loss: 0.8693 - val_mean_squared_error: 0.8693\n",
      "Epoch 5/5\n",
      "361/361 [==============================] - 4s 11ms/step - loss: 1.0308 - mean_squared_error: 1.0308 - val_loss: 0.8338 - val_mean_squared_error: 0.8338\n",
      "2657/2657 [==============================] - 9s 3ms/step - loss: 12.7313 - mean_squared_error: 12.7313\n"
     ]
    },
    {
     "name": "stderr",
     "output_type": "stream",
     "text": [
      "WARNING:tensorflow:Layer lstm_95 will not use cuDNN kernels since it doesn't meet the criteria. It will use a generic GPU kernel as fallback when running on GPU.\n"
     ]
    },
    {
     "name": "stdout",
     "output_type": "stream",
     "text": [
      "| \u001b[0m31       \u001b[0m | \u001b[0m12.73    \u001b[0m | \u001b[0m0.7865   \u001b[0m | \u001b[0m0.1574   \u001b[0m | \u001b[0m754.9    \u001b[0m | \u001b[0m14.11    \u001b[0m |\n",
      "Epoch 1/5\n",
      "364/364 [==============================] - 11s 16ms/step - loss: 2.1606 - mean_squared_error: 2.1606 - val_loss: 1.2959 - val_mean_squared_error: 1.2959\n",
      "Epoch 2/5\n",
      "364/364 [==============================] - 4s 12ms/step - loss: 1.5755 - mean_squared_error: 1.5755 - val_loss: 1.1930 - val_mean_squared_error: 1.1930\n",
      "Epoch 3/5\n",
      "364/364 [==============================] - 4s 11ms/step - loss: 1.4157 - mean_squared_error: 1.4157 - val_loss: 1.0545 - val_mean_squared_error: 1.0545\n",
      "Epoch 4/5\n",
      "364/364 [==============================] - 6s 16ms/step - loss: 1.2659 - mean_squared_error: 1.2659 - val_loss: 0.9590 - val_mean_squared_error: 0.9590\n",
      "Epoch 5/5\n",
      "364/364 [==============================] - 4s 12ms/step - loss: 1.1813 - mean_squared_error: 1.1813 - val_loss: 0.9337 - val_mean_squared_error: 0.9337\n",
      "2657/2657 [==============================] - 10s 4ms/step - loss: 1.5012 - mean_squared_error: 1.5012\n",
      "| \u001b[0m32       \u001b[0m | \u001b[0m1.501    \u001b[0m | \u001b[0m0.86     \u001b[0m | \u001b[0m0.6302   \u001b[0m | \u001b[0m748.2    \u001b[0m | \u001b[0m13.72    \u001b[0m |\n"
     ]
    },
    {
     "name": "stderr",
     "output_type": "stream",
     "text": [
      "WARNING:tensorflow:Layer lstm_97 will not use cuDNN kernels since it doesn't meet the criteria. It will use a generic GPU kernel as fallback when running on GPU.\n"
     ]
    },
    {
     "name": "stdout",
     "output_type": "stream",
     "text": [
      "Epoch 1/5\n",
      "283/283 [==============================] - 9s 15ms/step - loss: 2.0807 - mean_squared_error: 2.0807 - val_loss: 1.2372 - val_mean_squared_error: 1.2372\n",
      "Epoch 2/5\n",
      "283/283 [==============================] - 6s 20ms/step - loss: 1.3874 - mean_squared_error: 1.3874 - val_loss: 1.0399 - val_mean_squared_error: 1.0399\n",
      "Epoch 3/5\n",
      "283/283 [==============================] - 3s 12ms/step - loss: 1.1755 - mean_squared_error: 1.1755 - val_loss: 0.8881 - val_mean_squared_error: 0.8881\n",
      "Epoch 4/5\n",
      "283/283 [==============================] - 4s 13ms/step - loss: 1.0806 - mean_squared_error: 1.0806 - val_loss: 0.8450 - val_mean_squared_error: 0.8450\n",
      "Epoch 5/5\n",
      "283/283 [==============================] - 5s 16ms/step - loss: 1.0370 - mean_squared_error: 1.0370 - val_loss: 0.8135 - val_mean_squared_error: 0.8135\n",
      "2657/2657 [==============================] - 9s 4ms/step - loss: 9.1230 - mean_squared_error: 9.1230\n",
      "| \u001b[0m33       \u001b[0m | \u001b[0m9.123    \u001b[0m | \u001b[0m0.8352   \u001b[0m | \u001b[0m0.8817   \u001b[0m | \u001b[0m965.3    \u001b[0m | \u001b[0m20.29    \u001b[0m |\n"
     ]
    },
    {
     "name": "stderr",
     "output_type": "stream",
     "text": [
      "WARNING:tensorflow:Layer lstm_99 will not use cuDNN kernels since it doesn't meet the criteria. It will use a generic GPU kernel as fallback when running on GPU.\n"
     ]
    },
    {
     "name": "stdout",
     "output_type": "stream",
     "text": [
      "Epoch 1/5\n",
      "440/440 [==============================] - 10s 15ms/step - loss: 1.8428 - mean_squared_error: 1.8428 - val_loss: 1.2000 - val_mean_squared_error: 1.2000\n",
      "Epoch 2/5\n",
      "440/440 [==============================] - 6s 13ms/step - loss: 1.2822 - mean_squared_error: 1.2822 - val_loss: 0.9496 - val_mean_squared_error: 0.9496\n",
      "Epoch 3/5\n",
      "440/440 [==============================] - 5s 11ms/step - loss: 1.0813 - mean_squared_error: 1.0813 - val_loss: 0.8422 - val_mean_squared_error: 0.8422\n",
      "Epoch 4/5\n",
      "440/440 [==============================] - 7s 15ms/step - loss: 1.0036 - mean_squared_error: 1.0036 - val_loss: 0.8298 - val_mean_squared_error: 0.8298\n",
      "Epoch 5/5\n",
      "440/440 [==============================] - 5s 12ms/step - loss: 0.9511 - mean_squared_error: 0.9511 - val_loss: 0.7846 - val_mean_squared_error: 0.7846\n",
      "2657/2657 [==============================] - 9s 3ms/step - loss: 26.8458 - mean_squared_error: 26.8458\n",
      "| \u001b[95m34       \u001b[0m | \u001b[95m26.85    \u001b[0m | \u001b[95m0.8317   \u001b[0m | \u001b[95m0.337    \u001b[0m | \u001b[95m619.7    \u001b[0m | \u001b[95m22.29    \u001b[0m |\n"
     ]
    },
    {
     "name": "stderr",
     "output_type": "stream",
     "text": [
      "WARNING:tensorflow:Layer lstm_101 will not use cuDNN kernels since it doesn't meet the criteria. It will use a generic GPU kernel as fallback when running on GPU.\n"
     ]
    },
    {
     "name": "stdout",
     "output_type": "stream",
     "text": [
      "Epoch 1/5\n",
      "339/339 [==============================] - 11s 18ms/step - loss: 1.9227 - mean_squared_error: 1.9227 - val_loss: 1.2033 - val_mean_squared_error: 1.2033\n",
      "Epoch 2/5\n",
      "339/339 [==============================] - 4s 12ms/step - loss: 1.2250 - mean_squared_error: 1.2250 - val_loss: 0.9432 - val_mean_squared_error: 0.9432\n",
      "Epoch 3/5\n",
      "339/339 [==============================] - 4s 12ms/step - loss: 1.0461 - mean_squared_error: 1.0461 - val_loss: 0.8743 - val_mean_squared_error: 0.8743\n",
      "Epoch 4/5\n",
      "339/339 [==============================] - 6s 17ms/step - loss: 0.9987 - mean_squared_error: 0.9987 - val_loss: 0.8368 - val_mean_squared_error: 0.8368\n",
      "Epoch 5/5\n",
      "339/339 [==============================] - 4s 13ms/step - loss: 0.9692 - mean_squared_error: 0.9692 - val_loss: 0.8317 - val_mean_squared_error: 0.8317\n",
      "2657/2657 [==============================] - 9s 3ms/step - loss: 26.7210 - mean_squared_error: 26.7210\n"
     ]
    },
    {
     "name": "stderr",
     "output_type": "stream",
     "text": [
      "WARNING:tensorflow:Layer lstm_103 will not use cuDNN kernels since it doesn't meet the criteria. It will use a generic GPU kernel as fallback when running on GPU.\n"
     ]
    },
    {
     "name": "stdout",
     "output_type": "stream",
     "text": [
      "| \u001b[0m35       \u001b[0m | \u001b[0m26.72    \u001b[0m | \u001b[0m0.7402   \u001b[0m | \u001b[0m0.5213   \u001b[0m | \u001b[0m805.7    \u001b[0m | \u001b[0m21.42    \u001b[0m |\n",
      "Epoch 1/5\n",
      "499/499 [==============================] - 12s 16ms/step - loss: 1.7729 - mean_squared_error: 1.7729 - val_loss: 1.1570 - val_mean_squared_error: 1.1570\n",
      "Epoch 2/5\n",
      "499/499 [==============================] - 6s 11ms/step - loss: 1.2488 - mean_squared_error: 1.2488 - val_loss: 0.9463 - val_mean_squared_error: 0.9463\n",
      "Epoch 3/5\n",
      "499/499 [==============================] - 7s 15ms/step - loss: 1.0751 - mean_squared_error: 1.0751 - val_loss: 0.8730 - val_mean_squared_error: 0.8730\n",
      "Epoch 4/5\n",
      "499/499 [==============================] - 6s 11ms/step - loss: 1.0095 - mean_squared_error: 1.0095 - val_loss: 0.8340 - val_mean_squared_error: 0.8340\n",
      "Epoch 5/5\n",
      "499/499 [==============================] - 7s 15ms/step - loss: 0.9684 - mean_squared_error: 0.9684 - val_loss: 0.8239 - val_mean_squared_error: 0.8239\n",
      "2657/2657 [==============================] - 9s 3ms/step - loss: 4.9038 - mean_squared_error: 4.9038\n",
      "| \u001b[0m36       \u001b[0m | \u001b[0m4.904    \u001b[0m | \u001b[0m0.8193   \u001b[0m | \u001b[0m0.02342  \u001b[0m | \u001b[0m546.5    \u001b[0m | \u001b[0m22.8     \u001b[0m |\n"
     ]
    },
    {
     "name": "stderr",
     "output_type": "stream",
     "text": [
      "WARNING:tensorflow:Layer lstm_105 will not use cuDNN kernels since it doesn't meet the criteria. It will use a generic GPU kernel as fallback when running on GPU.\n"
     ]
    },
    {
     "name": "stdout",
     "output_type": "stream",
     "text": [
      "Epoch 1/5\n",
      "274/274 [==============================] - 10s 15ms/step - loss: 1.9707 - mean_squared_error: 1.9707 - val_loss: 1.2261 - val_mean_squared_error: 1.2261\n",
      "Epoch 2/5\n",
      "274/274 [==============================] - 4s 14ms/step - loss: 1.2095 - mean_squared_error: 1.2095 - val_loss: 1.0538 - val_mean_squared_error: 1.0538\n",
      "Epoch 3/5\n",
      "274/274 [==============================] - 4s 16ms/step - loss: 1.0317 - mean_squared_error: 1.0317 - val_loss: 0.8865 - val_mean_squared_error: 0.8865\n",
      "Epoch 4/5\n",
      "274/274 [==============================] - 3s 12ms/step - loss: 0.9344 - mean_squared_error: 0.9344 - val_loss: 0.8495 - val_mean_squared_error: 0.8495\n",
      "Epoch 5/5\n",
      "274/274 [==============================] - 3s 12ms/step - loss: 0.9068 - mean_squared_error: 0.9068 - val_loss: 0.8235 - val_mean_squared_error: 0.8235\n",
      "2657/2657 [==============================] - 9s 4ms/step - loss: 3.0644 - mean_squared_error: 3.0644\n",
      "| \u001b[0m37       \u001b[0m | \u001b[0m3.064    \u001b[0m | \u001b[0m0.5329   \u001b[0m | \u001b[0m0.499    \u001b[0m | \u001b[0m994.3    \u001b[0m | \u001b[0m23.36    \u001b[0m |\n"
     ]
    },
    {
     "name": "stderr",
     "output_type": "stream",
     "text": [
      "WARNING:tensorflow:Layer lstm_107 will not use cuDNN kernels since it doesn't meet the criteria. It will use a generic GPU kernel as fallback when running on GPU.\n"
     ]
    },
    {
     "name": "stdout",
     "output_type": "stream",
     "text": [
      "Epoch 1/5\n",
      "287/287 [==============================] - 14s 20ms/step - loss: 1.4725 - mean_squared_error: 1.4725 - val_loss: 0.8777 - val_mean_squared_error: 0.8777\n",
      "Epoch 2/5\n",
      "287/287 [==============================] - 5s 16ms/step - loss: 0.9106 - mean_squared_error: 0.9106 - val_loss: 0.8071 - val_mean_squared_error: 0.8071\n",
      "Epoch 3/5\n",
      "287/287 [==============================] - 6s 21ms/step - loss: 0.8428 - mean_squared_error: 0.8428 - val_loss: 0.7457 - val_mean_squared_error: 0.7457\n",
      "Epoch 4/5\n",
      "287/287 [==============================] - 4s 15ms/step - loss: 0.7878 - mean_squared_error: 0.7878 - val_loss: 0.7044 - val_mean_squared_error: 0.7044\n",
      "Epoch 5/5\n",
      "287/287 [==============================] - 5s 18ms/step - loss: 0.7533 - mean_squared_error: 0.7533 - val_loss: 0.6852 - val_mean_squared_error: 0.6852\n",
      "2657/2657 [==============================] - 11s 4ms/step - loss: 2.5882 - mean_squared_error: 2.5882\n"
     ]
    },
    {
     "name": "stderr",
     "output_type": "stream",
     "text": [
      "WARNING:tensorflow:Layer lstm_111 will not use cuDNN kernels since it doesn't meet the criteria. It will use a generic GPU kernel as fallback when running on GPU.\n"
     ]
    },
    {
     "name": "stdout",
     "output_type": "stream",
     "text": [
      "| \u001b[0m38       \u001b[0m | \u001b[0m2.588    \u001b[0m | \u001b[0m0.7471   \u001b[0m | \u001b[0m2.319    \u001b[0m | \u001b[0m949.9    \u001b[0m | \u001b[0m17.23    \u001b[0m |\n",
      "Epoch 1/5\n",
      "398/398 [==============================] - 16s 19ms/step - loss: 1.2404 - mean_squared_error: 1.2404 - val_loss: 0.8405 - val_mean_squared_error: 0.8405\n",
      "Epoch 2/5\n",
      "398/398 [==============================] - 7s 18ms/step - loss: 0.8171 - mean_squared_error: 0.8171 - val_loss: 0.7453 - val_mean_squared_error: 0.7453\n",
      "Epoch 3/5\n",
      "398/398 [==============================] - 7s 17ms/step - loss: 0.7377 - mean_squared_error: 0.7377 - val_loss: 0.6798 - val_mean_squared_error: 0.6798\n",
      "Epoch 4/5\n",
      "398/398 [==============================] - 7s 17ms/step - loss: 0.6938 - mean_squared_error: 0.6938 - val_loss: 0.6533 - val_mean_squared_error: 0.6533\n",
      "Epoch 5/5\n",
      "398/398 [==============================] - 6s 15ms/step - loss: 0.6669 - mean_squared_error: 0.6669 - val_loss: 0.6295 - val_mean_squared_error: 0.6295\n",
      "2657/2657 [==============================] - 12s 4ms/step - loss: 1.7449 - mean_squared_error: 1.7449\n",
      "| \u001b[0m39       \u001b[0m | \u001b[0m1.745    \u001b[0m | \u001b[0m0.5913   \u001b[0m | \u001b[0m2.829    \u001b[0m | \u001b[0m684.9    \u001b[0m | \u001b[0m22.82    \u001b[0m |\n"
     ]
    },
    {
     "name": "stderr",
     "output_type": "stream",
     "text": [
      "WARNING:tensorflow:Layer lstm_115 will not use cuDNN kernels since it doesn't meet the criteria. It will use a generic GPU kernel as fallback when running on GPU.\n"
     ]
    },
    {
     "name": "stdout",
     "output_type": "stream",
     "text": [
      "Epoch 1/5\n",
      "273/273 [==============================] - 12s 20ms/step - loss: 1.6712 - mean_squared_error: 1.6712 - val_loss: 1.0267 - val_mean_squared_error: 1.0267\n",
      "Epoch 2/5\n",
      "273/273 [==============================] - 5s 17ms/step - loss: 0.9309 - mean_squared_error: 0.9309 - val_loss: 0.8094 - val_mean_squared_error: 0.8094\n",
      "Epoch 3/5\n",
      "273/273 [==============================] - 4s 15ms/step - loss: 0.8398 - mean_squared_error: 0.8398 - val_loss: 0.7735 - val_mean_squared_error: 0.7735\n",
      "Epoch 4/5\n",
      "273/273 [==============================] - 4s 13ms/step - loss: 0.8106 - mean_squared_error: 0.8106 - val_loss: 0.7515 - val_mean_squared_error: 0.7515\n",
      "Epoch 5/5\n",
      "273/273 [==============================] - 4s 14ms/step - loss: 0.7800 - mean_squared_error: 0.7800 - val_loss: 0.7172 - val_mean_squared_error: 0.7172\n",
      "2657/2657 [==============================] - 11s 4ms/step - loss: 1.7528 - mean_squared_error: 1.7528\n"
     ]
    },
    {
     "name": "stderr",
     "output_type": "stream",
     "text": [
      "WARNING:tensorflow:Layer lstm_118 will not use cuDNN kernels since it doesn't meet the criteria. It will use a generic GPU kernel as fallback when running on GPU.\n"
     ]
    },
    {
     "name": "stdout",
     "output_type": "stream",
     "text": [
      "| \u001b[0m40       \u001b[0m | \u001b[0m1.753    \u001b[0m | \u001b[0m0.5899   \u001b[0m | \u001b[0m1.77     \u001b[0m | \u001b[0m997.8    \u001b[0m | \u001b[0m22.45    \u001b[0m |\n",
      "Epoch 1/5\n",
      "302/302 [==============================] - 11s 17ms/step - loss: 1.6679 - mean_squared_error: 1.6679 - val_loss: 0.9899 - val_mean_squared_error: 0.9899\n",
      "Epoch 2/5\n",
      "302/302 [==============================] - 6s 20ms/step - loss: 0.9916 - mean_squared_error: 0.9916 - val_loss: 0.8476 - val_mean_squared_error: 0.8476\n",
      "Epoch 3/5\n",
      "302/302 [==============================] - 4s 14ms/step - loss: 0.9159 - mean_squared_error: 0.9159 - val_loss: 0.7939 - val_mean_squared_error: 0.7939\n",
      "Epoch 4/5\n",
      "302/302 [==============================] - 4s 14ms/step - loss: 0.8761 - mean_squared_error: 0.8761 - val_loss: 0.7692 - val_mean_squared_error: 0.7692\n",
      "Epoch 5/5\n",
      "302/302 [==============================] - 5s 18ms/step - loss: 0.8411 - mean_squared_error: 0.8411 - val_loss: 0.7391 - val_mean_squared_error: 0.7391\n",
      "2657/2657 [==============================] - 11s 4ms/step - loss: 1.0671 - mean_squared_error: 1.0671\n",
      "| \u001b[0m41       \u001b[0m | \u001b[0m1.067    \u001b[0m | \u001b[0m0.7566   \u001b[0m | \u001b[0m1.367    \u001b[0m | \u001b[0m904.4    \u001b[0m | \u001b[0m21.73    \u001b[0m |\n"
     ]
    },
    {
     "name": "stderr",
     "output_type": "stream",
     "text": [
      "WARNING:tensorflow:Layer lstm_121 will not use cuDNN kernels since it doesn't meet the criteria. It will use a generic GPU kernel as fallback when running on GPU.\n"
     ]
    },
    {
     "name": "stdout",
     "output_type": "stream",
     "text": [
      "Epoch 1/5\n",
      "401/401 [==============================] - 17s 20ms/step - loss: 1.3446 - mean_squared_error: 1.3446 - val_loss: 0.8510 - val_mean_squared_error: 0.8510\n",
      "Epoch 2/5\n",
      "401/401 [==============================] - 8s 19ms/step - loss: 0.8597 - mean_squared_error: 0.8597 - val_loss: 0.7767 - val_mean_squared_error: 0.7767\n",
      "Epoch 3/5\n",
      "401/401 [==============================] - 6s 16ms/step - loss: 0.7804 - mean_squared_error: 0.7804 - val_loss: 0.7178 - val_mean_squared_error: 0.7178\n",
      "Epoch 4/5\n",
      "401/401 [==============================] - 8s 21ms/step - loss: 0.7363 - mean_squared_error: 0.7363 - val_loss: 0.6785 - val_mean_squared_error: 0.6785\n",
      "Epoch 5/5\n",
      "401/401 [==============================] - 6s 15ms/step - loss: 0.7080 - mean_squared_error: 0.7080 - val_loss: 0.6595 - val_mean_squared_error: 0.6595\n",
      "2657/2657 [==============================] - 12s 5ms/step - loss: 2.2816 - mean_squared_error: 2.2816\n"
     ]
    },
    {
     "name": "stderr",
     "output_type": "stream",
     "text": [
      "WARNING:tensorflow:Layer lstm_125 will not use cuDNN kernels since it doesn't meet the criteria. It will use a generic GPU kernel as fallback when running on GPU.\n"
     ]
    },
    {
     "name": "stdout",
     "output_type": "stream",
     "text": [
      "| \u001b[0m42       \u001b[0m | \u001b[0m2.282    \u001b[0m | \u001b[0m0.5897   \u001b[0m | \u001b[0m2.422    \u001b[0m | \u001b[0m680.6    \u001b[0m | \u001b[0m14.57    \u001b[0m |\n",
      "Epoch 1/5\n",
      "461/461 [==============================] - 17s 22ms/step - loss: 1.2973 - mean_squared_error: 1.2973 - val_loss: 0.8396 - val_mean_squared_error: 0.8396\n",
      "Epoch 2/5\n",
      "461/461 [==============================] - 9s 19ms/step - loss: 0.8254 - mean_squared_error: 0.8254 - val_loss: 0.7567 - val_mean_squared_error: 0.7567\n",
      "Epoch 3/5\n",
      "461/461 [==============================] - 7s 14ms/step - loss: 0.7701 - mean_squared_error: 0.7701 - val_loss: 0.7349 - val_mean_squared_error: 0.7349\n",
      "Epoch 4/5\n",
      "461/461 [==============================] - 9s 19ms/step - loss: 0.7346 - mean_squared_error: 0.7346 - val_loss: 0.6861 - val_mean_squared_error: 0.6861\n",
      "Epoch 5/5\n",
      "461/461 [==============================] - 7s 14ms/step - loss: 0.7000 - mean_squared_error: 0.7000 - val_loss: 0.6524 - val_mean_squared_error: 0.6524\n",
      "2657/2657 [==============================] - 12s 5ms/step - loss: 1.4204 - mean_squared_error: 1.4204\n"
     ]
    },
    {
     "name": "stderr",
     "output_type": "stream",
     "text": [
      "WARNING:tensorflow:Layer lstm_129 will not use cuDNN kernels since it doesn't meet the criteria. It will use a generic GPU kernel as fallback when running on GPU.\n"
     ]
    },
    {
     "name": "stdout",
     "output_type": "stream",
     "text": [
      "| \u001b[0m43       \u001b[0m | \u001b[0m1.42     \u001b[0m | \u001b[0m0.5464   \u001b[0m | \u001b[0m2.617    \u001b[0m | \u001b[0m591.4    \u001b[0m | \u001b[0m13.18    \u001b[0m |\n",
      "Epoch 1/5\n",
      "349/349 [==============================] - 15s 19ms/step - loss: 1.2905 - mean_squared_error: 1.2905 - val_loss: 0.8212 - val_mean_squared_error: 0.8212\n",
      "Epoch 2/5\n",
      "349/349 [==============================] - 7s 21ms/step - loss: 0.8093 - mean_squared_error: 0.8093 - val_loss: 0.7762 - val_mean_squared_error: 0.7762\n",
      "Epoch 3/5\n",
      "349/349 [==============================] - 5s 15ms/step - loss: 0.7594 - mean_squared_error: 0.7594 - val_loss: 0.7073 - val_mean_squared_error: 0.7073\n",
      "Epoch 4/5\n",
      "349/349 [==============================] - 6s 19ms/step - loss: 0.7102 - mean_squared_error: 0.7102 - val_loss: 0.6911 - val_mean_squared_error: 0.6911\n",
      "Epoch 5/5\n",
      "349/349 [==============================] - 6s 16ms/step - loss: 0.6481 - mean_squared_error: 0.6481 - val_loss: 0.5888 - val_mean_squared_error: 0.5888\n",
      "2657/2657 [==============================] - 12s 5ms/step - loss: 2.8905 - mean_squared_error: 2.8905\n",
      "| \u001b[0m44       \u001b[0m | \u001b[0m2.891    \u001b[0m | \u001b[0m0.6061   \u001b[0m | \u001b[0m2.977    \u001b[0m | \u001b[0m780.5    \u001b[0m | \u001b[0m23.67    \u001b[0m |\n"
     ]
    },
    {
     "name": "stderr",
     "output_type": "stream",
     "text": [
      "WARNING:tensorflow:Layer lstm_133 will not use cuDNN kernels since it doesn't meet the criteria. It will use a generic GPU kernel as fallback when running on GPU.\n"
     ]
    },
    {
     "name": "stdout",
     "output_type": "stream",
     "text": [
      "Epoch 1/5\n",
      "283/283 [==============================] - 15s 25ms/step - loss: 1.5021 - mean_squared_error: 1.5021 - val_loss: 0.8665 - val_mean_squared_error: 0.8665\n",
      "Epoch 2/5\n",
      "283/283 [==============================] - 4s 16ms/step - loss: 0.8988 - mean_squared_error: 0.8988 - val_loss: 0.7893 - val_mean_squared_error: 0.7893\n",
      "Epoch 3/5\n",
      "283/283 [==============================] - 5s 16ms/step - loss: 0.8379 - mean_squared_error: 0.8379 - val_loss: 0.7442 - val_mean_squared_error: 0.7442\n",
      "Epoch 4/5\n",
      "283/283 [==============================] - 6s 20ms/step - loss: 0.8026 - mean_squared_error: 0.8026 - val_loss: 0.7032 - val_mean_squared_error: 0.7032\n",
      "Epoch 5/5\n",
      "283/283 [==============================] - 4s 15ms/step - loss: 0.7642 - mean_squared_error: 0.7642 - val_loss: 0.6624 - val_mean_squared_error: 0.6624\n",
      "2657/2657 [==============================] - 12s 5ms/step - loss: 2.2828 - mean_squared_error: 2.2828\n"
     ]
    },
    {
     "name": "stderr",
     "output_type": "stream",
     "text": [
      "WARNING:tensorflow:Layer lstm_137 will not use cuDNN kernels since it doesn't meet the criteria. It will use a generic GPU kernel as fallback when running on GPU.\n"
     ]
    },
    {
     "name": "stdout",
     "output_type": "stream",
     "text": [
      "| \u001b[0m45       \u001b[0m | \u001b[0m2.283    \u001b[0m | \u001b[0m0.8149   \u001b[0m | \u001b[0m2.9      \u001b[0m | \u001b[0m963.0    \u001b[0m | \u001b[0m18.32    \u001b[0m |\n",
      "Epoch 1/5\n",
      "472/472 [==============================] - 11s 15ms/step - loss: 1.8839 - mean_squared_error: 1.8839 - val_loss: 1.1526 - val_mean_squared_error: 1.1526\n",
      "Epoch 2/5\n",
      "472/472 [==============================] - 6s 12ms/step - loss: 1.2688 - mean_squared_error: 1.2688 - val_loss: 0.9605 - val_mean_squared_error: 0.9605\n",
      "Epoch 3/5\n",
      "472/472 [==============================] - 6s 13ms/step - loss: 1.1080 - mean_squared_error: 1.1080 - val_loss: 0.8735 - val_mean_squared_error: 0.8735\n",
      "Epoch 4/5\n",
      "472/472 [==============================] - 6s 13ms/step - loss: 1.0371 - mean_squared_error: 1.0371 - val_loss: 0.8557 - val_mean_squared_error: 0.8557\n",
      "Epoch 5/5\n",
      "472/472 [==============================] - 5s 12ms/step - loss: 0.9948 - mean_squared_error: 0.9948 - val_loss: 0.8325 - val_mean_squared_error: 0.8325\n",
      "2657/2657 [==============================] - 9s 4ms/step - loss: 10.6431 - mean_squared_error: 10.6431\n"
     ]
    },
    {
     "name": "stderr",
     "output_type": "stream",
     "text": [
      "WARNING:tensorflow:Layer lstm_139 will not use cuDNN kernels since it doesn't meet the criteria. It will use a generic GPU kernel as fallback when running on GPU.\n"
     ]
    },
    {
     "name": "stdout",
     "output_type": "stream",
     "text": [
      "| \u001b[0m46       \u001b[0m | \u001b[0m10.64    \u001b[0m | \u001b[0m0.7827   \u001b[0m | \u001b[0m0.3174   \u001b[0m | \u001b[0m577.8    \u001b[0m | \u001b[0m15.06    \u001b[0m |\n",
      "Epoch 1/5\n",
      "285/285 [==============================] - 15s 20ms/step - loss: 1.4623 - mean_squared_error: 1.4623 - val_loss: 0.8838 - val_mean_squared_error: 0.8838\n",
      "Epoch 2/5\n",
      "285/285 [==============================] - 6s 22ms/step - loss: 0.8561 - mean_squared_error: 0.8561 - val_loss: 0.7829 - val_mean_squared_error: 0.7829\n",
      "Epoch 3/5\n",
      "285/285 [==============================] - 5s 16ms/step - loss: 0.7754 - mean_squared_error: 0.7754 - val_loss: 0.7160 - val_mean_squared_error: 0.7160\n",
      "Epoch 4/5\n",
      "285/285 [==============================] - 4s 16ms/step - loss: 0.7349 - mean_squared_error: 0.7349 - val_loss: 0.6862 - val_mean_squared_error: 0.6862\n",
      "Epoch 5/5\n",
      "285/285 [==============================] - 6s 22ms/step - loss: 0.7060 - mean_squared_error: 0.7060 - val_loss: 0.6584 - val_mean_squared_error: 0.6584\n",
      "2657/2657 [==============================] - 12s 5ms/step - loss: 1.9026 - mean_squared_error: 1.9026\n",
      "| \u001b[0m47       \u001b[0m | \u001b[0m1.903    \u001b[0m | \u001b[0m0.5841   \u001b[0m | \u001b[0m2.367    \u001b[0m | \u001b[0m958.8    \u001b[0m | \u001b[0m16.76    \u001b[0m |\n"
     ]
    },
    {
     "name": "stderr",
     "output_type": "stream",
     "text": [
      "WARNING:tensorflow:Layer lstm_143 will not use cuDNN kernels since it doesn't meet the criteria. It will use a generic GPU kernel as fallback when running on GPU.\n"
     ]
    },
    {
     "name": "stdout",
     "output_type": "stream",
     "text": [
      "Epoch 1/5\n",
      "311/311 [==============================] - 16s 25ms/step - loss: 1.4439 - mean_squared_error: 1.4439 - val_loss: 0.8818 - val_mean_squared_error: 0.8818\n",
      "Epoch 2/5\n",
      "311/311 [==============================] - 5s 15ms/step - loss: 0.8832 - mean_squared_error: 0.8832 - val_loss: 0.7914 - val_mean_squared_error: 0.7914\n",
      "Epoch 3/5\n",
      "311/311 [==============================] - 7s 21ms/step - loss: 0.8125 - mean_squared_error: 0.8125 - val_loss: 0.7434 - val_mean_squared_error: 0.7434\n",
      "Epoch 4/5\n",
      "311/311 [==============================] - 5s 16ms/step - loss: 0.7695 - mean_squared_error: 0.7695 - val_loss: 0.7163 - val_mean_squared_error: 0.7163\n",
      "Epoch 5/5\n",
      "311/311 [==============================] - 6s 19ms/step - loss: 0.7326 - mean_squared_error: 0.7326 - val_loss: 0.6833 - val_mean_squared_error: 0.6833\n",
      "2657/2657 [==============================] - 11s 4ms/step - loss: 2.6349 - mean_squared_error: 2.6349\n",
      "| \u001b[0m48       \u001b[0m | \u001b[0m2.635    \u001b[0m | \u001b[0m0.6561   \u001b[0m | \u001b[0m2.531    \u001b[0m | \u001b[0m877.0    \u001b[0m | \u001b[0m16.83    \u001b[0m |\n"
     ]
    },
    {
     "name": "stderr",
     "output_type": "stream",
     "text": [
      "WARNING:tensorflow:Layer lstm_147 will not use cuDNN kernels since it doesn't meet the criteria. It will use a generic GPU kernel as fallback when running on GPU.\n"
     ]
    },
    {
     "name": "stdout",
     "output_type": "stream",
     "text": [
      "Epoch 1/5\n",
      "323/323 [==============================] - 14s 22ms/step - loss: 1.3453 - mean_squared_error: 1.3453 - val_loss: 0.8485 - val_mean_squared_error: 0.8485\n",
      "Epoch 2/5\n",
      "323/323 [==============================] - 5s 17ms/step - loss: 0.8360 - mean_squared_error: 0.8360 - val_loss: 0.7429 - val_mean_squared_error: 0.7429\n",
      "Epoch 3/5\n",
      "323/323 [==============================] - 5s 15ms/step - loss: 0.7763 - mean_squared_error: 0.7763 - val_loss: 0.7012 - val_mean_squared_error: 0.7012\n",
      "Epoch 4/5\n",
      "323/323 [==============================] - 7s 21ms/step - loss: 0.7366 - mean_squared_error: 0.7366 - val_loss: 0.7106 - val_mean_squared_error: 0.7106\n",
      "Epoch 5/5\n",
      "323/323 [==============================] - 5s 15ms/step - loss: 0.7093 - mean_squared_error: 0.7093 - val_loss: 0.6408 - val_mean_squared_error: 0.6408\n",
      "2657/2657 [==============================] - 12s 5ms/step - loss: 2.0848 - mean_squared_error: 2.0848\n",
      "| \u001b[0m49       \u001b[0m | \u001b[0m2.085    \u001b[0m | \u001b[0m0.7598   \u001b[0m | \u001b[0m2.376    \u001b[0m | \u001b[0m843.0    \u001b[0m | \u001b[0m23.04    \u001b[0m |\n"
     ]
    },
    {
     "name": "stderr",
     "output_type": "stream",
     "text": [
      "WARNING:tensorflow:Layer lstm_151 will not use cuDNN kernels since it doesn't meet the criteria. It will use a generic GPU kernel as fallback when running on GPU.\n"
     ]
    },
    {
     "name": "stdout",
     "output_type": "stream",
     "text": [
      "Epoch 1/5\n",
      "315/315 [==============================] - 8s 12ms/step - loss: 2.2673 - mean_squared_error: 2.2673 - val_loss: 1.3413 - val_mean_squared_error: 1.3413\n",
      "Epoch 2/5\n",
      "315/315 [==============================] - 3s 8ms/step - loss: 1.5490 - mean_squared_error: 1.5490 - val_loss: 1.1748 - val_mean_squared_error: 1.1748\n",
      "Epoch 3/5\n",
      "315/315 [==============================] - 3s 8ms/step - loss: 1.3752 - mean_squared_error: 1.3752 - val_loss: 1.0066 - val_mean_squared_error: 1.0066\n",
      "Epoch 4/5\n",
      "315/315 [==============================] - 3s 9ms/step - loss: 1.2352 - mean_squared_error: 1.2352 - val_loss: 0.9339 - val_mean_squared_error: 0.9339\n",
      "Epoch 5/5\n",
      "315/315 [==============================] - 3s 9ms/step - loss: 1.1551 - mean_squared_error: 1.1551 - val_loss: 0.9016 - val_mean_squared_error: 0.9016\n",
      "2657/2657 [==============================] - 10s 4ms/step - loss: 1.2942 - mean_squared_error: 1.2942\n"
     ]
    },
    {
     "name": "stderr",
     "output_type": "stream",
     "text": [
      "WARNING:tensorflow:Layer lstm_153 will not use cuDNN kernels since it doesn't meet the criteria. It will use a generic GPU kernel as fallback when running on GPU.\n"
     ]
    },
    {
     "name": "stdout",
     "output_type": "stream",
     "text": [
      "| \u001b[0m50       \u001b[0m | \u001b[0m1.294    \u001b[0m | \u001b[0m0.8392   \u001b[0m | \u001b[0m0.06892  \u001b[0m | \u001b[0m864.6    \u001b[0m | \u001b[0m13.7     \u001b[0m |\n",
      "Epoch 1/5\n",
      "286/286 [==============================] - 11s 20ms/step - loss: 1.7654 - mean_squared_error: 1.7654 - val_loss: 1.0831 - val_mean_squared_error: 1.0831\n",
      "Epoch 2/5\n",
      "286/286 [==============================] - 4s 15ms/step - loss: 0.9966 - mean_squared_error: 0.9966 - val_loss: 0.8420 - val_mean_squared_error: 0.8420\n",
      "Epoch 3/5\n",
      "286/286 [==============================] - 4s 13ms/step - loss: 0.8954 - mean_squared_error: 0.8954 - val_loss: 0.7970 - val_mean_squared_error: 0.7970\n",
      "Epoch 4/5\n",
      "286/286 [==============================] - 5s 16ms/step - loss: 0.8591 - mean_squared_error: 0.8591 - val_loss: 0.7786 - val_mean_squared_error: 0.7786\n",
      "Epoch 5/5\n",
      "286/286 [==============================] - 5s 17ms/step - loss: 0.8358 - mean_squared_error: 0.8358 - val_loss: 0.7491 - val_mean_squared_error: 0.7491\n",
      "2657/2657 [==============================] - 11s 4ms/step - loss: 1.4379 - mean_squared_error: 1.4379\n"
     ]
    },
    {
     "name": "stderr",
     "output_type": "stream",
     "text": [
      "WARNING:tensorflow:Layer lstm_156 will not use cuDNN kernels since it doesn't meet the criteria. It will use a generic GPU kernel as fallback when running on GPU.\n"
     ]
    },
    {
     "name": "stdout",
     "output_type": "stream",
     "text": [
      "| \u001b[0m51       \u001b[0m | \u001b[0m1.438    \u001b[0m | \u001b[0m0.6298   \u001b[0m | \u001b[0m1.074    \u001b[0m | \u001b[0m954.3    \u001b[0m | \u001b[0m16.14    \u001b[0m |\n",
      "Epoch 1/5\n",
      "281/281 [==============================] - 12s 18ms/step - loss: 1.7582 - mean_squared_error: 1.7582 - val_loss: 1.1406 - val_mean_squared_error: 1.1406\n",
      "Epoch 2/5\n",
      "281/281 [==============================] - 6s 21ms/step - loss: 1.0134 - mean_squared_error: 1.0134 - val_loss: 0.8673 - val_mean_squared_error: 0.8673\n",
      "Epoch 3/5\n",
      "281/281 [==============================] - 4s 14ms/step - loss: 0.9191 - mean_squared_error: 0.9191 - val_loss: 0.8369 - val_mean_squared_error: 0.8369\n",
      "Epoch 4/5\n",
      "281/281 [==============================] - 4s 14ms/step - loss: 0.8910 - mean_squared_error: 0.8910 - val_loss: 0.8095 - val_mean_squared_error: 0.8095\n",
      "Epoch 5/5\n",
      "281/281 [==============================] - 6s 20ms/step - loss: 0.8651 - mean_squared_error: 0.8651 - val_loss: 0.7941 - val_mean_squared_error: 0.7941\n",
      "2657/2657 [==============================] - 10s 4ms/step - loss: 2.2050 - mean_squared_error: 2.2050\n"
     ]
    },
    {
     "name": "stderr",
     "output_type": "stream",
     "text": [
      "WARNING:tensorflow:Layer lstm_159 will not use cuDNN kernels since it doesn't meet the criteria. It will use a generic GPU kernel as fallback when running on GPU.\n"
     ]
    },
    {
     "name": "stdout",
     "output_type": "stream",
     "text": [
      "| \u001b[0m52       \u001b[0m | \u001b[0m2.205    \u001b[0m | \u001b[0m0.6011   \u001b[0m | \u001b[0m1.786    \u001b[0m | \u001b[0m969.8    \u001b[0m | \u001b[0m16.63    \u001b[0m |\n",
      "Epoch 1/5\n",
      "348/348 [==============================] - 12s 16ms/step - loss: 1.5692 - mean_squared_error: 1.5692 - val_loss: 0.9375 - val_mean_squared_error: 0.9375\n",
      "Epoch 2/5\n",
      "348/348 [==============================] - 7s 20ms/step - loss: 0.9258 - mean_squared_error: 0.9258 - val_loss: 0.8103 - val_mean_squared_error: 0.8103\n",
      "Epoch 3/5\n",
      "348/348 [==============================] - 5s 13ms/step - loss: 0.8626 - mean_squared_error: 0.8626 - val_loss: 0.7745 - val_mean_squared_error: 0.7745\n",
      "Epoch 4/5\n",
      "348/348 [==============================] - 5s 14ms/step - loss: 0.8283 - mean_squared_error: 0.8283 - val_loss: 0.7440 - val_mean_squared_error: 0.7440\n",
      "Epoch 5/5\n",
      "348/348 [==============================] - 6s 18ms/step - loss: 0.7973 - mean_squared_error: 0.7973 - val_loss: 0.7165 - val_mean_squared_error: 0.7165\n",
      "2657/2657 [==============================] - 10s 4ms/step - loss: 1.2388 - mean_squared_error: 1.2388\n"
     ]
    },
    {
     "name": "stderr",
     "output_type": "stream",
     "text": [
      "WARNING:tensorflow:Layer lstm_162 will not use cuDNN kernels since it doesn't meet the criteria. It will use a generic GPU kernel as fallback when running on GPU.\n"
     ]
    },
    {
     "name": "stdout",
     "output_type": "stream",
     "text": [
      "| \u001b[0m53       \u001b[0m | \u001b[0m1.239    \u001b[0m | \u001b[0m0.6802   \u001b[0m | \u001b[0m1.74     \u001b[0m | \u001b[0m784.0    \u001b[0m | \u001b[0m20.83    \u001b[0m |\n",
      "Epoch 1/5\n",
      "349/349 [==============================] - 17s 23ms/step - loss: 1.4049 - mean_squared_error: 1.4049 - val_loss: 0.8662 - val_mean_squared_error: 0.8662\n",
      "Epoch 2/5\n",
      "349/349 [==============================] - 6s 16ms/step - loss: 0.8570 - mean_squared_error: 0.8570 - val_loss: 0.7893 - val_mean_squared_error: 0.7893\n",
      "Epoch 3/5\n",
      "349/349 [==============================] - 6s 18ms/step - loss: 0.7944 - mean_squared_error: 0.7944 - val_loss: 0.7299 - val_mean_squared_error: 0.7299\n",
      "Epoch 4/5\n",
      "349/349 [==============================] - 6s 18ms/step - loss: 0.7395 - mean_squared_error: 0.7395 - val_loss: 0.6843 - val_mean_squared_error: 0.6843\n",
      "Epoch 5/5\n",
      "349/349 [==============================] - 6s 18ms/step - loss: 0.7077 - mean_squared_error: 0.7077 - val_loss: 0.6633 - val_mean_squared_error: 0.6633\n",
      "2657/2657 [==============================] - 12s 4ms/step - loss: 2.9250 - mean_squared_error: 2.9250\n"
     ]
    },
    {
     "name": "stderr",
     "output_type": "stream",
     "text": [
      "WARNING:tensorflow:Layer lstm_166 will not use cuDNN kernels since it doesn't meet the criteria. It will use a generic GPU kernel as fallback when running on GPU.\n"
     ]
    },
    {
     "name": "stdout",
     "output_type": "stream",
     "text": [
      "| \u001b[0m54       \u001b[0m | \u001b[0m2.925    \u001b[0m | \u001b[0m0.572    \u001b[0m | \u001b[0m2.559    \u001b[0m | \u001b[0m780.6    \u001b[0m | \u001b[0m14.48    \u001b[0m |\n",
      "Epoch 1/5\n",
      "339/339 [==============================] - 10s 18ms/step - loss: 1.9802 - mean_squared_error: 1.9802 - val_loss: 1.2595 - val_mean_squared_error: 1.2595\n",
      "Epoch 2/5\n",
      "339/339 [==============================] - 4s 12ms/step - loss: 1.3110 - mean_squared_error: 1.3110 - val_loss: 1.0424 - val_mean_squared_error: 1.0424\n",
      "Epoch 3/5\n",
      "339/339 [==============================] - 5s 14ms/step - loss: 1.1034 - mean_squared_error: 1.1034 - val_loss: 0.8741 - val_mean_squared_error: 0.8741\n",
      "Epoch 4/5\n",
      "339/339 [==============================] - 5s 14ms/step - loss: 1.0033 - mean_squared_error: 1.0033 - val_loss: 0.8402 - val_mean_squared_error: 0.8402\n",
      "Epoch 5/5\n",
      "339/339 [==============================] - 4s 12ms/step - loss: 0.9675 - mean_squared_error: 0.9675 - val_loss: 0.8227 - val_mean_squared_error: 0.8227\n",
      "2657/2657 [==============================] - 9s 4ms/step - loss: 8.7749 - mean_squared_error: 8.7749\n",
      "| \u001b[0m55       \u001b[0m | \u001b[0m8.775    \u001b[0m | \u001b[0m0.654    \u001b[0m | \u001b[0m0.915    \u001b[0m | \u001b[0m805.0    \u001b[0m | \u001b[0m14.49    \u001b[0m |\n"
     ]
    },
    {
     "name": "stderr",
     "output_type": "stream",
     "text": [
      "WARNING:tensorflow:Layer lstm_168 will not use cuDNN kernels since it doesn't meet the criteria. It will use a generic GPU kernel as fallback when running on GPU.\n"
     ]
    },
    {
     "name": "stdout",
     "output_type": "stream",
     "text": [
      "Epoch 1/5\n",
      "267/267 [==============================] - 12s 23ms/step - loss: 1.8579 - mean_squared_error: 1.8579 - val_loss: 1.1207 - val_mean_squared_error: 1.1207\n",
      "Epoch 2/5\n",
      "267/267 [==============================] - 4s 14ms/step - loss: 1.1751 - mean_squared_error: 1.1751 - val_loss: 0.8877 - val_mean_squared_error: 0.8877\n",
      "Epoch 3/5\n",
      "267/267 [==============================] - 4s 14ms/step - loss: 1.0546 - mean_squared_error: 1.0546 - val_loss: 0.8392 - val_mean_squared_error: 0.8392\n",
      "Epoch 4/5\n",
      "267/267 [==============================] - 5s 20ms/step - loss: 1.0051 - mean_squared_error: 1.0051 - val_loss: 0.8010 - val_mean_squared_error: 0.8010\n",
      "Epoch 5/5\n",
      "267/267 [==============================] - 4s 14ms/step - loss: 0.9571 - mean_squared_error: 0.9571 - val_loss: 0.7746 - val_mean_squared_error: 0.7746\n",
      "2657/2657 [==============================] - 11s 4ms/step - loss: 1.2544 - mean_squared_error: 1.2544\n"
     ]
    },
    {
     "name": "stderr",
     "output_type": "stream",
     "text": [
      "WARNING:tensorflow:Layer lstm_171 will not use cuDNN kernels since it doesn't meet the criteria. It will use a generic GPU kernel as fallback when running on GPU.\n"
     ]
    },
    {
     "name": "stdout",
     "output_type": "stream",
     "text": [
      "| \u001b[0m56       \u001b[0m | \u001b[0m1.254    \u001b[0m | \u001b[0m0.8795   \u001b[0m | \u001b[0m1.921    \u001b[0m | \u001b[0m1.02e+03 \u001b[0m | \u001b[0m20.04    \u001b[0m |\n",
      "Epoch 1/5\n",
      "346/346 [==============================] - 10s 18ms/step - loss: 1.9309 - mean_squared_error: 1.9309 - val_loss: 1.1720 - val_mean_squared_error: 1.1720\n",
      "Epoch 2/5\n",
      "346/346 [==============================] - 4s 12ms/step - loss: 1.1950 - mean_squared_error: 1.1950 - val_loss: 0.9648 - val_mean_squared_error: 0.9648\n",
      "Epoch 3/5\n",
      "346/346 [==============================] - 4s 12ms/step - loss: 1.0474 - mean_squared_error: 1.0474 - val_loss: 0.8838 - val_mean_squared_error: 0.8838\n",
      "Epoch 4/5\n",
      "346/346 [==============================] - 6s 17ms/step - loss: 0.9816 - mean_squared_error: 0.9816 - val_loss: 0.8346 - val_mean_squared_error: 0.8346\n",
      "Epoch 5/5\n",
      "346/346 [==============================] - 4s 11ms/step - loss: 0.9288 - mean_squared_error: 0.9288 - val_loss: 0.8009 - val_mean_squared_error: 0.8009\n",
      "2657/2657 [==============================] - 10s 4ms/step - loss: 10.8530 - mean_squared_error: 10.8530\n",
      "| \u001b[0m57       \u001b[0m | \u001b[0m10.85    \u001b[0m | \u001b[0m0.6202   \u001b[0m | \u001b[0m0.7972   \u001b[0m | \u001b[0m788.7    \u001b[0m | \u001b[0m15.38    \u001b[0m |\n"
     ]
    },
    {
     "name": "stderr",
     "output_type": "stream",
     "text": [
      "WARNING:tensorflow:Layer lstm_173 will not use cuDNN kernels since it doesn't meet the criteria. It will use a generic GPU kernel as fallback when running on GPU.\n"
     ]
    },
    {
     "name": "stdout",
     "output_type": "stream",
     "text": [
      "Epoch 1/5\n",
      "475/475 [==============================] - 12s 16ms/step - loss: 1.6504 - mean_squared_error: 1.6504 - val_loss: 1.0499 - val_mean_squared_error: 1.0499\n",
      "Epoch 2/5\n",
      "475/475 [==============================] - 5s 11ms/step - loss: 1.0117 - mean_squared_error: 1.0117 - val_loss: 0.8671 - val_mean_squared_error: 0.8671\n",
      "Epoch 3/5\n",
      "475/475 [==============================] - 7s 14ms/step - loss: 0.9200 - mean_squared_error: 0.9200 - val_loss: 0.8192 - val_mean_squared_error: 0.8192\n",
      "Epoch 4/5\n",
      "475/475 [==============================] - 6s 13ms/step - loss: 0.8756 - mean_squared_error: 0.8756 - val_loss: 0.7853 - val_mean_squared_error: 0.7853\n",
      "Epoch 5/5\n",
      "475/475 [==============================] - 6s 13ms/step - loss: 0.8436 - mean_squared_error: 0.8436 - val_loss: 0.7706 - val_mean_squared_error: 0.7706\n",
      "2657/2657 [==============================] - 9s 4ms/step - loss: 22.4443 - mean_squared_error: 22.4443\n"
     ]
    },
    {
     "name": "stderr",
     "output_type": "stream",
     "text": [
      "WARNING:tensorflow:Layer lstm_175 will not use cuDNN kernels since it doesn't meet the criteria. It will use a generic GPU kernel as fallback when running on GPU.\n"
     ]
    },
    {
     "name": "stdout",
     "output_type": "stream",
     "text": [
      "| \u001b[0m58       \u001b[0m | \u001b[0m22.44    \u001b[0m | \u001b[0m0.5562   \u001b[0m | \u001b[0m0.2016   \u001b[0m | \u001b[0m573.9    \u001b[0m | \u001b[0m20.97    \u001b[0m |\n",
      "Epoch 1/5\n",
      "478/478 [==============================] - 12s 17ms/step - loss: 1.9926 - mean_squared_error: 1.9926 - val_loss: 1.1816 - val_mean_squared_error: 1.1816\n",
      "Epoch 2/5\n",
      "478/478 [==============================] - 6s 12ms/step - loss: 1.3961 - mean_squared_error: 1.3961 - val_loss: 0.9903 - val_mean_squared_error: 0.9903\n",
      "Epoch 3/5\n",
      "478/478 [==============================] - 7s 15ms/step - loss: 1.2141 - mean_squared_error: 1.2141 - val_loss: 0.9241 - val_mean_squared_error: 0.9241\n",
      "Epoch 4/5\n",
      "478/478 [==============================] - 5s 11ms/step - loss: 1.1358 - mean_squared_error: 1.1358 - val_loss: 0.8844 - val_mean_squared_error: 0.8844\n",
      "Epoch 5/5\n",
      "478/478 [==============================] - 7s 14ms/step - loss: 1.0920 - mean_squared_error: 1.0920 - val_loss: 0.8732 - val_mean_squared_error: 0.8732\n",
      "2657/2657 [==============================] - 9s 3ms/step - loss: 16.8106 - mean_squared_error: 16.8106\n",
      "| \u001b[0m59       \u001b[0m | \u001b[0m16.81    \u001b[0m | \u001b[0m0.8889   \u001b[0m | \u001b[0m0.6917   \u001b[0m | \u001b[0m570.6    \u001b[0m | \u001b[0m17.17    \u001b[0m |\n"
     ]
    },
    {
     "name": "stderr",
     "output_type": "stream",
     "text": [
      "WARNING:tensorflow:Layer lstm_177 will not use cuDNN kernels since it doesn't meet the criteria. It will use a generic GPU kernel as fallback when running on GPU.\n"
     ]
    },
    {
     "name": "stdout",
     "output_type": "stream",
     "text": [
      "Epoch 1/5\n",
      "289/289 [==============================] - 15s 21ms/step - loss: 1.3892 - mean_squared_error: 1.3892 - val_loss: 0.8523 - val_mean_squared_error: 0.8523\n",
      "Epoch 2/5\n",
      "289/289 [==============================] - 6s 22ms/step - loss: 0.8841 - mean_squared_error: 0.8841 - val_loss: 0.7660 - val_mean_squared_error: 0.7660\n",
      "Epoch 3/5\n",
      "289/289 [==============================] - 5s 16ms/step - loss: 0.8121 - mean_squared_error: 0.8121 - val_loss: 0.7256 - val_mean_squared_error: 0.7256\n",
      "Epoch 4/5\n",
      "289/289 [==============================] - 6s 22ms/step - loss: 0.7689 - mean_squared_error: 0.7689 - val_loss: 0.6777 - val_mean_squared_error: 0.6777\n",
      "Epoch 5/5\n",
      "289/289 [==============================] - 5s 17ms/step - loss: 0.7317 - mean_squared_error: 0.7317 - val_loss: 0.6537 - val_mean_squared_error: 0.6537\n",
      "2657/2657 [==============================] - 12s 5ms/step - loss: 3.3798 - mean_squared_error: 3.3798\n",
      "| \u001b[0m60       \u001b[0m | \u001b[0m3.38     \u001b[0m | \u001b[0m0.8287   \u001b[0m | \u001b[0m2.447    \u001b[0m | \u001b[0m944.3    \u001b[0m | \u001b[0m23.56    \u001b[0m |\n"
     ]
    },
    {
     "name": "stderr",
     "output_type": "stream",
     "text": [
      "WARNING:tensorflow:Layer lstm_181 will not use cuDNN kernels since it doesn't meet the criteria. It will use a generic GPU kernel as fallback when running on GPU.\n"
     ]
    },
    {
     "name": "stdout",
     "output_type": "stream",
     "text": [
      "Epoch 1/5\n",
      "385/385 [==============================] - 14s 22ms/step - loss: 1.6368 - mean_squared_error: 1.6368 - val_loss: 0.9870 - val_mean_squared_error: 0.9870\n",
      "Epoch 2/5\n",
      "385/385 [==============================] - 5s 14ms/step - loss: 1.0092 - mean_squared_error: 1.0092 - val_loss: 0.8557 - val_mean_squared_error: 0.8557\n",
      "Epoch 3/5\n",
      "385/385 [==============================] - 7s 19ms/step - loss: 0.9476 - mean_squared_error: 0.9476 - val_loss: 0.8107 - val_mean_squared_error: 0.8107\n",
      "Epoch 4/5\n",
      "385/385 [==============================] - 5s 14ms/step - loss: 0.8921 - mean_squared_error: 0.8921 - val_loss: 0.7675 - val_mean_squared_error: 0.7675\n",
      "Epoch 5/5\n",
      "385/385 [==============================] - 7s 18ms/step - loss: 0.8462 - mean_squared_error: 0.8462 - val_loss: 0.7388 - val_mean_squared_error: 0.7388\n",
      "2657/2657 [==============================] - 10s 4ms/step - loss: 2.7681 - mean_squared_error: 2.7681\n",
      "| \u001b[0m61       \u001b[0m | \u001b[0m2.768    \u001b[0m | \u001b[0m0.7455   \u001b[0m | \u001b[0m1.715    \u001b[0m | \u001b[0m708.8    \u001b[0m | \u001b[0m16.22    \u001b[0m |\n"
     ]
    },
    {
     "name": "stderr",
     "output_type": "stream",
     "text": [
      "WARNING:tensorflow:Layer lstm_184 will not use cuDNN kernels since it doesn't meet the criteria. It will use a generic GPU kernel as fallback when running on GPU.\n"
     ]
    },
    {
     "name": "stdout",
     "output_type": "stream",
     "text": [
      "Epoch 1/5\n",
      "342/342 [==============================] - 15s 23ms/step - loss: 1.4171 - mean_squared_error: 1.4171 - val_loss: 0.8475 - val_mean_squared_error: 0.8475\n",
      "Epoch 2/5\n",
      "342/342 [==============================] - 6s 16ms/step - loss: 0.9070 - mean_squared_error: 0.9070 - val_loss: 0.7592 - val_mean_squared_error: 0.7592\n",
      "Epoch 3/5\n",
      "342/342 [==============================] - 7s 21ms/step - loss: 0.8405 - mean_squared_error: 0.8405 - val_loss: 0.7182 - val_mean_squared_error: 0.7182\n",
      "Epoch 4/5\n",
      "342/342 [==============================] - 5s 16ms/step - loss: 0.8014 - mean_squared_error: 0.8014 - val_loss: 0.7023 - val_mean_squared_error: 0.7023\n",
      "Epoch 5/5\n",
      "342/342 [==============================] - 6s 18ms/step - loss: 0.7713 - mean_squared_error: 0.7713 - val_loss: 0.6685 - val_mean_squared_error: 0.6685\n",
      "2657/2657 [==============================] - 12s 5ms/step - loss: 1.7159 - mean_squared_error: 1.7159\n"
     ]
    },
    {
     "name": "stderr",
     "output_type": "stream",
     "text": [
      "WARNING:tensorflow:Layer lstm_188 will not use cuDNN kernels since it doesn't meet the criteria. It will use a generic GPU kernel as fallback when running on GPU.\n"
     ]
    },
    {
     "name": "stdout",
     "output_type": "stream",
     "text": [
      "| \u001b[0m62       \u001b[0m | \u001b[0m1.716    \u001b[0m | \u001b[0m0.8471   \u001b[0m | \u001b[0m2.795    \u001b[0m | \u001b[0m797.1    \u001b[0m | \u001b[0m18.58    \u001b[0m |\n",
      "Epoch 1/5\n",
      "342/342 [==============================] - 16s 24ms/step - loss: 1.4568 - mean_squared_error: 1.4568 - val_loss: 0.8665 - val_mean_squared_error: 0.8665\n",
      "Epoch 2/5\n",
      "342/342 [==============================] - 5s 15ms/step - loss: 0.8943 - mean_squared_error: 0.8943 - val_loss: 0.7765 - val_mean_squared_error: 0.7765\n",
      "Epoch 3/5\n",
      "342/342 [==============================] - 7s 21ms/step - loss: 0.8158 - mean_squared_error: 0.8158 - val_loss: 0.7241 - val_mean_squared_error: 0.7241\n",
      "Epoch 4/5\n",
      "342/342 [==============================] - 5s 16ms/step - loss: 0.7745 - mean_squared_error: 0.7745 - val_loss: 0.6990 - val_mean_squared_error: 0.6990\n",
      "Epoch 5/5\n",
      "342/342 [==============================] - 7s 21ms/step - loss: 0.7460 - mean_squared_error: 0.7460 - val_loss: 0.6712 - val_mean_squared_error: 0.6712\n",
      "2657/2657 [==============================] - 12s 5ms/step - loss: 2.0348 - mean_squared_error: 2.0348\n"
     ]
    },
    {
     "name": "stderr",
     "output_type": "stream",
     "text": [
      "WARNING:tensorflow:Layer lstm_192 will not use cuDNN kernels since it doesn't meet the criteria. It will use a generic GPU kernel as fallback when running on GPU.\n"
     ]
    },
    {
     "name": "stdout",
     "output_type": "stream",
     "text": [
      "| \u001b[0m63       \u001b[0m | \u001b[0m2.035    \u001b[0m | \u001b[0m0.7117   \u001b[0m | \u001b[0m2.488    \u001b[0m | \u001b[0m797.0    \u001b[0m | \u001b[0m13.83    \u001b[0m |\n",
      "Epoch 1/5\n",
      "368/368 [==============================] - 9s 14ms/step - loss: 2.2976 - mean_squared_error: 2.2976 - val_loss: 1.3164 - val_mean_squared_error: 1.3164\n",
      "Epoch 2/5\n",
      "368/368 [==============================] - 5s 14ms/step - loss: 1.6431 - mean_squared_error: 1.6431 - val_loss: 1.1630 - val_mean_squared_error: 1.1630\n",
      "Epoch 3/5\n",
      "368/368 [==============================] - 4s 11ms/step - loss: 1.4097 - mean_squared_error: 1.4097 - val_loss: 1.0113 - val_mean_squared_error: 1.0113\n",
      "Epoch 4/5\n",
      "368/368 [==============================] - 5s 14ms/step - loss: 1.2791 - mean_squared_error: 1.2791 - val_loss: 0.9551 - val_mean_squared_error: 0.9551\n",
      "Epoch 5/5\n",
      "368/368 [==============================] - 5s 13ms/step - loss: 1.2148 - mean_squared_error: 1.2148 - val_loss: 0.9184 - val_mean_squared_error: 0.9184\n",
      "2657/2657 [==============================] - 9s 4ms/step - loss: 11.3829 - mean_squared_error: 11.3829\n",
      "| \u001b[0m64       \u001b[0m | \u001b[0m11.38    \u001b[0m | \u001b[0m0.8984   \u001b[0m | \u001b[0m0.4427   \u001b[0m | \u001b[0m741.5    \u001b[0m | \u001b[0m13.54    \u001b[0m |\n"
     ]
    },
    {
     "name": "stderr",
     "output_type": "stream",
     "text": [
      "WARNING:tensorflow:Layer lstm_194 will not use cuDNN kernels since it doesn't meet the criteria. It will use a generic GPU kernel as fallback when running on GPU.\n"
     ]
    },
    {
     "name": "stdout",
     "output_type": "stream",
     "text": [
      "Epoch 1/5\n",
      "312/312 [==============================] - 11s 18ms/step - loss: 2.2461 - mean_squared_error: 2.2461 - val_loss: 1.3399 - val_mean_squared_error: 1.3399\n",
      "Epoch 2/5\n",
      "312/312 [==============================] - 4s 12ms/step - loss: 1.5280 - mean_squared_error: 1.5280 - val_loss: 1.1907 - val_mean_squared_error: 1.1907\n",
      "Epoch 3/5\n",
      "312/312 [==============================] - 4s 13ms/step - loss: 1.4052 - mean_squared_error: 1.4052 - val_loss: 1.0786 - val_mean_squared_error: 1.0786\n",
      "Epoch 4/5\n",
      "312/312 [==============================] - 5s 15ms/step - loss: 1.2643 - mean_squared_error: 1.2643 - val_loss: 0.9623 - val_mean_squared_error: 0.9623\n",
      "Epoch 5/5\n",
      "312/312 [==============================] - 4s 14ms/step - loss: 1.1556 - mean_squared_error: 1.1556 - val_loss: 0.9091 - val_mean_squared_error: 0.9091\n",
      "2657/2657 [==============================] - 10s 4ms/step - loss: 1.4736 - mean_squared_error: 1.4736\n",
      "| \u001b[0m65       \u001b[0m | \u001b[0m1.474    \u001b[0m | \u001b[0m0.8085   \u001b[0m | \u001b[0m0.647    \u001b[0m | \u001b[0m874.8    \u001b[0m | \u001b[0m12.05    \u001b[0m |\n"
     ]
    },
    {
     "name": "stderr",
     "output_type": "stream",
     "text": [
      "WARNING:tensorflow:Layer lstm_196 will not use cuDNN kernels since it doesn't meet the criteria. It will use a generic GPU kernel as fallback when running on GPU.\n"
     ]
    },
    {
     "name": "stdout",
     "output_type": "stream",
     "text": [
      "Epoch 1/5\n",
      "286/286 [==============================] - 14s 19ms/step - loss: 1.4937 - mean_squared_error: 1.4937 - val_loss: 0.8798 - val_mean_squared_error: 0.8798\n",
      "Epoch 2/5\n",
      "286/286 [==============================] - 4s 15ms/step - loss: 0.8907 - mean_squared_error: 0.8907 - val_loss: 0.8007 - val_mean_squared_error: 0.8007\n",
      "Epoch 3/5\n",
      "286/286 [==============================] - 6s 22ms/step - loss: 0.8143 - mean_squared_error: 0.8143 - val_loss: 0.7327 - val_mean_squared_error: 0.7327\n",
      "Epoch 4/5\n",
      "286/286 [==============================] - 5s 16ms/step - loss: 0.7676 - mean_squared_error: 0.7676 - val_loss: 0.6974 - val_mean_squared_error: 0.6974\n",
      "Epoch 5/5\n",
      "286/286 [==============================] - 5s 17ms/step - loss: 0.7399 - mean_squared_error: 0.7399 - val_loss: 0.6775 - val_mean_squared_error: 0.6775\n",
      "2657/2657 [==============================] - 11s 4ms/step - loss: 2.7702 - mean_squared_error: 2.7702\n",
      "| \u001b[0m66       \u001b[0m | \u001b[0m2.77     \u001b[0m | \u001b[0m0.6723   \u001b[0m | \u001b[0m2.301    \u001b[0m | \u001b[0m954.2    \u001b[0m | \u001b[0m15.86    \u001b[0m |\n"
     ]
    },
    {
     "name": "stderr",
     "output_type": "stream",
     "text": [
      "WARNING:tensorflow:Layer lstm_200 will not use cuDNN kernels since it doesn't meet the criteria. It will use a generic GPU kernel as fallback when running on GPU.\n"
     ]
    },
    {
     "name": "stdout",
     "output_type": "stream",
     "text": [
      "Epoch 1/5\n",
      "413/413 [==============================] - 16s 22ms/step - loss: 1.2939 - mean_squared_error: 1.2939 - val_loss: 0.8377 - val_mean_squared_error: 0.8377\n",
      "Epoch 2/5\n",
      "413/413 [==============================] - 6s 15ms/step - loss: 0.8562 - mean_squared_error: 0.8562 - val_loss: 0.7498 - val_mean_squared_error: 0.7498\n",
      "Epoch 3/5\n",
      "413/413 [==============================] - 8s 20ms/step - loss: 0.7919 - mean_squared_error: 0.7919 - val_loss: 0.6940 - val_mean_squared_error: 0.6940\n",
      "Epoch 4/5\n",
      "413/413 [==============================] - 6s 15ms/step - loss: 0.7476 - mean_squared_error: 0.7476 - val_loss: 0.6655 - val_mean_squared_error: 0.6655\n",
      "Epoch 5/5\n",
      "413/413 [==============================] - 8s 19ms/step - loss: 0.7105 - mean_squared_error: 0.7105 - val_loss: 0.6241 - val_mean_squared_error: 0.6241\n",
      "2657/2657 [==============================] - 12s 5ms/step - loss: 1.5507 - mean_squared_error: 1.5507\n"
     ]
    },
    {
     "name": "stderr",
     "output_type": "stream",
     "text": [
      "WARNING:tensorflow:Layer lstm_204 will not use cuDNN kernels since it doesn't meet the criteria. It will use a generic GPU kernel as fallback when running on GPU.\n"
     ]
    },
    {
     "name": "stdout",
     "output_type": "stream",
     "text": [
      "| \u001b[0m67       \u001b[0m | \u001b[0m1.551    \u001b[0m | \u001b[0m0.8241   \u001b[0m | \u001b[0m2.01     \u001b[0m | \u001b[0m659.9    \u001b[0m | \u001b[0m22.4     \u001b[0m |\n",
      "Epoch 1/5\n",
      "277/277 [==============================] - 12s 18ms/step - loss: 1.7508 - mean_squared_error: 1.7508 - val_loss: 1.0835 - val_mean_squared_error: 1.0835\n",
      "Epoch 2/5\n",
      "277/277 [==============================] - 5s 18ms/step - loss: 0.9922 - mean_squared_error: 0.9922 - val_loss: 0.8716 - val_mean_squared_error: 0.8716\n",
      "Epoch 3/5\n",
      "277/277 [==============================] - 4s 14ms/step - loss: 0.9087 - mean_squared_error: 0.9087 - val_loss: 0.8277 - val_mean_squared_error: 0.8277\n",
      "Epoch 4/5\n",
      "277/277 [==============================] - 4s 13ms/step - loss: 0.8775 - mean_squared_error: 0.8775 - val_loss: 0.8022 - val_mean_squared_error: 0.8022\n",
      "Epoch 5/5\n",
      "277/277 [==============================] - 6s 21ms/step - loss: 0.8508 - mean_squared_error: 0.8508 - val_loss: 0.7769 - val_mean_squared_error: 0.7769\n",
      "2657/2657 [==============================] - 11s 4ms/step - loss: 2.0621 - mean_squared_error: 2.0621\n"
     ]
    },
    {
     "name": "stderr",
     "output_type": "stream",
     "text": [
      "WARNING:tensorflow:Layer lstm_207 will not use cuDNN kernels since it doesn't meet the criteria. It will use a generic GPU kernel as fallback when running on GPU.\n"
     ]
    },
    {
     "name": "stdout",
     "output_type": "stream",
     "text": [
      "| \u001b[0m68       \u001b[0m | \u001b[0m2.062    \u001b[0m | \u001b[0m0.574    \u001b[0m | \u001b[0m1.285    \u001b[0m | \u001b[0m983.8    \u001b[0m | \u001b[0m16.53    \u001b[0m |\n",
      "Epoch 1/5\n",
      "269/269 [==============================] - 8s 15ms/step - loss: 2.1080 - mean_squared_error: 2.1080 - val_loss: 1.2392 - val_mean_squared_error: 1.2392\n",
      "Epoch 2/5\n",
      "269/269 [==============================] - 5s 18ms/step - loss: 1.2408 - mean_squared_error: 1.2408 - val_loss: 0.9942 - val_mean_squared_error: 0.9942\n",
      "Epoch 3/5\n",
      "269/269 [==============================] - 3s 12ms/step - loss: 1.0283 - mean_squared_error: 1.0283 - val_loss: 0.8730 - val_mean_squared_error: 0.8730\n",
      "Epoch 4/5\n",
      "269/269 [==============================] - 3s 11ms/step - loss: 0.9690 - mean_squared_error: 0.9690 - val_loss: 0.8518 - val_mean_squared_error: 0.8518\n",
      "Epoch 5/5\n",
      "269/269 [==============================] - 3s 11ms/step - loss: 0.9394 - mean_squared_error: 0.9394 - val_loss: 0.8141 - val_mean_squared_error: 0.8141\n",
      "2657/2657 [==============================] - 9s 3ms/step - loss: 17.5409 - mean_squared_error: 17.5409\n"
     ]
    },
    {
     "name": "stderr",
     "output_type": "stream",
     "text": [
      "WARNING:tensorflow:Layer lstm_209 will not use cuDNN kernels since it doesn't meet the criteria. It will use a generic GPU kernel as fallback when running on GPU.\n"
     ]
    },
    {
     "name": "stdout",
     "output_type": "stream",
     "text": [
      "| \u001b[0m69       \u001b[0m | \u001b[0m17.54    \u001b[0m | \u001b[0m0.6394   \u001b[0m | \u001b[0m0.213    \u001b[0m | \u001b[0m1.014e+03\u001b[0m | \u001b[0m18.75    \u001b[0m |\n",
      "Epoch 1/5\n",
      "378/378 [==============================] - 16s 20ms/step - loss: 1.4109 - mean_squared_error: 1.4109 - val_loss: 0.8583 - val_mean_squared_error: 0.8583\n",
      "Epoch 2/5\n",
      "378/378 [==============================] - 7s 18ms/step - loss: 0.8625 - mean_squared_error: 0.8625 - val_loss: 0.7699 - val_mean_squared_error: 0.7699\n",
      "Epoch 3/5\n",
      "378/378 [==============================] - 6s 17ms/step - loss: 0.7978 - mean_squared_error: 0.7978 - val_loss: 0.7408 - val_mean_squared_error: 0.7408\n",
      "Epoch 4/5\n",
      "378/378 [==============================] - 7s 18ms/step - loss: 0.7553 - mean_squared_error: 0.7553 - val_loss: 0.7054 - val_mean_squared_error: 0.7054\n",
      "Epoch 5/5\n",
      "378/378 [==============================] - 7s 17ms/step - loss: 0.7208 - mean_squared_error: 0.7208 - val_loss: 0.6588 - val_mean_squared_error: 0.6588\n",
      "2657/2657 [==============================] - 12s 5ms/step - loss: 2.2654 - mean_squared_error: 2.2654\n"
     ]
    },
    {
     "name": "stderr",
     "output_type": "stream",
     "text": [
      "WARNING:tensorflow:Layer lstm_213 will not use cuDNN kernels since it doesn't meet the criteria. It will use a generic GPU kernel as fallback when running on GPU.\n"
     ]
    },
    {
     "name": "stdout",
     "output_type": "stream",
     "text": [
      "| \u001b[0m70       \u001b[0m | \u001b[0m2.265    \u001b[0m | \u001b[0m0.6038   \u001b[0m | \u001b[0m2.387    \u001b[0m | \u001b[0m721.7    \u001b[0m | \u001b[0m12.59    \u001b[0m |\n",
      "Epoch 1/5\n",
      "507/507 [==============================] - 19s 21ms/step - loss: 1.1554 - mean_squared_error: 1.1554 - val_loss: 0.7752 - val_mean_squared_error: 0.7752\n",
      "Epoch 2/5\n",
      "507/507 [==============================] - 8s 16ms/step - loss: 0.7709 - mean_squared_error: 0.7709 - val_loss: 0.6921 - val_mean_squared_error: 0.6921\n",
      "Epoch 3/5\n",
      "507/507 [==============================] - 10s 19ms/step - loss: 0.6942 - mean_squared_error: 0.6942 - val_loss: 0.6257 - val_mean_squared_error: 0.6257\n",
      "Epoch 4/5\n",
      "507/507 [==============================] - 9s 17ms/step - loss: 0.6277 - mean_squared_error: 0.6277 - val_loss: 0.5774 - val_mean_squared_error: 0.5774\n",
      "Epoch 5/5\n",
      "507/507 [==============================] - 9s 18ms/step - loss: 0.5825 - mean_squared_error: 0.5825 - val_loss: 0.5440 - val_mean_squared_error: 0.5440\n",
      "2657/2657 [==============================] - 13s 5ms/step - loss: 1.5197 - mean_squared_error: 1.5197\n",
      "| \u001b[0m71       \u001b[0m | \u001b[0m1.52     \u001b[0m | \u001b[0m0.6813   \u001b[0m | \u001b[0m2.518    \u001b[0m | \u001b[0m537.3    \u001b[0m | \u001b[0m23.91    \u001b[0m |\n"
     ]
    },
    {
     "name": "stderr",
     "output_type": "stream",
     "text": [
      "WARNING:tensorflow:Layer lstm_217 will not use cuDNN kernels since it doesn't meet the criteria. It will use a generic GPU kernel as fallback when running on GPU.\n"
     ]
    },
    {
     "name": "stdout",
     "output_type": "stream",
     "text": [
      "Epoch 1/5\n",
      "330/330 [==============================] - 10s 18ms/step - loss: 2.2553 - mean_squared_error: 2.2553 - val_loss: 1.3452 - val_mean_squared_error: 1.3452\n",
      "Epoch 2/5\n",
      "330/330 [==============================] - 4s 12ms/step - loss: 1.5453 - mean_squared_error: 1.5453 - val_loss: 1.1348 - val_mean_squared_error: 1.1348\n",
      "Epoch 3/5\n",
      "330/330 [==============================] - 4s 12ms/step - loss: 1.4008 - mean_squared_error: 1.4008 - val_loss: 1.0344 - val_mean_squared_error: 1.0344\n",
      "Epoch 4/5\n",
      "330/330 [==============================] - 5s 16ms/step - loss: 1.2757 - mean_squared_error: 1.2757 - val_loss: 0.9797 - val_mean_squared_error: 0.9797\n",
      "Epoch 5/5\n",
      "330/330 [==============================] - 4s 13ms/step - loss: 1.1953 - mean_squared_error: 1.1953 - val_loss: 0.9359 - val_mean_squared_error: 0.9359\n",
      "2657/2657 [==============================] - 9s 3ms/step - loss: 2.7329 - mean_squared_error: 2.7329\n",
      "| \u001b[0m72       \u001b[0m | \u001b[0m2.733    \u001b[0m | \u001b[0m0.8663   \u001b[0m | \u001b[0m0.7565   \u001b[0m | \u001b[0m827.4    \u001b[0m | \u001b[0m14.26    \u001b[0m |\n"
     ]
    },
    {
     "name": "stderr",
     "output_type": "stream",
     "text": [
      "WARNING:tensorflow:Layer lstm_219 will not use cuDNN kernels since it doesn't meet the criteria. It will use a generic GPU kernel as fallback when running on GPU.\n"
     ]
    },
    {
     "name": "stdout",
     "output_type": "stream",
     "text": [
      "Epoch 1/5\n",
      "331/331 [==============================] - 9s 16ms/step - loss: 1.8734 - mean_squared_error: 1.8734 - val_loss: 1.2028 - val_mean_squared_error: 1.2028\n",
      "Epoch 2/5\n",
      "331/331 [==============================] - 6s 19ms/step - loss: 1.2050 - mean_squared_error: 1.2050 - val_loss: 1.0338 - val_mean_squared_error: 1.0338\n",
      "Epoch 3/5\n",
      "331/331 [==============================] - 4s 12ms/step - loss: 1.0342 - mean_squared_error: 1.0342 - val_loss: 0.8813 - val_mean_squared_error: 0.8813\n",
      "Epoch 4/5\n",
      "331/331 [==============================] - 4s 12ms/step - loss: 0.9552 - mean_squared_error: 0.9552 - val_loss: 0.8495 - val_mean_squared_error: 0.8495\n",
      "Epoch 5/5\n",
      "331/331 [==============================] - 6s 18ms/step - loss: 0.9276 - mean_squared_error: 0.9276 - val_loss: 0.8328 - val_mean_squared_error: 0.8328\n",
      "2657/2657 [==============================] - 9s 3ms/step - loss: 2.3486 - mean_squared_error: 2.3486\n",
      "| \u001b[0m73       \u001b[0m | \u001b[0m2.349    \u001b[0m | \u001b[0m0.5596   \u001b[0m | \u001b[0m0.9721   \u001b[0m | \u001b[0m824.9    \u001b[0m | \u001b[0m19.31    \u001b[0m |\n"
     ]
    },
    {
     "name": "stderr",
     "output_type": "stream",
     "text": [
      "WARNING:tensorflow:Layer lstm_221 will not use cuDNN kernels since it doesn't meet the criteria. It will use a generic GPU kernel as fallback when running on GPU.\n"
     ]
    },
    {
     "name": "stdout",
     "output_type": "stream",
     "text": [
      "Epoch 1/5\n",
      "330/330 [==============================] - 16s 25ms/step - loss: 1.3747 - mean_squared_error: 1.3747 - val_loss: 0.8552 - val_mean_squared_error: 0.8552\n",
      "Epoch 2/5\n",
      "330/330 [==============================] - 5s 16ms/step - loss: 0.8599 - mean_squared_error: 0.8599 - val_loss: 0.7671 - val_mean_squared_error: 0.7671\n",
      "Epoch 3/5\n",
      "330/330 [==============================] - 7s 21ms/step - loss: 0.7950 - mean_squared_error: 0.7950 - val_loss: 0.7252 - val_mean_squared_error: 0.7252\n",
      "Epoch 4/5\n",
      "330/330 [==============================] - 5s 16ms/step - loss: 0.7614 - mean_squared_error: 0.7614 - val_loss: 0.7112 - val_mean_squared_error: 0.7112\n",
      "Epoch 5/5\n",
      "330/330 [==============================] - 6s 18ms/step - loss: 0.7343 - mean_squared_error: 0.7343 - val_loss: 0.6726 - val_mean_squared_error: 0.6726\n",
      "2657/2657 [==============================] - 12s 5ms/step - loss: 2.5080 - mean_squared_error: 2.5080\n"
     ]
    },
    {
     "name": "stderr",
     "output_type": "stream",
     "text": [
      "WARNING:tensorflow:Layer lstm_225 will not use cuDNN kernels since it doesn't meet the criteria. It will use a generic GPU kernel as fallback when running on GPU.\n"
     ]
    },
    {
     "name": "stdout",
     "output_type": "stream",
     "text": [
      "| \u001b[0m74       \u001b[0m | \u001b[0m2.508    \u001b[0m | \u001b[0m0.7017   \u001b[0m | \u001b[0m2.387    \u001b[0m | \u001b[0m825.4    \u001b[0m | \u001b[0m18.72    \u001b[0m |\n",
      "Epoch 1/5\n",
      "311/311 [==============================] - 16s 28ms/step - loss: 1.3910 - mean_squared_error: 1.3910 - val_loss: 0.8737 - val_mean_squared_error: 0.8737\n",
      "Epoch 2/5\n",
      "311/311 [==============================] - 5s 17ms/step - loss: 0.8607 - mean_squared_error: 0.8607 - val_loss: 0.7787 - val_mean_squared_error: 0.7787\n",
      "Epoch 3/5\n",
      "311/311 [==============================] - 7s 22ms/step - loss: 0.7943 - mean_squared_error: 0.7943 - val_loss: 0.7434 - val_mean_squared_error: 0.7434\n",
      "Epoch 4/5\n",
      "311/311 [==============================] - 5s 16ms/step - loss: 0.7590 - mean_squared_error: 0.7590 - val_loss: 0.7113 - val_mean_squared_error: 0.7113\n",
      "Epoch 5/5\n",
      "311/311 [==============================] - 7s 22ms/step - loss: 0.7245 - mean_squared_error: 0.7245 - val_loss: 0.6751 - val_mean_squared_error: 0.6751\n",
      "2657/2657 [==============================] - 13s 5ms/step - loss: 3.6599 - mean_squared_error: 3.6599\n"
     ]
    },
    {
     "name": "stderr",
     "output_type": "stream",
     "text": [
      "WARNING:tensorflow:Layer lstm_229 will not use cuDNN kernels since it doesn't meet the criteria. It will use a generic GPU kernel as fallback when running on GPU.\n"
     ]
    },
    {
     "name": "stdout",
     "output_type": "stream",
     "text": [
      "| \u001b[0m75       \u001b[0m | \u001b[0m3.66     \u001b[0m | \u001b[0m0.6267   \u001b[0m | \u001b[0m2.647    \u001b[0m | \u001b[0m877.1    \u001b[0m | \u001b[0m18.38    \u001b[0m |\n",
      "Epoch 1/5\n",
      "320/320 [==============================] - 13s 23ms/step - loss: 1.7029 - mean_squared_error: 1.7029 - val_loss: 1.0249 - val_mean_squared_error: 1.0249\n",
      "Epoch 2/5\n",
      "320/320 [==============================] - 5s 16ms/step - loss: 1.0291 - mean_squared_error: 1.0291 - val_loss: 0.8409 - val_mean_squared_error: 0.8409\n",
      "Epoch 3/5\n",
      "320/320 [==============================] - 6s 19ms/step - loss: 0.9405 - mean_squared_error: 0.9405 - val_loss: 0.8012 - val_mean_squared_error: 0.8012\n",
      "Epoch 4/5\n",
      "320/320 [==============================] - 5s 17ms/step - loss: 0.8990 - mean_squared_error: 0.8990 - val_loss: 0.7845 - val_mean_squared_error: 0.7845\n",
      "Epoch 5/5\n",
      "320/320 [==============================] - 5s 15ms/step - loss: 0.8633 - mean_squared_error: 0.8633 - val_loss: 0.7400 - val_mean_squared_error: 0.7400\n",
      "2657/2657 [==============================] - 11s 4ms/step - loss: 4.1568 - mean_squared_error: 4.1568\n"
     ]
    },
    {
     "name": "stderr",
     "output_type": "stream",
     "text": [
      "WARNING:tensorflow:Layer lstm_232 will not use cuDNN kernels since it doesn't meet the criteria. It will use a generic GPU kernel as fallback when running on GPU.\n"
     ]
    },
    {
     "name": "stdout",
     "output_type": "stream",
     "text": [
      "| \u001b[0m76       \u001b[0m | \u001b[0m4.157    \u001b[0m | \u001b[0m0.7755   \u001b[0m | \u001b[0m1.811    \u001b[0m | \u001b[0m853.9    \u001b[0m | \u001b[0m18.99    \u001b[0m |\n",
      "Epoch 1/5\n",
      "457/457 [==============================] - 12s 17ms/step - loss: 1.9561 - mean_squared_error: 1.9561 - val_loss: 1.1929 - val_mean_squared_error: 1.1929\n",
      "Epoch 2/5\n",
      "457/457 [==============================] - 5s 11ms/step - loss: 1.3978 - mean_squared_error: 1.3978 - val_loss: 1.0267 - val_mean_squared_error: 1.0267\n",
      "Epoch 3/5\n",
      "457/457 [==============================] - 6s 13ms/step - loss: 1.2142 - mean_squared_error: 1.2142 - val_loss: 0.9208 - val_mean_squared_error: 0.9208\n",
      "Epoch 4/5\n",
      "457/457 [==============================] - 6s 13ms/step - loss: 1.1157 - mean_squared_error: 1.1157 - val_loss: 0.8834 - val_mean_squared_error: 0.8834\n",
      "Epoch 5/5\n",
      "457/457 [==============================] - 5s 11ms/step - loss: 1.0620 - mean_squared_error: 1.0620 - val_loss: 0.8585 - val_mean_squared_error: 0.8585\n",
      "2657/2657 [==============================] - 9s 4ms/step - loss: 1.7163 - mean_squared_error: 1.7163\n",
      "| \u001b[0m77       \u001b[0m | \u001b[0m1.716    \u001b[0m | \u001b[0m0.8586   \u001b[0m | \u001b[0m0.9042   \u001b[0m | \u001b[0m596.3    \u001b[0m | \u001b[0m17.22    \u001b[0m |\n"
     ]
    },
    {
     "name": "stderr",
     "output_type": "stream",
     "text": [
      "WARNING:tensorflow:Layer lstm_234 will not use cuDNN kernels since it doesn't meet the criteria. It will use a generic GPU kernel as fallback when running on GPU.\n"
     ]
    },
    {
     "name": "stdout",
     "output_type": "stream",
     "text": [
      "Epoch 1/5\n",
      "304/304 [==============================] - 13s 20ms/step - loss: 1.7865 - mean_squared_error: 1.7865 - val_loss: 1.1031 - val_mean_squared_error: 1.1031\n",
      "Epoch 2/5\n",
      "304/304 [==============================] - 4s 14ms/step - loss: 1.0487 - mean_squared_error: 1.0487 - val_loss: 0.8601 - val_mean_squared_error: 0.8601\n",
      "Epoch 3/5\n",
      "304/304 [==============================] - 5s 18ms/step - loss: 0.9505 - mean_squared_error: 0.9505 - val_loss: 0.8114 - val_mean_squared_error: 0.8114\n",
      "Epoch 4/5\n",
      "304/304 [==============================] - 4s 15ms/step - loss: 0.8954 - mean_squared_error: 0.8954 - val_loss: 0.7678 - val_mean_squared_error: 0.7678\n",
      "Epoch 5/5\n",
      "304/304 [==============================] - 4s 13ms/step - loss: 0.8602 - mean_squared_error: 0.8602 - val_loss: 0.7434 - val_mean_squared_error: 0.7434\n",
      "2657/2657 [==============================] - 11s 4ms/step - loss: 1.6156 - mean_squared_error: 1.6156\n"
     ]
    },
    {
     "name": "stderr",
     "output_type": "stream",
     "text": [
      "WARNING:tensorflow:Layer lstm_237 will not use cuDNN kernels since it doesn't meet the criteria. It will use a generic GPU kernel as fallback when running on GPU.\n"
     ]
    },
    {
     "name": "stdout",
     "output_type": "stream",
     "text": [
      "| \u001b[0m78       \u001b[0m | \u001b[0m1.616    \u001b[0m | \u001b[0m0.7169   \u001b[0m | \u001b[0m1.378    \u001b[0m | \u001b[0m896.9    \u001b[0m | \u001b[0m14.35    \u001b[0m |\n",
      "Epoch 1/5\n",
      "330/330 [==============================] - 16s 20ms/step - loss: 1.4363 - mean_squared_error: 1.4363 - val_loss: 0.8590 - val_mean_squared_error: 0.8590\n",
      "Epoch 2/5\n",
      "330/330 [==============================] - 7s 20ms/step - loss: 0.8967 - mean_squared_error: 0.8967 - val_loss: 0.7618 - val_mean_squared_error: 0.7618\n",
      "Epoch 3/5\n",
      "330/330 [==============================] - 6s 17ms/step - loss: 0.8345 - mean_squared_error: 0.8345 - val_loss: 0.7282 - val_mean_squared_error: 0.7282\n",
      "Epoch 4/5\n",
      "330/330 [==============================] - 6s 19ms/step - loss: 0.7967 - mean_squared_error: 0.7967 - val_loss: 0.6955 - val_mean_squared_error: 0.6955\n",
      "Epoch 5/5\n",
      "330/330 [==============================] - 6s 18ms/step - loss: 0.7576 - mean_squared_error: 0.7576 - val_loss: 0.6596 - val_mean_squared_error: 0.6596\n",
      "2657/2657 [==============================] - 12s 4ms/step - loss: 1.4753 - mean_squared_error: 1.4753\n"
     ]
    },
    {
     "name": "stderr",
     "output_type": "stream",
     "text": [
      "WARNING:tensorflow:Layer lstm_241 will not use cuDNN kernels since it doesn't meet the criteria. It will use a generic GPU kernel as fallback when running on GPU.\n"
     ]
    },
    {
     "name": "stdout",
     "output_type": "stream",
     "text": [
      "| \u001b[0m79       \u001b[0m | \u001b[0m1.475    \u001b[0m | \u001b[0m0.8191   \u001b[0m | \u001b[0m2.962    \u001b[0m | \u001b[0m825.0    \u001b[0m | \u001b[0m17.82    \u001b[0m |\n",
      "Epoch 1/5\n",
      "396/396 [==============================] - 13s 16ms/step - loss: 1.5614 - mean_squared_error: 1.5614 - val_loss: 0.9401 - val_mean_squared_error: 0.9401\n",
      "Epoch 2/5\n",
      "396/396 [==============================] - 7s 19ms/step - loss: 0.9387 - mean_squared_error: 0.9387 - val_loss: 0.8530 - val_mean_squared_error: 0.8530\n",
      "Epoch 3/5\n",
      "396/396 [==============================] - 5s 13ms/step - loss: 0.8860 - mean_squared_error: 0.8860 - val_loss: 0.8131 - val_mean_squared_error: 0.8131\n",
      "Epoch 4/5\n",
      "396/396 [==============================] - 6s 15ms/step - loss: 0.8431 - mean_squared_error: 0.8431 - val_loss: 0.7772 - val_mean_squared_error: 0.7772\n",
      "Epoch 5/5\n",
      "396/396 [==============================] - 6s 15ms/step - loss: 0.8116 - mean_squared_error: 0.8116 - val_loss: 0.7469 - val_mean_squared_error: 0.7469\n",
      "2657/2657 [==============================] - 10s 4ms/step - loss: 2.0938 - mean_squared_error: 2.0938\n",
      "| \u001b[0m80       \u001b[0m | \u001b[0m2.094    \u001b[0m | \u001b[0m0.5222   \u001b[0m | \u001b[0m1.604    \u001b[0m | \u001b[0m688.5    \u001b[0m | \u001b[0m15.19    \u001b[0m |\n"
     ]
    },
    {
     "name": "stderr",
     "output_type": "stream",
     "text": [
      "WARNING:tensorflow:Layer lstm_244 will not use cuDNN kernels since it doesn't meet the criteria. It will use a generic GPU kernel as fallback when running on GPU.\n"
     ]
    },
    {
     "name": "stdout",
     "output_type": "stream",
     "text": [
      "Epoch 1/5\n",
      "272/272 [==============================] - 12s 18ms/step - loss: 1.8434 - mean_squared_error: 1.8434 - val_loss: 1.1199 - val_mean_squared_error: 1.1199\n",
      "Epoch 2/5\n",
      "272/272 [==============================] - 5s 20ms/step - loss: 1.1215 - mean_squared_error: 1.1215 - val_loss: 0.8582 - val_mean_squared_error: 0.8582\n",
      "Epoch 3/5\n",
      "272/272 [==============================] - 4s 13ms/step - loss: 1.0062 - mean_squared_error: 1.0062 - val_loss: 0.8294 - val_mean_squared_error: 0.8294\n",
      "Epoch 4/5\n",
      "272/272 [==============================] - 4s 14ms/step - loss: 0.9642 - mean_squared_error: 0.9642 - val_loss: 0.7963 - val_mean_squared_error: 0.7963\n",
      "Epoch 5/5\n",
      "272/272 [==============================] - 5s 20ms/step - loss: 0.9222 - mean_squared_error: 0.9222 - val_loss: 0.7626 - val_mean_squared_error: 0.7626\n",
      "2657/2657 [==============================] - 11s 4ms/step - loss: 1.8901 - mean_squared_error: 1.8901\n"
     ]
    },
    {
     "name": "stderr",
     "output_type": "stream",
     "text": [
      "WARNING:tensorflow:Layer lstm_247 will not use cuDNN kernels since it doesn't meet the criteria. It will use a generic GPU kernel as fallback when running on GPU.\n"
     ]
    },
    {
     "name": "stdout",
     "output_type": "stream",
     "text": [
      "| \u001b[0m81       \u001b[0m | \u001b[0m1.89     \u001b[0m | \u001b[0m0.8284   \u001b[0m | \u001b[0m1.408    \u001b[0m | \u001b[0m1.004e+03\u001b[0m | \u001b[0m17.92    \u001b[0m |\n",
      "Epoch 1/5\n",
      "502/502 [==============================] - 11s 14ms/step - loss: 1.8226 - mean_squared_error: 1.8226 - val_loss: 1.1313 - val_mean_squared_error: 1.1313\n",
      "Epoch 2/5\n",
      "502/502 [==============================] - 7s 13ms/step - loss: 1.2109 - mean_squared_error: 1.2109 - val_loss: 0.9186 - val_mean_squared_error: 0.9186\n",
      "Epoch 3/5\n",
      "502/502 [==============================] - 7s 13ms/step - loss: 1.0601 - mean_squared_error: 1.0601 - val_loss: 0.8649 - val_mean_squared_error: 0.8649\n",
      "Epoch 4/5\n",
      "502/502 [==============================] - 7s 14ms/step - loss: 1.0108 - mean_squared_error: 1.0108 - val_loss: 0.8562 - val_mean_squared_error: 0.8562\n",
      "Epoch 5/5\n",
      "502/502 [==============================] - 6s 12ms/step - loss: 0.9704 - mean_squared_error: 0.9704 - val_loss: 0.8214 - val_mean_squared_error: 0.8214\n",
      "2657/2657 [==============================] - 9s 4ms/step - loss: 5.5744 - mean_squared_error: 5.5744\n",
      "| \u001b[0m82       \u001b[0m | \u001b[0m5.574    \u001b[0m | \u001b[0m0.7529   \u001b[0m | \u001b[0m0.1655   \u001b[0m | \u001b[0m543.1    \u001b[0m | \u001b[0m15.56    \u001b[0m |\n"
     ]
    },
    {
     "name": "stderr",
     "output_type": "stream",
     "text": [
      "WARNING:tensorflow:Layer lstm_249 will not use cuDNN kernels since it doesn't meet the criteria. It will use a generic GPU kernel as fallback when running on GPU.\n"
     ]
    },
    {
     "name": "stdout",
     "output_type": "stream",
     "text": [
      "Epoch 1/5\n",
      "384/384 [==============================] - 15s 20ms/step - loss: 1.7270 - mean_squared_error: 1.7270 - val_loss: 1.0204 - val_mean_squared_error: 1.0204\n",
      "Epoch 2/5\n",
      "384/384 [==============================] - 5s 14ms/step - loss: 1.0967 - mean_squared_error: 1.0967 - val_loss: 0.8578 - val_mean_squared_error: 0.8578\n",
      "Epoch 3/5\n",
      "384/384 [==============================] - 7s 18ms/step - loss: 1.0092 - mean_squared_error: 1.0092 - val_loss: 0.8081 - val_mean_squared_error: 0.8081\n",
      "Epoch 4/5\n",
      "384/384 [==============================] - 5s 14ms/step - loss: 0.9495 - mean_squared_error: 0.9495 - val_loss: 0.7839 - val_mean_squared_error: 0.7839\n",
      "Epoch 5/5\n",
      "384/384 [==============================] - 6s 15ms/step - loss: 0.9040 - mean_squared_error: 0.9040 - val_loss: 0.7504 - val_mean_squared_error: 0.7504\n",
      "2657/2657 [==============================] - 10s 4ms/step - loss: 2.1973 - mean_squared_error: 2.1973\n",
      "| \u001b[0m83       \u001b[0m | \u001b[0m2.197    \u001b[0m | \u001b[0m0.8361   \u001b[0m | \u001b[0m1.92     \u001b[0m | \u001b[0m710.9    \u001b[0m | \u001b[0m15.65    \u001b[0m |\n"
     ]
    },
    {
     "name": "stderr",
     "output_type": "stream",
     "text": [
      "WARNING:tensorflow:Layer lstm_252 will not use cuDNN kernels since it doesn't meet the criteria. It will use a generic GPU kernel as fallback when running on GPU.\n"
     ]
    },
    {
     "name": "stdout",
     "output_type": "stream",
     "text": [
      "Epoch 1/5\n",
      "376/376 [==============================] - 15s 18ms/step - loss: 1.4296 - mean_squared_error: 1.4296 - val_loss: 0.8646 - val_mean_squared_error: 0.8646\n",
      "Epoch 2/5\n",
      "376/376 [==============================] - 7s 20ms/step - loss: 0.9145 - mean_squared_error: 0.9145 - val_loss: 0.7892 - val_mean_squared_error: 0.7892\n",
      "Epoch 3/5\n",
      "376/376 [==============================] - 6s 15ms/step - loss: 0.8543 - mean_squared_error: 0.8543 - val_loss: 0.7520 - val_mean_squared_error: 0.7520\n",
      "Epoch 4/5\n",
      "376/376 [==============================] - 8s 20ms/step - loss: 0.8092 - mean_squared_error: 0.8092 - val_loss: 0.7171 - val_mean_squared_error: 0.7171\n",
      "Epoch 5/5\n",
      "376/376 [==============================] - 6s 16ms/step - loss: 0.7757 - mean_squared_error: 0.7757 - val_loss: 0.6905 - val_mean_squared_error: 0.6905\n",
      "2657/2657 [==============================] - 12s 5ms/step - loss: 1.2245 - mean_squared_error: 1.2245\n",
      "| \u001b[0m84       \u001b[0m | \u001b[0m1.224    \u001b[0m | \u001b[0m0.7596   \u001b[0m | \u001b[0m2.768    \u001b[0m | \u001b[0m725.8    \u001b[0m | \u001b[0m13.26    \u001b[0m |\n"
     ]
    },
    {
     "name": "stderr",
     "output_type": "stream",
     "text": [
      "WARNING:tensorflow:Layer lstm_256 will not use cuDNN kernels since it doesn't meet the criteria. It will use a generic GPU kernel as fallback when running on GPU.\n"
     ]
    },
    {
     "name": "stdout",
     "output_type": "stream",
     "text": [
      "Epoch 1/5\n",
      "508/508 [==============================] - 20s 21ms/step - loss: 1.2926 - mean_squared_error: 1.2926 - val_loss: 0.8403 - val_mean_squared_error: 0.8403\n",
      "Epoch 2/5\n",
      "508/508 [==============================] - 10s 19ms/step - loss: 0.8658 - mean_squared_error: 0.8658 - val_loss: 0.7674 - val_mean_squared_error: 0.7674\n",
      "Epoch 3/5\n",
      "508/508 [==============================] - 10s 20ms/step - loss: 0.8047 - mean_squared_error: 0.8047 - val_loss: 0.7216 - val_mean_squared_error: 0.7216\n",
      "Epoch 4/5\n",
      "508/508 [==============================] - 9s 17ms/step - loss: 0.7513 - mean_squared_error: 0.7513 - val_loss: 0.6746 - val_mean_squared_error: 0.6746\n",
      "Epoch 5/5\n",
      "508/508 [==============================] - 11s 21ms/step - loss: 0.7166 - mean_squared_error: 0.7166 - val_loss: 0.6640 - val_mean_squared_error: 0.6640\n",
      "2657/2657 [==============================] - 13s 5ms/step - loss: 1.9179 - mean_squared_error: 1.9179\n",
      "| \u001b[0m85       \u001b[0m | \u001b[0m1.918    \u001b[0m | \u001b[0m0.6858   \u001b[0m | \u001b[0m2.044    \u001b[0m | \u001b[0m536.6    \u001b[0m | \u001b[0m13.56    \u001b[0m |\n"
     ]
    },
    {
     "name": "stderr",
     "output_type": "stream",
     "text": [
      "WARNING:tensorflow:Layer lstm_260 will not use cuDNN kernels since it doesn't meet the criteria. It will use a generic GPU kernel as fallback when running on GPU.\n"
     ]
    },
    {
     "name": "stdout",
     "output_type": "stream",
     "text": [
      "Epoch 1/5\n",
      "524/524 [==============================] - 13s 18ms/step - loss: 1.6659 - mean_squared_error: 1.6659 - val_loss: 1.0974 - val_mean_squared_error: 1.0974\n",
      "Epoch 2/5\n",
      "524/524 [==============================] - 6s 12ms/step - loss: 1.0655 - mean_squared_error: 1.0655 - val_loss: 0.8874 - val_mean_squared_error: 0.8874\n",
      "Epoch 3/5\n",
      "524/524 [==============================] - 8s 15ms/step - loss: 0.9453 - mean_squared_error: 0.9453 - val_loss: 0.8261 - val_mean_squared_error: 0.8261\n",
      "Epoch 4/5\n",
      "524/524 [==============================] - 6s 12ms/step - loss: 0.8925 - mean_squared_error: 0.8925 - val_loss: 0.7924 - val_mean_squared_error: 0.7924\n",
      "Epoch 5/5\n",
      "524/524 [==============================] - 8s 15ms/step - loss: 0.8581 - mean_squared_error: 0.8581 - val_loss: 0.7746 - val_mean_squared_error: 0.7746\n",
      "2657/2657 [==============================] - 10s 4ms/step - loss: 1.1517 - mean_squared_error: 1.1517\n"
     ]
    },
    {
     "name": "stderr",
     "output_type": "stream",
     "text": [
      "WARNING:tensorflow:Layer lstm_262 will not use cuDNN kernels since it doesn't meet the criteria. It will use a generic GPU kernel as fallback when running on GPU.\n"
     ]
    },
    {
     "name": "stdout",
     "output_type": "stream",
     "text": [
      "| \u001b[0m86       \u001b[0m | \u001b[0m1.152    \u001b[0m | \u001b[0m0.5835   \u001b[0m | \u001b[0m0.6626   \u001b[0m | \u001b[0m520.9    \u001b[0m | \u001b[0m19.36    \u001b[0m |\n",
      "Epoch 1/5\n",
      "503/503 [==============================] - 12s 16ms/step - loss: 1.6435 - mean_squared_error: 1.6435 - val_loss: 1.0466 - val_mean_squared_error: 1.0466\n",
      "Epoch 2/5\n",
      "503/503 [==============================] - 6s 13ms/step - loss: 1.0378 - mean_squared_error: 1.0378 - val_loss: 0.8782 - val_mean_squared_error: 0.8782\n",
      "Epoch 3/5\n",
      "503/503 [==============================] - 8s 15ms/step - loss: 0.9433 - mean_squared_error: 0.9433 - val_loss: 0.8239 - val_mean_squared_error: 0.8239\n",
      "Epoch 4/5\n",
      "503/503 [==============================] - 6s 12ms/step - loss: 0.8942 - mean_squared_error: 0.8942 - val_loss: 0.7886 - val_mean_squared_error: 0.7886\n",
      "Epoch 5/5\n",
      "503/503 [==============================] - 8s 15ms/step - loss: 0.8516 - mean_squared_error: 0.8516 - val_loss: 0.7547 - val_mean_squared_error: 0.7547\n",
      "2657/2657 [==============================] - 9s 4ms/step - loss: 13.4236 - mean_squared_error: 13.4236\n",
      "| \u001b[0m87       \u001b[0m | \u001b[0m13.42    \u001b[0m | \u001b[0m0.6394   \u001b[0m | \u001b[0m0.8294   \u001b[0m | \u001b[0m542.3    \u001b[0m | \u001b[0m22.55    \u001b[0m |\n"
     ]
    },
    {
     "name": "stderr",
     "output_type": "stream",
     "text": [
      "WARNING:tensorflow:Layer lstm_264 will not use cuDNN kernels since it doesn't meet the criteria. It will use a generic GPU kernel as fallback when running on GPU.\n"
     ]
    },
    {
     "name": "stdout",
     "output_type": "stream",
     "text": [
      "Epoch 1/5\n",
      "274/274 [==============================] - 8s 14ms/step - loss: 2.1914 - mean_squared_error: 2.1914 - val_loss: 1.2838 - val_mean_squared_error: 1.2838\n",
      "Epoch 2/5\n",
      "274/274 [==============================] - 4s 16ms/step - loss: 1.2956 - mean_squared_error: 1.2956 - val_loss: 1.1018 - val_mean_squared_error: 1.1018\n",
      "Epoch 3/5\n",
      "274/274 [==============================] - 4s 15ms/step - loss: 1.1644 - mean_squared_error: 1.1644 - val_loss: 0.9776 - val_mean_squared_error: 0.9776\n",
      "Epoch 4/5\n",
      "274/274 [==============================] - 4s 14ms/step - loss: 1.0526 - mean_squared_error: 1.0526 - val_loss: 0.8942 - val_mean_squared_error: 0.8942\n",
      "Epoch 5/5\n",
      "274/274 [==============================] - 3s 12ms/step - loss: 0.9927 - mean_squared_error: 0.9927 - val_loss: 0.8624 - val_mean_squared_error: 0.8624\n",
      "2657/2657 [==============================] - 10s 4ms/step - loss: 1.7370 - mean_squared_error: 1.7370\n"
     ]
    },
    {
     "name": "stderr",
     "output_type": "stream",
     "text": [
      "WARNING:tensorflow:Layer lstm_266 will not use cuDNN kernels since it doesn't meet the criteria. It will use a generic GPU kernel as fallback when running on GPU.\n"
     ]
    },
    {
     "name": "stdout",
     "output_type": "stream",
     "text": [
      "| \u001b[0m88       \u001b[0m | \u001b[0m1.737    \u001b[0m | \u001b[0m0.6136   \u001b[0m | \u001b[0m0.147    \u001b[0m | \u001b[0m995.8    \u001b[0m | \u001b[0m16.67    \u001b[0m |\n",
      "Epoch 1/5\n",
      "272/272 [==============================] - 13s 18ms/step - loss: 1.8861 - mean_squared_error: 1.8861 - val_loss: 1.1658 - val_mean_squared_error: 1.1658\n",
      "Epoch 2/5\n",
      "272/272 [==============================] - 4s 15ms/step - loss: 1.1040 - mean_squared_error: 1.1040 - val_loss: 0.8661 - val_mean_squared_error: 0.8661\n",
      "Epoch 3/5\n",
      "272/272 [==============================] - 5s 18ms/step - loss: 0.9447 - mean_squared_error: 0.9447 - val_loss: 0.8019 - val_mean_squared_error: 0.8019\n",
      "Epoch 4/5\n",
      "272/272 [==============================] - 4s 14ms/step - loss: 0.8969 - mean_squared_error: 0.8969 - val_loss: 0.7762 - val_mean_squared_error: 0.7762\n",
      "Epoch 5/5\n",
      "272/272 [==============================] - 4s 14ms/step - loss: 0.8699 - mean_squared_error: 0.8699 - val_loss: 0.7638 - val_mean_squared_error: 0.7638\n",
      "2657/2657 [==============================] - 11s 4ms/step - loss: 1.2603 - mean_squared_error: 1.2603\n"
     ]
    },
    {
     "name": "stderr",
     "output_type": "stream",
     "text": [
      "WARNING:tensorflow:Layer lstm_269 will not use cuDNN kernels since it doesn't meet the criteria. It will use a generic GPU kernel as fallback when running on GPU.\n"
     ]
    },
    {
     "name": "stdout",
     "output_type": "stream",
     "text": [
      "| \u001b[0m89       \u001b[0m | \u001b[0m1.26     \u001b[0m | \u001b[0m0.6705   \u001b[0m | \u001b[0m1.896    \u001b[0m | \u001b[0m1.002e+03\u001b[0m | \u001b[0m12.96    \u001b[0m |\n",
      "Epoch 1/5\n",
      "348/348 [==============================] - 16s 24ms/step - loss: 1.3204 - mean_squared_error: 1.3204 - val_loss: 0.8408 - val_mean_squared_error: 0.8408\n",
      "Epoch 2/5\n",
      "348/348 [==============================] - 5s 16ms/step - loss: 0.8350 - mean_squared_error: 0.8350 - val_loss: 0.7663 - val_mean_squared_error: 0.7663\n",
      "Epoch 3/5\n",
      "348/348 [==============================] - 7s 19ms/step - loss: 0.7755 - mean_squared_error: 0.7755 - val_loss: 0.7464 - val_mean_squared_error: 0.7464\n",
      "Epoch 4/5\n",
      "348/348 [==============================] - 6s 16ms/step - loss: 0.7337 - mean_squared_error: 0.7337 - val_loss: 0.6920 - val_mean_squared_error: 0.6920\n",
      "Epoch 5/5\n",
      "348/348 [==============================] - 6s 18ms/step - loss: 0.7013 - mean_squared_error: 0.7013 - val_loss: 0.6564 - val_mean_squared_error: 0.6564\n",
      "2657/2657 [==============================] - 13s 5ms/step - loss: 3.6904 - mean_squared_error: 3.6904\n",
      "| \u001b[0m90       \u001b[0m | \u001b[0m3.69     \u001b[0m | \u001b[0m0.6007   \u001b[0m | \u001b[0m2.933    \u001b[0m | \u001b[0m784.5    \u001b[0m | \u001b[0m19.87    \u001b[0m |\n"
     ]
    },
    {
     "name": "stderr",
     "output_type": "stream",
     "text": [
      "WARNING:tensorflow:Layer lstm_273 will not use cuDNN kernels since it doesn't meet the criteria. It will use a generic GPU kernel as fallback when running on GPU.\n"
     ]
    },
    {
     "name": "stdout",
     "output_type": "stream",
     "text": [
      "Epoch 1/5\n",
      "298/298 [==============================] - 12s 20ms/step - loss: 1.7098 - mean_squared_error: 1.7098 - val_loss: 1.0104 - val_mean_squared_error: 1.0104\n",
      "Epoch 2/5\n",
      "298/298 [==============================] - 4s 14ms/step - loss: 1.0473 - mean_squared_error: 1.0473 - val_loss: 0.8516 - val_mean_squared_error: 0.8516\n",
      "Epoch 3/5\n",
      "298/298 [==============================] - 5s 17ms/step - loss: 0.9695 - mean_squared_error: 0.9695 - val_loss: 0.8074 - val_mean_squared_error: 0.8074\n",
      "Epoch 4/5\n",
      "298/298 [==============================] - 5s 16ms/step - loss: 0.9241 - mean_squared_error: 0.9241 - val_loss: 0.7747 - val_mean_squared_error: 0.7747\n",
      "Epoch 5/5\n",
      "298/298 [==============================] - 4s 14ms/step - loss: 0.8804 - mean_squared_error: 0.8804 - val_loss: 0.7445 - val_mean_squared_error: 0.7445\n",
      "2657/2657 [==============================] - 11s 4ms/step - loss: 1.2543 - mean_squared_error: 1.2543\n",
      "| \u001b[0m91       \u001b[0m | \u001b[0m1.254    \u001b[0m | \u001b[0m0.826    \u001b[0m | \u001b[0m1.311    \u001b[0m | \u001b[0m914.2    \u001b[0m | \u001b[0m20.31    \u001b[0m |\n"
     ]
    },
    {
     "name": "stderr",
     "output_type": "stream",
     "text": [
      "WARNING:tensorflow:Layer lstm_276 will not use cuDNN kernels since it doesn't meet the criteria. It will use a generic GPU kernel as fallback when running on GPU.\n"
     ]
    },
    {
     "name": "stdout",
     "output_type": "stream",
     "text": [
      "Epoch 1/5\n",
      "342/342 [==============================] - 10s 13ms/step - loss: 2.1098 - mean_squared_error: 2.1098 - val_loss: 1.2716 - val_mean_squared_error: 1.2716\n",
      "Epoch 2/5\n",
      "342/342 [==============================] - 4s 12ms/step - loss: 1.4892 - mean_squared_error: 1.4892 - val_loss: 1.1484 - val_mean_squared_error: 1.1484\n",
      "Epoch 3/5\n",
      "342/342 [==============================] - 6s 17ms/step - loss: 1.3489 - mean_squared_error: 1.3489 - val_loss: 1.0210 - val_mean_squared_error: 1.0210\n",
      "Epoch 4/5\n",
      "342/342 [==============================] - 4s 13ms/step - loss: 1.2011 - mean_squared_error: 1.2011 - val_loss: 0.9369 - val_mean_squared_error: 0.9369\n",
      "Epoch 5/5\n",
      "342/342 [==============================] - 4s 12ms/step - loss: 1.1254 - mean_squared_error: 1.1254 - val_loss: 0.9027 - val_mean_squared_error: 0.9027\n",
      "2657/2657 [==============================] - 10s 4ms/step - loss: 1.2537 - mean_squared_error: 1.2537\n",
      "| \u001b[0m92       \u001b[0m | \u001b[0m1.254    \u001b[0m | \u001b[0m0.8435   \u001b[0m | \u001b[0m0.2352   \u001b[0m | \u001b[0m796.4    \u001b[0m | \u001b[0m16.71    \u001b[0m |\n"
     ]
    },
    {
     "name": "stderr",
     "output_type": "stream",
     "text": [
      "WARNING:tensorflow:Layer lstm_278 will not use cuDNN kernels since it doesn't meet the criteria. It will use a generic GPU kernel as fallback when running on GPU.\n"
     ]
    },
    {
     "name": "stdout",
     "output_type": "stream",
     "text": [
      "Epoch 1/5\n",
      "287/287 [==============================] - 14s 20ms/step - loss: 1.5960 - mean_squared_error: 1.5960 - val_loss: 0.8799 - val_mean_squared_error: 0.8799\n",
      "Epoch 2/5\n",
      "287/287 [==============================] - 7s 24ms/step - loss: 0.9119 - mean_squared_error: 0.9119 - val_loss: 0.7963 - val_mean_squared_error: 0.7963\n",
      "Epoch 3/5\n",
      "287/287 [==============================] - 5s 17ms/step - loss: 0.8375 - mean_squared_error: 0.8375 - val_loss: 0.7402 - val_mean_squared_error: 0.7402\n",
      "Epoch 4/5\n",
      "287/287 [==============================] - 5s 16ms/step - loss: 0.8009 - mean_squared_error: 0.8009 - val_loss: 0.7158 - val_mean_squared_error: 0.7158\n",
      "Epoch 5/5\n",
      "287/287 [==============================] - 6s 22ms/step - loss: 0.7733 - mean_squared_error: 0.7733 - val_loss: 0.6867 - val_mean_squared_error: 0.6867\n",
      "2657/2657 [==============================] - 13s 5ms/step - loss: 1.6433 - mean_squared_error: 1.6433\n"
     ]
    },
    {
     "name": "stderr",
     "output_type": "stream",
     "text": [
      "WARNING:tensorflow:Layer lstm_282 will not use cuDNN kernels since it doesn't meet the criteria. It will use a generic GPU kernel as fallback when running on GPU.\n"
     ]
    },
    {
     "name": "stdout",
     "output_type": "stream",
     "text": [
      "| \u001b[0m93       \u001b[0m | \u001b[0m1.643    \u001b[0m | \u001b[0m0.731    \u001b[0m | \u001b[0m2.197    \u001b[0m | \u001b[0m950.0    \u001b[0m | \u001b[0m12.32    \u001b[0m |\n",
      "Epoch 1/5\n",
      "419/419 [==============================] - 18s 22ms/step - loss: 1.2150 - mean_squared_error: 1.2150 - val_loss: 0.8166 - val_mean_squared_error: 0.8166\n",
      "Epoch 2/5\n",
      "419/419 [==============================] - 7s 16ms/step - loss: 0.7974 - mean_squared_error: 0.7974 - val_loss: 0.7282 - val_mean_squared_error: 0.7282\n",
      "Epoch 3/5\n",
      "419/419 [==============================] - 8s 20ms/step - loss: 0.7304 - mean_squared_error: 0.7304 - val_loss: 0.6954 - val_mean_squared_error: 0.6954\n",
      "Epoch 4/5\n",
      "419/419 [==============================] - 7s 16ms/step - loss: 0.6868 - mean_squared_error: 0.6868 - val_loss: 0.6401 - val_mean_squared_error: 0.6401\n",
      "Epoch 5/5\n",
      "419/419 [==============================] - 9s 20ms/step - loss: 0.6523 - mean_squared_error: 0.6523 - val_loss: 0.6095 - val_mean_squared_error: 0.6095\n",
      "2657/2657 [==============================] - 13s 5ms/step - loss: 4.2834 - mean_squared_error: 4.2834\n",
      "| \u001b[0m94       \u001b[0m | \u001b[0m4.283    \u001b[0m | \u001b[0m0.6574   \u001b[0m | \u001b[0m2.558    \u001b[0m | \u001b[0m651.7    \u001b[0m | \u001b[0m22.66    \u001b[0m |\n"
     ]
    },
    {
     "name": "stderr",
     "output_type": "stream",
     "text": [
      "WARNING:tensorflow:Layer lstm_286 will not use cuDNN kernels since it doesn't meet the criteria. It will use a generic GPU kernel as fallback when running on GPU.\n"
     ]
    },
    {
     "name": "stdout",
     "output_type": "stream",
     "text": [
      "Epoch 1/5\n",
      "316/316 [==============================] - 10s 19ms/step - loss: 2.1102 - mean_squared_error: 2.1102 - val_loss: 1.3280 - val_mean_squared_error: 1.3280\n",
      "Epoch 2/5\n",
      "316/316 [==============================] - 4s 12ms/step - loss: 1.3169 - mean_squared_error: 1.3169 - val_loss: 1.0686 - val_mean_squared_error: 1.0686\n",
      "Epoch 3/5\n",
      "316/316 [==============================] - 4s 12ms/step - loss: 1.1143 - mean_squared_error: 1.1143 - val_loss: 0.9008 - val_mean_squared_error: 0.9008\n",
      "Epoch 4/5\n",
      "316/316 [==============================] - 6s 18ms/step - loss: 1.0016 - mean_squared_error: 1.0016 - val_loss: 0.8388 - val_mean_squared_error: 0.8388\n",
      "Epoch 5/5\n",
      "316/316 [==============================] - 4s 13ms/step - loss: 0.9622 - mean_squared_error: 0.9622 - val_loss: 0.8186 - val_mean_squared_error: 0.8186\n",
      "2657/2657 [==============================] - 10s 4ms/step - loss: 7.5768 - mean_squared_error: 7.5768\n"
     ]
    },
    {
     "name": "stderr",
     "output_type": "stream",
     "text": [
      "WARNING:tensorflow:Layer lstm_288 will not use cuDNN kernels since it doesn't meet the criteria. It will use a generic GPU kernel as fallback when running on GPU.\n"
     ]
    },
    {
     "name": "stdout",
     "output_type": "stream",
     "text": [
      "| \u001b[0m95       \u001b[0m | \u001b[0m7.577    \u001b[0m | \u001b[0m0.6042   \u001b[0m | \u001b[0m0.4998   \u001b[0m | \u001b[0m863.7    \u001b[0m | \u001b[0m13.56    \u001b[0m |\n",
      "Epoch 1/5\n",
      "272/272 [==============================] - 15s 21ms/step - loss: 1.4615 - mean_squared_error: 1.4615 - val_loss: 0.8863 - val_mean_squared_error: 0.8863\n",
      "Epoch 2/5\n",
      "272/272 [==============================] - 6s 23ms/step - loss: 0.8820 - mean_squared_error: 0.8820 - val_loss: 0.8080 - val_mean_squared_error: 0.8080\n",
      "Epoch 3/5\n",
      "272/272 [==============================] - 4s 16ms/step - loss: 0.8212 - mean_squared_error: 0.8212 - val_loss: 0.7522 - val_mean_squared_error: 0.7522\n",
      "Epoch 4/5\n",
      "272/272 [==============================] - 4s 16ms/step - loss: 0.7719 - mean_squared_error: 0.7719 - val_loss: 0.7209 - val_mean_squared_error: 0.7209\n",
      "Epoch 5/5\n",
      "272/272 [==============================] - 6s 23ms/step - loss: 0.7339 - mean_squared_error: 0.7339 - val_loss: 0.6778 - val_mean_squared_error: 0.6778\n",
      "2657/2657 [==============================] - 13s 5ms/step - loss: 3.9024 - mean_squared_error: 3.9024\n"
     ]
    },
    {
     "name": "stderr",
     "output_type": "stream",
     "text": [
      "WARNING:tensorflow:Layer lstm_292 will not use cuDNN kernels since it doesn't meet the criteria. It will use a generic GPU kernel as fallback when running on GPU.\n"
     ]
    },
    {
     "name": "stdout",
     "output_type": "stream",
     "text": [
      "| \u001b[0m96       \u001b[0m | \u001b[0m3.902    \u001b[0m | \u001b[0m0.6533   \u001b[0m | \u001b[0m2.875    \u001b[0m | \u001b[0m1.004e+03\u001b[0m | \u001b[0m18.37    \u001b[0m |\n",
      "Epoch 1/5\n",
      "317/317 [==============================] - 17s 23ms/step - loss: 1.3634 - mean_squared_error: 1.3634 - val_loss: 0.8478 - val_mean_squared_error: 0.8478\n",
      "Epoch 2/5\n",
      "317/317 [==============================] - 6s 18ms/step - loss: 0.8187 - mean_squared_error: 0.8187 - val_loss: 0.7497 - val_mean_squared_error: 0.7497\n",
      "Epoch 3/5\n",
      "317/317 [==============================] - 5s 16ms/step - loss: 0.7557 - mean_squared_error: 0.7557 - val_loss: 0.7189 - val_mean_squared_error: 0.7189\n",
      "Epoch 4/5\n",
      "317/317 [==============================] - 7s 21ms/step - loss: 0.7175 - mean_squared_error: 0.7175 - val_loss: 0.6746 - val_mean_squared_error: 0.6746\n",
      "Epoch 5/5\n",
      "317/317 [==============================] - 5s 16ms/step - loss: 0.6895 - mean_squared_error: 0.6895 - val_loss: 0.6587 - val_mean_squared_error: 0.6587\n",
      "2657/2657 [==============================] - 12s 5ms/step - loss: 2.1643 - mean_squared_error: 2.1643\n"
     ]
    },
    {
     "name": "stderr",
     "output_type": "stream",
     "text": [
      "WARNING:tensorflow:Layer lstm_296 will not use cuDNN kernels since it doesn't meet the criteria. It will use a generic GPU kernel as fallback when running on GPU.\n"
     ]
    },
    {
     "name": "stdout",
     "output_type": "stream",
     "text": [
      "| \u001b[0m97       \u001b[0m | \u001b[0m2.164    \u001b[0m | \u001b[0m0.5293   \u001b[0m | \u001b[0m2.926    \u001b[0m | \u001b[0m860.1    \u001b[0m | \u001b[0m19.22    \u001b[0m |\n",
      "Epoch 1/5\n",
      "317/317 [==============================] - 15s 24ms/step - loss: 1.3074 - mean_squared_error: 1.3074 - val_loss: 0.8336 - val_mean_squared_error: 0.8336\n",
      "Epoch 2/5\n",
      "317/317 [==============================] - 5s 15ms/step - loss: 0.8030 - mean_squared_error: 0.8030 - val_loss: 0.7382 - val_mean_squared_error: 0.7382\n",
      "Epoch 3/5\n",
      "317/317 [==============================] - 6s 20ms/step - loss: 0.7421 - mean_squared_error: 0.7421 - val_loss: 0.7010 - val_mean_squared_error: 0.7010\n",
      "Epoch 4/5\n",
      "317/317 [==============================] - 5s 15ms/step - loss: 0.7025 - mean_squared_error: 0.7025 - val_loss: 0.7070 - val_mean_squared_error: 0.7070\n",
      "Epoch 5/5\n",
      "317/317 [==============================] - 6s 18ms/step - loss: 0.6721 - mean_squared_error: 0.6721 - val_loss: 0.6550 - val_mean_squared_error: 0.6550\n",
      "2657/2657 [==============================] - 12s 5ms/step - loss: 2.8055 - mean_squared_error: 2.8055\n",
      "| \u001b[0m98       \u001b[0m | \u001b[0m2.806    \u001b[0m | \u001b[0m0.5212   \u001b[0m | \u001b[0m2.086    \u001b[0m | \u001b[0m861.1    \u001b[0m | \u001b[0m23.91    \u001b[0m |\n"
     ]
    },
    {
     "name": "stderr",
     "output_type": "stream",
     "text": [
      "WARNING:tensorflow:Layer lstm_300 will not use cuDNN kernels since it doesn't meet the criteria. It will use a generic GPU kernel as fallback when running on GPU.\n"
     ]
    },
    {
     "name": "stdout",
     "output_type": "stream",
     "text": [
      "Epoch 1/5\n",
      "299/299 [==============================] - 13s 17ms/step - loss: 1.7432 - mean_squared_error: 1.7432 - val_loss: 1.1080 - val_mean_squared_error: 1.1080\n",
      "Epoch 2/5\n",
      "299/299 [==============================] - 5s 17ms/step - loss: 1.0114 - mean_squared_error: 1.0114 - val_loss: 0.8679 - val_mean_squared_error: 0.8679\n",
      "Epoch 3/5\n",
      "299/299 [==============================] - 5s 17ms/step - loss: 0.9248 - mean_squared_error: 0.9248 - val_loss: 0.8317 - val_mean_squared_error: 0.8317\n",
      "Epoch 4/5\n",
      "299/299 [==============================] - 4s 15ms/step - loss: 0.8910 - mean_squared_error: 0.8910 - val_loss: 0.8004 - val_mean_squared_error: 0.8004\n",
      "Epoch 5/5\n",
      "299/299 [==============================] - 5s 18ms/step - loss: 0.8479 - mean_squared_error: 0.8479 - val_loss: 0.7625 - val_mean_squared_error: 0.7625\n",
      "2657/2657 [==============================] - 10s 4ms/step - loss: 1.5382 - mean_squared_error: 1.5382\n"
     ]
    },
    {
     "name": "stderr",
     "output_type": "stream",
     "text": [
      "WARNING:tensorflow:Layer lstm_303 will not use cuDNN kernels since it doesn't meet the criteria. It will use a generic GPU kernel as fallback when running on GPU.\n"
     ]
    },
    {
     "name": "stdout",
     "output_type": "stream",
     "text": [
      "| \u001b[0m99       \u001b[0m | \u001b[0m1.538    \u001b[0m | \u001b[0m0.615    \u001b[0m | \u001b[0m1.602    \u001b[0m | \u001b[0m912.2    \u001b[0m | \u001b[0m15.39    \u001b[0m |\n",
      "Epoch 1/5\n",
      "269/269 [==============================] - 10s 16ms/step - loss: 1.8683 - mean_squared_error: 1.8683 - val_loss: 1.1207 - val_mean_squared_error: 1.1207\n",
      "Epoch 2/5\n",
      "269/269 [==============================] - 5s 17ms/step - loss: 1.1117 - mean_squared_error: 1.1117 - val_loss: 0.8682 - val_mean_squared_error: 0.8682\n",
      "Epoch 3/5\n",
      "269/269 [==============================] - 4s 16ms/step - loss: 0.9923 - mean_squared_error: 0.9923 - val_loss: 0.8160 - val_mean_squared_error: 0.8160\n",
      "Epoch 4/5\n",
      "269/269 [==============================] - 4s 14ms/step - loss: 0.9482 - mean_squared_error: 0.9482 - val_loss: 0.7992 - val_mean_squared_error: 0.7992\n",
      "Epoch 5/5\n",
      "269/269 [==============================] - 4s 14ms/step - loss: 0.9214 - mean_squared_error: 0.9214 - val_loss: 0.7803 - val_mean_squared_error: 0.7803\n",
      "2657/2657 [==============================] - 11s 4ms/step - loss: 1.1202 - mean_squared_error: 1.1202\n"
     ]
    },
    {
     "name": "stderr",
     "output_type": "stream",
     "text": [
      "WARNING:tensorflow:Layer lstm_306 will not use cuDNN kernels since it doesn't meet the criteria. It will use a generic GPU kernel as fallback when running on GPU.\n"
     ]
    },
    {
     "name": "stdout",
     "output_type": "stream",
     "text": [
      "| \u001b[0m100      \u001b[0m | \u001b[0m1.12     \u001b[0m | \u001b[0m0.798    \u001b[0m | \u001b[0m1.565    \u001b[0m | \u001b[0m1.015e+03\u001b[0m | \u001b[0m16.69    \u001b[0m |\n",
      "Epoch 1/5\n",
      "333/333 [==============================] - 16s 24ms/step - loss: 1.4398 - mean_squared_error: 1.4398 - val_loss: 0.8436 - val_mean_squared_error: 0.8436\n",
      "Epoch 2/5\n",
      "333/333 [==============================] - 5s 16ms/step - loss: 0.9302 - mean_squared_error: 0.9302 - val_loss: 0.7608 - val_mean_squared_error: 0.7608\n",
      "Epoch 3/5\n",
      "333/333 [==============================] - 7s 21ms/step - loss: 0.8656 - mean_squared_error: 0.8656 - val_loss: 0.7287 - val_mean_squared_error: 0.7287\n",
      "Epoch 4/5\n",
      "333/333 [==============================] - 5s 15ms/step - loss: 0.8089 - mean_squared_error: 0.8089 - val_loss: 0.6745 - val_mean_squared_error: 0.6745\n",
      "Epoch 5/5\n",
      "333/333 [==============================] - 6s 19ms/step - loss: 0.7713 - mean_squared_error: 0.7713 - val_loss: 0.6420 - val_mean_squared_error: 0.6420\n",
      "2657/2657 [==============================] - 12s 5ms/step - loss: 3.6394 - mean_squared_error: 3.6394\n",
      "| \u001b[0m101      \u001b[0m | \u001b[0m3.639    \u001b[0m | \u001b[0m0.8956   \u001b[0m | \u001b[0m2.693    \u001b[0m | \u001b[0m819.0    \u001b[0m | \u001b[0m21.58    \u001b[0m |\n"
     ]
    },
    {
     "name": "stderr",
     "output_type": "stream",
     "text": [
      "WARNING:tensorflow:Layer lstm_310 will not use cuDNN kernels since it doesn't meet the criteria. It will use a generic GPU kernel as fallback when running on GPU.\n"
     ]
    },
    {
     "name": "stdout",
     "output_type": "stream",
     "text": [
      "Epoch 1/5\n",
      "517/517 [==============================] - 19s 19ms/step - loss: 1.2432 - mean_squared_error: 1.2432 - val_loss: 0.8109 - val_mean_squared_error: 0.8109\n",
      "Epoch 2/5\n",
      "517/517 [==============================] - 9s 18ms/step - loss: 0.8687 - mean_squared_error: 0.8687 - val_loss: 0.7334 - val_mean_squared_error: 0.7334\n",
      "Epoch 3/5\n",
      "517/517 [==============================] - 9s 18ms/step - loss: 0.7971 - mean_squared_error: 0.7971 - val_loss: 0.6688 - val_mean_squared_error: 0.6688\n",
      "Epoch 4/5\n",
      "517/517 [==============================] - 9s 17ms/step - loss: 0.7419 - mean_squared_error: 0.7419 - val_loss: 0.6367 - val_mean_squared_error: 0.6367\n",
      "Epoch 5/5\n",
      "517/517 [==============================] - 10s 18ms/step - loss: 0.6947 - mean_squared_error: 0.6947 - val_loss: 0.6217 - val_mean_squared_error: 0.6217\n",
      "2657/2657 [==============================] - 12s 5ms/step - loss: 2.1849 - mean_squared_error: 2.1849\n",
      "| \u001b[0m102      \u001b[0m | \u001b[0m2.185    \u001b[0m | \u001b[0m0.8797   \u001b[0m | \u001b[0m2.114    \u001b[0m | \u001b[0m527.9    \u001b[0m | \u001b[0m22.12    \u001b[0m |\n",
      "=========================================================================\n"
     ]
    }
   ],
   "source": [
    "bo.maximize(\n",
    "   init_points=2,\n",
    "   n_iter= 100\n",
    ")"
   ]
  },
  {
   "cell_type": "code",
   "execution_count": null,
   "metadata": {
    "colab": {
     "base_uri": "https://localhost:8080/"
    },
    "id": "K2QOJ-QrXZed",
    "outputId": "32c1b63f-fec7-4609-f4f2-0dd98562ed09"
   },
   "outputs": [
    {
     "data": {
      "text/plain": [
       "{'drop': 0.5233643407780469,\n",
       " 'hidden_layers': 0.38648080556972186,\n",
       " 'nb_batch': 793.7999516118144,\n",
       " 'neurons': 22.435416267184642}"
      ]
     },
     "execution_count": 61,
     "metadata": {},
     "output_type": "execute_result"
    }
   ],
   "source": [
    "best_param=bo.res[23]['params']\n",
    "best_param"
   ]
  },
  {
   "cell_type": "code",
   "execution_count": null,
   "metadata": {
    "colab": {
     "base_uri": "https://localhost:8080/",
     "height": 333
    },
    "id": "_lHj0WFZ5ibv",
    "outputId": "c5ebdcf1-f9e4-4409-da69-4a2ffd8766f0"
   },
   "outputs": [
    {
     "ename": "OSError",
     "evalue": "ignored",
     "output_type": "error",
     "traceback": [
      "\u001b[0;31m---------------------------------------------------------------------------\u001b[0m",
      "\u001b[0;31mOSError\u001b[0m                                   Traceback (most recent call last)",
      "\u001b[0;32m<ipython-input-60-0ea2a07df2aa>\u001b[0m in \u001b[0;36m<cell line: 1>\u001b[0;34m()\u001b[0m\n\u001b[0;32m----> 1\u001b[0;31m \u001b[0mreconstructed_model\u001b[0m \u001b[0;34m=\u001b[0m \u001b[0mkeras\u001b[0m\u001b[0;34m.\u001b[0m\u001b[0mmodels\u001b[0m\u001b[0;34m.\u001b[0m\u001b[0mload_model\u001b[0m\u001b[0;34m(\u001b[0m\u001b[0;34m\"./model/0.9612308144569397.h5\"\u001b[0m\u001b[0;34m)\u001b[0m\u001b[0;34m\u001b[0m\u001b[0;34m\u001b[0m\u001b[0m\n\u001b[0m",
      "\u001b[0;32m/usr/local/lib/python3.10/dist-packages/keras/saving/saving_api.py\u001b[0m in \u001b[0;36mload_model\u001b[0;34m(filepath, custom_objects, compile, safe_mode, **kwargs)\u001b[0m\n\u001b[1;32m    210\u001b[0m \u001b[0;34m\u001b[0m\u001b[0m\n\u001b[1;32m    211\u001b[0m     \u001b[0;31m# Legacy case.\u001b[0m\u001b[0;34m\u001b[0m\u001b[0;34m\u001b[0m\u001b[0m\n\u001b[0;32m--> 212\u001b[0;31m     return legacy_sm_saving_lib.load_model(\n\u001b[0m\u001b[1;32m    213\u001b[0m         \u001b[0mfilepath\u001b[0m\u001b[0;34m,\u001b[0m \u001b[0mcustom_objects\u001b[0m\u001b[0;34m=\u001b[0m\u001b[0mcustom_objects\u001b[0m\u001b[0;34m,\u001b[0m \u001b[0mcompile\u001b[0m\u001b[0;34m=\u001b[0m\u001b[0mcompile\u001b[0m\u001b[0;34m,\u001b[0m \u001b[0;34m**\u001b[0m\u001b[0mkwargs\u001b[0m\u001b[0;34m\u001b[0m\u001b[0;34m\u001b[0m\u001b[0m\n\u001b[1;32m    214\u001b[0m     )\n",
      "\u001b[0;32m/usr/local/lib/python3.10/dist-packages/keras/utils/traceback_utils.py\u001b[0m in \u001b[0;36merror_handler\u001b[0;34m(*args, **kwargs)\u001b[0m\n\u001b[1;32m     68\u001b[0m             \u001b[0;31m# To get the full stack trace, call:\u001b[0m\u001b[0;34m\u001b[0m\u001b[0;34m\u001b[0m\u001b[0m\n\u001b[1;32m     69\u001b[0m             \u001b[0;31m# `tf.debugging.disable_traceback_filtering()`\u001b[0m\u001b[0;34m\u001b[0m\u001b[0;34m\u001b[0m\u001b[0m\n\u001b[0;32m---> 70\u001b[0;31m             \u001b[0;32mraise\u001b[0m \u001b[0me\u001b[0m\u001b[0;34m.\u001b[0m\u001b[0mwith_traceback\u001b[0m\u001b[0;34m(\u001b[0m\u001b[0mfiltered_tb\u001b[0m\u001b[0;34m)\u001b[0m \u001b[0;32mfrom\u001b[0m \u001b[0;32mNone\u001b[0m\u001b[0;34m\u001b[0m\u001b[0;34m\u001b[0m\u001b[0m\n\u001b[0m\u001b[1;32m     71\u001b[0m         \u001b[0;32mfinally\u001b[0m\u001b[0;34m:\u001b[0m\u001b[0;34m\u001b[0m\u001b[0;34m\u001b[0m\u001b[0m\n\u001b[1;32m     72\u001b[0m             \u001b[0;32mdel\u001b[0m \u001b[0mfiltered_tb\u001b[0m\u001b[0;34m\u001b[0m\u001b[0;34m\u001b[0m\u001b[0m\n",
      "\u001b[0;32m/usr/local/lib/python3.10/dist-packages/keras/saving/legacy/save.py\u001b[0m in \u001b[0;36mload_model\u001b[0;34m(filepath, custom_objects, compile, options)\u001b[0m\n\u001b[1;32m    228\u001b[0m                     \u001b[0;32mif\u001b[0m \u001b[0misinstance\u001b[0m\u001b[0;34m(\u001b[0m\u001b[0mfilepath_str\u001b[0m\u001b[0;34m,\u001b[0m \u001b[0mstr\u001b[0m\u001b[0;34m)\u001b[0m\u001b[0;34m:\u001b[0m\u001b[0;34m\u001b[0m\u001b[0;34m\u001b[0m\u001b[0m\n\u001b[1;32m    229\u001b[0m                         \u001b[0;32mif\u001b[0m \u001b[0;32mnot\u001b[0m \u001b[0mtf\u001b[0m\u001b[0;34m.\u001b[0m\u001b[0mio\u001b[0m\u001b[0;34m.\u001b[0m\u001b[0mgfile\u001b[0m\u001b[0;34m.\u001b[0m\u001b[0mexists\u001b[0m\u001b[0;34m(\u001b[0m\u001b[0mfilepath_str\u001b[0m\u001b[0;34m)\u001b[0m\u001b[0;34m:\u001b[0m\u001b[0;34m\u001b[0m\u001b[0;34m\u001b[0m\u001b[0m\n\u001b[0;32m--> 230\u001b[0;31m                             raise IOError(\n\u001b[0m\u001b[1;32m    231\u001b[0m                                 \u001b[0;34mf\"No file or directory found at {filepath_str}\"\u001b[0m\u001b[0;34m\u001b[0m\u001b[0;34m\u001b[0m\u001b[0m\n\u001b[1;32m    232\u001b[0m                             )\n",
      "\u001b[0;31mOSError\u001b[0m: No file or directory found at ./model/0.9612308144569397.h5"
     ]
    }
   ],
   "source": [
    "reconstructed_model = keras.models.load_model(\"./model/0.9612308144569397.h5\")"
   ]
  },
  {
   "cell_type": "code",
   "execution_count": null,
   "metadata": {
    "id": "Wm20PozW5ibv"
   },
   "outputs": [],
   "source": [
    "Y_train_pred = reconstructed_model.predict(X_train)"
   ]
  },
  {
   "cell_type": "code",
   "execution_count": null,
   "metadata": {
    "id": "LA5_4huR5ibw"
   },
   "outputs": [],
   "source": [
    "Y_test_pred = reconstructed_model.predict(X_test)"
   ]
  },
  {
   "cell_type": "code",
   "execution_count": null,
   "metadata": {
    "id": "LpgJ4UVq5ibw"
   },
   "outputs": [],
   "source": [
    "print(X_test.shape,X_train.shape,y_test.shape,y_train.shape )"
   ]
  },
  {
   "cell_type": "code",
   "execution_count": null,
   "metadata": {
    "id": "JOhATDgD5ibw"
   },
   "outputs": [],
   "source": [
    "y_test=y_test.reshape(-1,1)"
   ]
  },
  {
   "cell_type": "code",
   "execution_count": null,
   "metadata": {
    "id": "0QWZCcrC5ibx"
   },
   "outputs": [],
   "source": [
    "y_train=y_train.reshape(-1,1)"
   ]
  },
  {
   "cell_type": "code",
   "execution_count": null,
   "metadata": {
    "id": "VO6v51XE5ibx"
   },
   "outputs": [],
   "source": [
    "import matplotlib.pyplot as plt\n",
    "def evaluation(Y_real, Y_pred, graph_on=False):\n",
    "    loss_length = len(Y_real.values.flatten()) - len(Y_pred)\n",
    "    if loss_length != 0:\n",
    "        Y_real = Y_real[loss_length:]\n",
    "    if graph_on == True:\n",
    "        pd.concat([Y_real, pd.DataFrame(Y_pred, index=Y_real.index, columns=['prediction'])], axis=1).plot(kind='line', figsize=(20,6),\n",
    "                                                                                                           xlim=(Y_real.index.min(),Y_real.index.max()),\n",
    "                                                                                                           linewidth=3, fontsize=20)\n",
    "        plt.title('Time Series of Target', fontsize=20)\n",
    "        plt.xlabel('Index', fontsize=15)\n",
    "        plt.ylabel('Target Value', fontsize=15)\n",
    "    MAE = abs(Y_real.values.flatten() - Y_pred).mean()\n",
    "    MSE = ((Y_real.values.flatten() - Y_pred)**2).mean()\n",
    "    MAPE = (abs(Y_real.values.flatten() - Y_pred)/Y_real.values.flatten()*100).mean()\n",
    "    Score = pd.DataFrame([MAE, MSE, MAPE], index=['MAE', 'MSE', 'MAPE'], columns=['Score']).T\n",
    "    Residual = pd.DataFrame(Y_real.values.flatten() - Y_pred, index=Y_real.index, columns=['Error'])\n",
    "    return Score, Residual\n",
    "\n",
    "def evaluation_trte(Y_real_tr, Y_pred_tr, Y_real_te, Y_pred_te, graph_on=False):\n",
    "    Score_tr, Residual_tr = evaluation(Y_real_tr, Y_pred_tr, graph_on=graph_on)\n",
    "    Score_te, Residual_te = evaluation(Y_real_te, Y_pred_te, graph_on=graph_on)\n",
    "    Score_trte = pd.concat([Score_tr, Score_te], axis=0)\n",
    "    Score_trte.index = ['Train', 'Test']\n",
    "    return Score_trte, Residual_tr, Residual_te"
   ]
  },
  {
   "cell_type": "code",
   "execution_count": null,
   "metadata": {
    "id": "ZcpAuNv65ibx"
   },
   "outputs": [],
   "source": [
    "Score_GRU, Residual_tr, Residual_te = evaluation_trte(pd.DataFrame(y_train), Y_train_pred.flatten(), pd.DataFrame(y_test), Y_test_pred.flatten(), graph_on=True)"
   ]
  },
  {
   "cell_type": "code",
   "execution_count": null,
   "metadata": {
    "id": "a5UUTbCI5iby"
   },
   "outputs": [],
   "source": [
    "display(Score_GRU)"
   ]
  },
  {
   "cell_type": "code",
   "execution_count": null,
   "metadata": {
    "id": "BVPy4_oM5iby"
   },
   "outputs": [],
   "source": []
  },
  {
   "cell_type": "code",
   "execution_count": null,
   "metadata": {
    "id": "ARn4cN-n5iby"
   },
   "outputs": [],
   "source": [
    "# nb_epoch=5\n",
    "# neurons=3\n",
    "# hidden_layers=3\n",
    "# drop=0.5\n",
    "# nb_batch=500\n",
    "\n",
    "# # input layer\n",
    "# inputs = tf.keras.Input(shape=(1,12))\n",
    "# x = tf.keras.layers.GRU(neurons*(2**(hidden_layers+1)), return_sequences=True, recurrent_dropout=0.2, activation='relu')(inputs)  \n",
    "\n",
    "# if hidden_layers !=0:\n",
    "#     for i in range(1,hidden_layers+1):\n",
    "#         x = tf.keras.layers.GRU(neurons*(2**(hidden_layers+1)), return_sequences=True, activation='relu')(x)\n",
    "# x = tf.keras.layers.GRU(neurons*(2**(hidden_layers+1)),return_sequences=False, activation='relu')(inputs)        \n",
    "# x = tf.keras.layers.Dropout(drop)(x)\n",
    "\n",
    "\n",
    "# # output\n",
    "# predictions = Dense(1)(x)\n",
    "\n",
    "\n",
    "# # modeling\n",
    "# model = tf.keras.Model(inputs=inputs, outputs=predictions)\n",
    "# model.compile(optimizer='adam', loss='mean_squared_error', metrics=['mean_squared_error'])\n",
    "# early_stopping = tf.keras.callbacks.EarlyStopping(monitor='val_loss',mode=\"min\",patience=3,restore_best_weights=True, verbose=1)\n",
    "\n",
    "\n",
    "\n",
    "# # learning\n",
    "# model.fit(X_train, y_train, epochs=int(nb_epoch), batch_size=int(nb_batch),callbacks=[early_stopping], validation_data=(X_valid, y_valid))\n"
   ]
  },
  {
   "cell_type": "code",
   "execution_count": null,
   "metadata": {
    "id": "1suN15w25ibz"
   },
   "outputs": [],
   "source": [
    "# a,b=model.evaluate(X_test, y_test)"
   ]
  },
  {
   "cell_type": "code",
   "execution_count": null,
   "metadata": {
    "id": "-DKBRd335ibz"
   },
   "outputs": [],
   "source": [
    "# los_test"
   ]
  }
 ],
 "metadata": {
  "accelerator": "GPU",
  "colab": {
   "gpuType": "T4",
   "provenance": []
  },
  "kernelspec": {
   "display_name": "Python 3 (ipykernel)",
   "language": "python",
   "name": "python3"
  },
  "language_info": {
   "codemirror_mode": {
    "name": "ipython",
    "version": 3
   },
   "file_extension": ".py",
   "mimetype": "text/x-python",
   "name": "python",
   "nbconvert_exporter": "python",
   "pygments_lexer": "ipython3",
   "version": "3.7.16"
  }
 },
 "nbformat": 4,
 "nbformat_minor": 1
}
